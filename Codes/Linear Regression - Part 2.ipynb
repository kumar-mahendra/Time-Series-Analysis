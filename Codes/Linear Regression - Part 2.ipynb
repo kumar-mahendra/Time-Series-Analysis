{
 "cells": [
  {
   "cell_type": "code",
   "execution_count": 1,
   "id": "3c378ec1",
   "metadata": {},
   "outputs": [],
   "source": [
    "import pandas as pd \n",
    "import numpy as np \n",
    "import json\n",
    "import matplotlib.pyplot as plt\n",
    "from sklearn.preprocessing import MinMaxScaler\n",
    "from sklearn.linear_model import LinearRegression\n",
    "from statsmodels.tsa.statespace.sarimax import SARIMAX\n",
    "from statsmodels.graphics.tsaplots import plot_acf\n",
    "from statsmodels.tsa.seasonal import seasonal_decompose\n",
    "from sklearn.model_selection import train_test_split\n",
    "from tqdm import tqdm \n",
    "from sklearn.metrics import mean_squared_error\n"
   ]
  },
  {
   "cell_type": "code",
   "execution_count": 2,
   "id": "01d59827",
   "metadata": {},
   "outputs": [],
   "source": [
    "# load data \n",
    "mbd_data = pd.read_csv('./outputs/mbd_data.csv')\n",
    "clusters = json.loads(open('./outputs/clusters.json',\"r\").read())\n",
    "cluster_keys = [\"0\",\"1\",\"2\",\"3\",\"4\",\"5\",\"6\",\"-1\"]\n",
    "mbd_data = mbd_data.sort_values(by=[\"cfips\",\"first_day_of_month\"]).reset_index(drop=True)\n",
    "mbd_data.median_hh_inc.ffill(inplace=True)\n",
    "mbd_data.pct_it_workers.ffill(inplace=True)\n",
    "\n",
    "sc = MinMaxScaler()\n",
    "mbd_data.median_hh_inc = sc.fit_transform( mbd_data.median_hh_inc.values.reshape(-1,1) ).reshape(-1)\n",
    "\n",
    "cfips = mbd_data.cfips.unique()"
   ]
  },
  {
   "cell_type": "code",
   "execution_count": 37,
   "id": "4d971b63",
   "metadata": {},
   "outputs": [
    {
     "data": {
      "text/plain": [
       "pct_bb_2017              0\n",
       "pct_bb_2018              0\n",
       "pct_bb_2019              0\n",
       "pct_bb_2020              0\n",
       "pct_bb_2021              0\n",
       "cfips                    0\n",
       "pct_college_2017         0\n",
       "pct_college_2018         0\n",
       "pct_college_2019         0\n",
       "pct_college_2020         0\n",
       "pct_college_2021         0\n",
       "pct_foreign_born_2017    0\n",
       "pct_foreign_born_2018    0\n",
       "pct_foreign_born_2019    0\n",
       "pct_foreign_born_2020    0\n",
       "pct_foreign_born_2021    0\n",
       "pct_it_workers_2017      0\n",
       "pct_it_workers_2018      0\n",
       "pct_it_workers_2019      0\n",
       "pct_it_workers_2020      0\n",
       "pct_it_workers_2021      0\n",
       "median_hh_inc_2017       0\n",
       "median_hh_inc_2018       0\n",
       "median_hh_inc_2019       0\n",
       "median_hh_inc_2020       0\n",
       "median_hh_inc_2021       0\n",
       "dtype: int64"
      ]
     },
     "execution_count": 37,
     "metadata": {},
     "output_type": "execute_result"
    }
   ],
   "source": [
    "census_data = pd.read_csv('./inputs/census_starter.csv')\n",
    "census_data.head()\n",
    "census_data.pct_bb_2020.ffill(inplace=True)\n",
    "census_data.pct_bb_2021.ffill(inplace=True)\n",
    "census_data.pct_college_2020.ffill(inplace=True)\n",
    "census_data.pct_college_2021.ffill(inplace=True)\n",
    "census_data.pct_foreign_born_2020.ffill(inplace=True)\n",
    "census_data.pct_foreign_born_2021.ffill(inplace=True)\n",
    "census_data.pct_it_workers_2018.ffill(inplace=True)\n",
    "census_data.pct_it_workers_2020.ffill(inplace=True)\n",
    "census_data.pct_it_workers_2021.ffill(inplace=True)\n",
    "census_data.median_hh_inc_2020.ffill(inplace=True)\n",
    "census_data.median_hh_inc_2021.ffill(inplace=True)\n",
    "census_data.median_hh_inc_2018.ffill(inplace=True)\n",
    "census_data.isna().sum()"
   ]
  },
  {
   "cell_type": "code",
   "execution_count": 3,
   "id": "3fb22e94",
   "metadata": {},
   "outputs": [],
   "source": [
    "def smape(y_true, y_pred):\n",
    "    numerator = np.abs(y_pred - y_true)\n",
    "    denominator = (np.abs(y_pred) + np.abs(y_true)) / 2\n",
    "    smape_val = np.mean(numerator / denominator)\n",
    "    return smape_val"
   ]
  },
  {
   "cell_type": "code",
   "execution_count": 4,
   "id": "c9417c1b",
   "metadata": {},
   "outputs": [],
   "source": [
    "def train_lr_model(cfip, clipped_lr = False, last_n = 15):\n",
    "    columns = [\"pct_bb\",\"median_hh_inc\",\"pct_college\", \"pct_foreign_born\",\"pct_it_workers\"]\n",
    "    X_cur = mbd_data[mbd_data.cfips == cfip].loc[:,columns]\n",
    "    time_steps = list( range(len(X_cur)))\n",
    "    X_cur.insert(0, \"time_step\", time_steps) \n",
    "    y_cur = mbd_data[ mbd_data.cfips == cfip ].loc[:,\"microbusiness_density\"]\n",
    "    \n",
    "    if clipped_lr: \n",
    "        X_cur = X_cur[-last_n:]\n",
    "        y_cur = y_cur[-last_n:]\n",
    "\n",
    "    X_train, X_test, y_train, y_test = train_test_split(X_cur, y_cur, test_size=0.1, shuffle=False)\n",
    "    model = LinearRegression()\n",
    "    model.fit(X_train, y_train)\n",
    "\n",
    "    y_train_pred = model.predict(X_train)\n",
    "    train_smape = smape(y_train_pred, y_train)\n",
    "\n",
    "    y_test_pred = model.predict(X_test)\n",
    "    test_smape = smape(y_test_pred, y_test)\n",
    "\n",
    "    y_train_pred = model.predict(X_train)\n",
    "    train_rmse = np.sqrt(mean_squared_error(y_train_pred, y_train))\n",
    "\n",
    "    y_test_pred = model.predict(X_test)\n",
    "    test_rmse = np.sqrt(mean_squared_error(y_test_pred, y_test))\n",
    "    \n",
    "    return train_smape, test_smape, train_rmse, test_rmse\n"
   ]
  },
  {
   "cell_type": "code",
   "execution_count": 5,
   "id": "1b2a5938",
   "metadata": {},
   "outputs": [
    {
     "name": "stdout",
     "output_type": "stream",
     "text": [
      "Cluster 0\n"
     ]
    },
    {
     "name": "stderr",
     "output_type": "stream",
     "text": [
      "100%|██████████████████████████████████████████████████████████████████████████████| 2527/2527 [01:09<00:00, 36.22it/s]\n"
     ]
    },
    {
     "name": "stdout",
     "output_type": "stream",
     "text": [
      "Cluster 1\n"
     ]
    },
    {
     "name": "stderr",
     "output_type": "stream",
     "text": [
      "100%|██████████████████████████████████████████████████████████████████████████████████| 13/13 [00:00<00:00, 44.68it/s]\n"
     ]
    },
    {
     "name": "stdout",
     "output_type": "stream",
     "text": [
      "Cluster 2\n"
     ]
    },
    {
     "name": "stderr",
     "output_type": "stream",
     "text": [
      "100%|████████████████████████████████████████████████████████████████████████████████████| 3/3 [00:00<00:00, 71.31it/s]\n"
     ]
    },
    {
     "name": "stdout",
     "output_type": "stream",
     "text": [
      "Cluster 3\n"
     ]
    },
    {
     "name": "stderr",
     "output_type": "stream",
     "text": [
      "100%|████████████████████████████████████████████████████████████████████████████████████| 4/4 [00:00<00:00, 41.26it/s]\n"
     ]
    },
    {
     "name": "stdout",
     "output_type": "stream",
     "text": [
      "Cluster 4\n"
     ]
    },
    {
     "name": "stderr",
     "output_type": "stream",
     "text": [
      "100%|██████████████████████████████████████████████████████████████████████████████████| 26/26 [00:00<00:00, 50.68it/s]\n"
     ]
    },
    {
     "name": "stdout",
     "output_type": "stream",
     "text": [
      "Cluster 5\n"
     ]
    },
    {
     "name": "stderr",
     "output_type": "stream",
     "text": [
      "100%|████████████████████████████████████████████████████████████████████████████████████| 4/4 [00:00<00:00, 41.15it/s]\n"
     ]
    },
    {
     "name": "stdout",
     "output_type": "stream",
     "text": [
      "Cluster 6\n"
     ]
    },
    {
     "name": "stderr",
     "output_type": "stream",
     "text": [
      "100%|████████████████████████████████████████████████████████████████████████████████████| 3/3 [00:00<00:00, 36.21it/s]\n"
     ]
    },
    {
     "name": "stdout",
     "output_type": "stream",
     "text": [
      "Cluster -1\n"
     ]
    },
    {
     "name": "stderr",
     "output_type": "stream",
     "text": [
      "100%|████████████████████████████████████████████████████████████████████████████████| 555/555 [00:16<00:00, 34.65it/s]\n"
     ]
    }
   ],
   "source": [
    "# if key  = -1 then  Unclustered, otherwise clustered \n",
    "\n",
    "best_performing_counties = []\n",
    "df = pd.DataFrame(columns = [\"Cluster\", \"Size\", \"Train SMAPE\", \"Validation SMAPE\", \"Train RMSE\", \"Validation RMSE\"])\n",
    "for index in [0,1,2,3,4,5,6,-1]:\n",
    "    index = str(index)\n",
    "    print(f\"Cluster {index}\")\n",
    "    \n",
    "    train_rmse_arr = []\n",
    "    test_rmse_arr = []\n",
    "    train_smape_arr = []\n",
    "    test_smape_arr = []\n",
    "    for cfip in tqdm(clusters[index]): \n",
    "        train_smape, test_smape, train_rmse, test_rmse = train_lr_model(cfip)\n",
    "        if test_smape <0.02 : \n",
    "            best_performing_counties.append(cfip)\n",
    "        else:\n",
    "            new_train_smape, new_test_smape, new_train_rmse, new_test_rmse = train_lr_model(cfip,clipped_lr = True)\n",
    "            if new_test_smape < 0.02 : \n",
    "                best_performing_counties.append(cfip)\n",
    "                train_smape, test_smape, train_rmse, test_rmse = new_train_smape, new_test_smape, new_train_rmse, new_test_rmse            \n",
    "        train_rmse_arr.append(train_rmse)\n",
    "        test_rmse_arr.append(test_rmse)\n",
    "        train_smape_arr.append(train_smape)\n",
    "        test_smape_arr.append(test_smape)\n",
    "    \n",
    "    df.loc[len(df.index)] = [index, len(clusters[index]), round(np.mean(train_smape_arr),3), round(np.mean(test_smape_arr),3), round(np.mean(train_rmse_arr),3), round(np.mean(test_rmse_arr),3) ]\n",
    "\n"
   ]
  },
  {
   "cell_type": "code",
   "execution_count": 6,
   "id": "a0b3b9b4",
   "metadata": {},
   "outputs": [
    {
     "data": {
      "text/html": [
       "<div>\n",
       "<style scoped>\n",
       "    .dataframe tbody tr th:only-of-type {\n",
       "        vertical-align: middle;\n",
       "    }\n",
       "\n",
       "    .dataframe tbody tr th {\n",
       "        vertical-align: top;\n",
       "    }\n",
       "\n",
       "    .dataframe thead th {\n",
       "        text-align: right;\n",
       "    }\n",
       "</style>\n",
       "<table border=\"1\" class=\"dataframe\">\n",
       "  <thead>\n",
       "    <tr style=\"text-align: right;\">\n",
       "      <th></th>\n",
       "      <th>Cluster</th>\n",
       "      <th>Size</th>\n",
       "      <th>Train SMAPE</th>\n",
       "      <th>Validation SMAPE</th>\n",
       "      <th>Train RMSE</th>\n",
       "      <th>Validation RMSE</th>\n",
       "    </tr>\n",
       "  </thead>\n",
       "  <tbody>\n",
       "    <tr>\n",
       "      <th>0</th>\n",
       "      <td>0</td>\n",
       "      <td>2527</td>\n",
       "      <td>0.018</td>\n",
       "      <td>0.027</td>\n",
       "      <td>0.049</td>\n",
       "      <td>0.067</td>\n",
       "    </tr>\n",
       "    <tr>\n",
       "      <th>1</th>\n",
       "      <td>1</td>\n",
       "      <td>13</td>\n",
       "      <td>0.007</td>\n",
       "      <td>0.008</td>\n",
       "      <td>0.084</td>\n",
       "      <td>0.082</td>\n",
       "    </tr>\n",
       "    <tr>\n",
       "      <th>2</th>\n",
       "      <td>2</td>\n",
       "      <td>3</td>\n",
       "      <td>0.008</td>\n",
       "      <td>0.012</td>\n",
       "      <td>0.106</td>\n",
       "      <td>0.116</td>\n",
       "    </tr>\n",
       "    <tr>\n",
       "      <th>3</th>\n",
       "      <td>3</td>\n",
       "      <td>4</td>\n",
       "      <td>0.005</td>\n",
       "      <td>0.009</td>\n",
       "      <td>0.085</td>\n",
       "      <td>0.108</td>\n",
       "    </tr>\n",
       "    <tr>\n",
       "      <th>4</th>\n",
       "      <td>4</td>\n",
       "      <td>26</td>\n",
       "      <td>0.008</td>\n",
       "      <td>0.010</td>\n",
       "      <td>0.078</td>\n",
       "      <td>0.097</td>\n",
       "    </tr>\n",
       "    <tr>\n",
       "      <th>5</th>\n",
       "      <td>5</td>\n",
       "      <td>4</td>\n",
       "      <td>0.020</td>\n",
       "      <td>0.022</td>\n",
       "      <td>0.139</td>\n",
       "      <td>0.112</td>\n",
       "    </tr>\n",
       "    <tr>\n",
       "      <th>6</th>\n",
       "      <td>6</td>\n",
       "      <td>3</td>\n",
       "      <td>0.020</td>\n",
       "      <td>0.028</td>\n",
       "      <td>0.140</td>\n",
       "      <td>0.139</td>\n",
       "    </tr>\n",
       "    <tr>\n",
       "      <th>7</th>\n",
       "      <td>-1</td>\n",
       "      <td>555</td>\n",
       "      <td>0.032</td>\n",
       "      <td>0.070</td>\n",
       "      <td>0.385</td>\n",
       "      <td>0.856</td>\n",
       "    </tr>\n",
       "  </tbody>\n",
       "</table>\n",
       "</div>"
      ],
      "text/plain": [
       "  Cluster  Size  Train SMAPE  Validation SMAPE  Train RMSE  Validation RMSE\n",
       "0       0  2527        0.018             0.027       0.049            0.067\n",
       "1       1    13        0.007             0.008       0.084            0.082\n",
       "2       2     3        0.008             0.012       0.106            0.116\n",
       "3       3     4        0.005             0.009       0.085            0.108\n",
       "4       4    26        0.008             0.010       0.078            0.097\n",
       "5       5     4        0.020             0.022       0.139            0.112\n",
       "6       6     3        0.020             0.028       0.140            0.139\n",
       "7      -1   555        0.032             0.070       0.385            0.856"
      ]
     },
     "execution_count": 6,
     "metadata": {},
     "output_type": "execute_result"
    }
   ],
   "source": [
    "df"
   ]
  },
  {
   "cell_type": "code",
   "execution_count": 7,
   "id": "0e16eb7f",
   "metadata": {},
   "outputs": [],
   "source": [
    "# best_performing_counties"
   ]
  },
  {
   "cell_type": "code",
   "execution_count": 8,
   "id": "83793a0e",
   "metadata": {},
   "outputs": [
    {
     "data": {
      "text/plain": [
       "(0.0329447306852844, 0.07372291173287107)"
      ]
     },
     "execution_count": 8,
     "metadata": {},
     "output_type": "execute_result"
    }
   ],
   "source": [
    "train_smape, test_smape, train_rmse, test_rmse = train_lr_model(55099)\n",
    "train_smape, test_smape"
   ]
  },
  {
   "cell_type": "code",
   "execution_count": 9,
   "id": "0daa130d",
   "metadata": {},
   "outputs": [],
   "source": [
    "updated_clusters = {}\n",
    "for key in cluster_keys:\n",
    "    updated_clusters[str(key)] = [cfip for cfip in clusters[key] if not (cfip in best_performing_counties)]"
   ]
  },
  {
   "cell_type": "code",
   "execution_count": 10,
   "id": "a0a99b65",
   "metadata": {},
   "outputs": [],
   "source": [
    "json.dump(updated_clusters, open(\"./outputs/clusters_lr.json\", \"w\"))"
   ]
  },
  {
   "cell_type": "code",
   "execution_count": 11,
   "id": "a802690c",
   "metadata": {},
   "outputs": [],
   "source": [
    "updated_clusters = json.loads(open(\"./outputs/clusters_lr.json\", \"r\").read())"
   ]
  },
  {
   "cell_type": "code",
   "execution_count": 12,
   "id": "eece286a",
   "metadata": {},
   "outputs": [
    {
     "name": "stdout",
     "output_type": "stream",
     "text": [
      "Cluster  0\n"
     ]
    },
    {
     "name": "stderr",
     "output_type": "stream",
     "text": [
      "100%|██████████████████████████████████████████████████████████████████████████████| 2527/2527 [01:14<00:00, 33.91it/s]\n"
     ]
    },
    {
     "name": "stdout",
     "output_type": "stream",
     "text": [
      "Cluster  4\n"
     ]
    },
    {
     "name": "stderr",
     "output_type": "stream",
     "text": [
      "100%|██████████████████████████████████████████████████████████████████████████████████| 26/26 [00:00<00:00, 45.79it/s]\n"
     ]
    },
    {
     "name": "stdout",
     "output_type": "stream",
     "text": [
      "Cluster  -1\n"
     ]
    },
    {
     "name": "stderr",
     "output_type": "stream",
     "text": [
      "100%|████████████████████████████████████████████████████████████████████████████████| 555/555 [00:17<00:00, 32.21it/s]\n"
     ]
    },
    {
     "name": "stdout",
     "output_type": "stream",
     "text": [
      "Cluster  1\n"
     ]
    },
    {
     "name": "stderr",
     "output_type": "stream",
     "text": [
      "100%|██████████████████████████████████████████████████████████████████████████████████| 13/13 [00:00<00:00, 40.14it/s]\n"
     ]
    },
    {
     "name": "stdout",
     "output_type": "stream",
     "text": [
      "Cluster  2\n"
     ]
    },
    {
     "name": "stderr",
     "output_type": "stream",
     "text": [
      "100%|████████████████████████████████████████████████████████████████████████████████████| 3/3 [00:00<00:00, 60.52it/s]\n"
     ]
    },
    {
     "name": "stdout",
     "output_type": "stream",
     "text": [
      "Cluster  3\n"
     ]
    },
    {
     "name": "stderr",
     "output_type": "stream",
     "text": [
      "100%|████████████████████████████████████████████████████████████████████████████████████| 4/4 [00:00<00:00, 32.94it/s]\n"
     ]
    },
    {
     "name": "stdout",
     "output_type": "stream",
     "text": [
      "Cluster  5\n"
     ]
    },
    {
     "name": "stderr",
     "output_type": "stream",
     "text": [
      "100%|████████████████████████████████████████████████████████████████████████████████████| 4/4 [00:00<00:00, 35.12it/s]\n"
     ]
    },
    {
     "name": "stdout",
     "output_type": "stream",
     "text": [
      "Cluster  6\n"
     ]
    },
    {
     "name": "stderr",
     "output_type": "stream",
     "text": [
      "100%|████████████████████████████████████████████████████████████████████████████████████| 3/3 [00:00<00:00, 30.85it/s]\n"
     ]
    },
    {
     "data": {
      "text/html": [
       "<div>\n",
       "<style scoped>\n",
       "    .dataframe tbody tr th:only-of-type {\n",
       "        vertical-align: middle;\n",
       "    }\n",
       "\n",
       "    .dataframe tbody tr th {\n",
       "        vertical-align: top;\n",
       "    }\n",
       "\n",
       "    .dataframe thead th {\n",
       "        text-align: right;\n",
       "    }\n",
       "</style>\n",
       "<table border=\"1\" class=\"dataframe\">\n",
       "  <thead>\n",
       "    <tr style=\"text-align: right;\">\n",
       "      <th></th>\n",
       "      <th>cfips</th>\n",
       "      <th>train_smape</th>\n",
       "      <th>test_smape</th>\n",
       "    </tr>\n",
       "  </thead>\n",
       "  <tbody>\n",
       "    <tr>\n",
       "      <th>0</th>\n",
       "      <td>1001.0</td>\n",
       "      <td>0.015099</td>\n",
       "      <td>0.003976</td>\n",
       "    </tr>\n",
       "    <tr>\n",
       "      <th>1</th>\n",
       "      <td>1005.0</td>\n",
       "      <td>0.023296</td>\n",
       "      <td>0.017157</td>\n",
       "    </tr>\n",
       "    <tr>\n",
       "      <th>2</th>\n",
       "      <td>1007.0</td>\n",
       "      <td>0.021851</td>\n",
       "      <td>0.026874</td>\n",
       "    </tr>\n",
       "    <tr>\n",
       "      <th>3</th>\n",
       "      <td>1009.0</td>\n",
       "      <td>0.009489</td>\n",
       "      <td>0.008327</td>\n",
       "    </tr>\n",
       "    <tr>\n",
       "      <th>4</th>\n",
       "      <td>1011.0</td>\n",
       "      <td>0.010122</td>\n",
       "      <td>0.005303</td>\n",
       "    </tr>\n",
       "    <tr>\n",
       "      <th>...</th>\n",
       "      <td>...</td>\n",
       "      <td>...</td>\n",
       "      <td>...</td>\n",
       "    </tr>\n",
       "    <tr>\n",
       "      <th>3130</th>\n",
       "      <td>36007.0</td>\n",
       "      <td>0.017222</td>\n",
       "      <td>0.012675</td>\n",
       "    </tr>\n",
       "    <tr>\n",
       "      <th>3131</th>\n",
       "      <td>53047.0</td>\n",
       "      <td>0.038508</td>\n",
       "      <td>0.012319</td>\n",
       "    </tr>\n",
       "    <tr>\n",
       "      <th>3132</th>\n",
       "      <td>19189.0</td>\n",
       "      <td>0.026813</td>\n",
       "      <td>0.017952</td>\n",
       "    </tr>\n",
       "    <tr>\n",
       "      <th>3133</th>\n",
       "      <td>26097.0</td>\n",
       "      <td>0.030510</td>\n",
       "      <td>0.063010</td>\n",
       "    </tr>\n",
       "    <tr>\n",
       "      <th>3134</th>\n",
       "      <td>27111.0</td>\n",
       "      <td>0.003071</td>\n",
       "      <td>0.002071</td>\n",
       "    </tr>\n",
       "  </tbody>\n",
       "</table>\n",
       "<p>3135 rows × 3 columns</p>\n",
       "</div>"
      ],
      "text/plain": [
       "        cfips  train_smape  test_smape\n",
       "0      1001.0     0.015099    0.003976\n",
       "1      1005.0     0.023296    0.017157\n",
       "2      1007.0     0.021851    0.026874\n",
       "3      1009.0     0.009489    0.008327\n",
       "4      1011.0     0.010122    0.005303\n",
       "...       ...          ...         ...\n",
       "3130  36007.0     0.017222    0.012675\n",
       "3131  53047.0     0.038508    0.012319\n",
       "3132  19189.0     0.026813    0.017952\n",
       "3133  26097.0     0.030510    0.063010\n",
       "3134  27111.0     0.003071    0.002071\n",
       "\n",
       "[3135 rows x 3 columns]"
      ]
     },
     "execution_count": 12,
     "metadata": {},
     "output_type": "execute_result"
    }
   ],
   "source": [
    "best_performing_counties = []\n",
    "df = pd.DataFrame(columns=[\"cfips\",\"train_smape\",\"test_smape\"])\n",
    "for key in clusters: \n",
    "    print(\"Cluster \",key)\n",
    "    for cfip in tqdm(clusters[key]):\n",
    "        train_smape, test_smape, train_rmse, test_rmse = train_lr_model(cfip)\n",
    "        if test_smape <0.02 : \n",
    "            best_performing_counties.append([cfip,False])\n",
    "        else:\n",
    "            new_train_smape, new_test_smape, new_train_rmse, new_test_rmse = train_lr_model(cfip,clipped_lr = True)\n",
    "            if new_test_smape < 0.02 : \n",
    "                best_performing_counties.append([cfip,True])\n",
    "                train_smape, test_smape, train_rmse, test_rmse = new_train_smape, new_test_smape, new_train_rmse, new_test_rmse            \n",
    "        df.loc[len(df.index)] = [cfip,train_smape, test_smape]\n",
    "df"
   ]
  },
  {
   "cell_type": "code",
   "execution_count": 13,
   "id": "5a2c6be8",
   "metadata": {},
   "outputs": [
    {
     "data": {
      "text/plain": [
       "(2238, 3)"
      ]
     },
     "execution_count": 13,
     "metadata": {},
     "output_type": "execute_result"
    }
   ],
   "source": [
    "df[ (df.test_smape.values <= 0.02) ].shape"
   ]
  },
  {
   "cell_type": "code",
   "execution_count": 14,
   "id": "665900ad",
   "metadata": {},
   "outputs": [],
   "source": [
    "# best_performing_counties"
   ]
  },
  {
   "cell_type": "code",
   "execution_count": 15,
   "id": "2928c801",
   "metadata": {},
   "outputs": [
    {
     "data": {
      "text/html": [
       "<div>\n",
       "<style scoped>\n",
       "    .dataframe tbody tr th:only-of-type {\n",
       "        vertical-align: middle;\n",
       "    }\n",
       "\n",
       "    .dataframe tbody tr th {\n",
       "        vertical-align: top;\n",
       "    }\n",
       "\n",
       "    .dataframe thead th {\n",
       "        text-align: right;\n",
       "    }\n",
       "</style>\n",
       "<table border=\"1\" class=\"dataframe\">\n",
       "  <thead>\n",
       "    <tr style=\"text-align: right;\">\n",
       "      <th></th>\n",
       "      <th>cfips</th>\n",
       "      <th>train_smape</th>\n",
       "      <th>test_smape</th>\n",
       "    </tr>\n",
       "  </thead>\n",
       "  <tbody>\n",
       "    <tr>\n",
       "      <th>0</th>\n",
       "      <td>1001.0</td>\n",
       "      <td>0.015099</td>\n",
       "      <td>0.003976</td>\n",
       "    </tr>\n",
       "    <tr>\n",
       "      <th>1</th>\n",
       "      <td>1005.0</td>\n",
       "      <td>0.023296</td>\n",
       "      <td>0.017157</td>\n",
       "    </tr>\n",
       "    <tr>\n",
       "      <th>2</th>\n",
       "      <td>1007.0</td>\n",
       "      <td>0.021851</td>\n",
       "      <td>0.026874</td>\n",
       "    </tr>\n",
       "    <tr>\n",
       "      <th>3</th>\n",
       "      <td>1009.0</td>\n",
       "      <td>0.009489</td>\n",
       "      <td>0.008327</td>\n",
       "    </tr>\n",
       "    <tr>\n",
       "      <th>4</th>\n",
       "      <td>1011.0</td>\n",
       "      <td>0.010122</td>\n",
       "      <td>0.005303</td>\n",
       "    </tr>\n",
       "    <tr>\n",
       "      <th>...</th>\n",
       "      <td>...</td>\n",
       "      <td>...</td>\n",
       "      <td>...</td>\n",
       "    </tr>\n",
       "    <tr>\n",
       "      <th>3130</th>\n",
       "      <td>36007.0</td>\n",
       "      <td>0.017222</td>\n",
       "      <td>0.012675</td>\n",
       "    </tr>\n",
       "    <tr>\n",
       "      <th>3131</th>\n",
       "      <td>53047.0</td>\n",
       "      <td>0.038508</td>\n",
       "      <td>0.012319</td>\n",
       "    </tr>\n",
       "    <tr>\n",
       "      <th>3132</th>\n",
       "      <td>19189.0</td>\n",
       "      <td>0.026813</td>\n",
       "      <td>0.017952</td>\n",
       "    </tr>\n",
       "    <tr>\n",
       "      <th>3133</th>\n",
       "      <td>26097.0</td>\n",
       "      <td>0.030510</td>\n",
       "      <td>0.063010</td>\n",
       "    </tr>\n",
       "    <tr>\n",
       "      <th>3134</th>\n",
       "      <td>27111.0</td>\n",
       "      <td>0.003071</td>\n",
       "      <td>0.002071</td>\n",
       "    </tr>\n",
       "  </tbody>\n",
       "</table>\n",
       "<p>3135 rows × 3 columns</p>\n",
       "</div>"
      ],
      "text/plain": [
       "        cfips  train_smape  test_smape\n",
       "0      1001.0     0.015099    0.003976\n",
       "1      1005.0     0.023296    0.017157\n",
       "2      1007.0     0.021851    0.026874\n",
       "3      1009.0     0.009489    0.008327\n",
       "4      1011.0     0.010122    0.005303\n",
       "...       ...          ...         ...\n",
       "3130  36007.0     0.017222    0.012675\n",
       "3131  53047.0     0.038508    0.012319\n",
       "3132  19189.0     0.026813    0.017952\n",
       "3133  26097.0     0.030510    0.063010\n",
       "3134  27111.0     0.003071    0.002071\n",
       "\n",
       "[3135 rows x 3 columns]"
      ]
     },
     "execution_count": 15,
     "metadata": {},
     "output_type": "execute_result"
    }
   ],
   "source": [
    "df"
   ]
  },
  {
   "cell_type": "code",
   "execution_count": null,
   "id": "824311de",
   "metadata": {},
   "outputs": [],
   "source": []
  },
  {
   "cell_type": "code",
   "execution_count": 16,
   "id": "fd3ad01d",
   "metadata": {},
   "outputs": [],
   "source": [
    "X= mbd_data[[ \"cfips\", \"first_day_of_month\", \"pct_bb\", \"median_hh_inc\", \"pct_college\", \"pct_foreign_born\", \"pct_it_workers\"]]\n",
    "X = X.sort_values(by=[\"cfips\",\"first_day_of_month\"]).reset_index(drop=True)\n",
    "X.median_hh_inc.ffill(inplace=True)\n",
    "X.pct_it_workers.ffill(inplace=True)\n",
    "sc = MinMaxScaler()\n",
    "X.median_hh_inc = sc.fit_transform( X.median_hh_inc.values.reshape(-1,1) ).reshape(-1)\n"
   ]
  },
  {
   "cell_type": "code",
   "execution_count": 28,
   "id": "b38a0403",
   "metadata": {},
   "outputs": [],
   "source": [
    "def train_lr_model(cfip, clipped_lr = False, last_n = 12):\n",
    "    columns = [\"pct_bb\",\"median_hh_inc\",\"pct_college\", \"pct_foreign_born\",\"pct_it_workers\"]\n",
    "    X_cur = mbd_data[mbd_data.cfips == cfip].loc[:,columns]\n",
    "    time_steps = list( range(len(X_cur)))\n",
    "    X_cur.insert(0, \"time_step\", time_steps) \n",
    "    y_cur = mbd_data[ mbd_data.cfips == cfip ].loc[:,\"microbusiness_density\"]\n",
    "    \n",
    "    if clipped_lr: \n",
    "        X_cur = X_cur[-last_n:]\n",
    "        y_cur = y_cur[-last_n:]\n",
    "\n",
    "    X_train, X_test, y_train, y_test = train_test_split(X_cur, y_cur, test_size=0.1, shuffle=False)\n",
    "    model = LinearRegression()\n",
    "    model.fit(X_train, y_train)\n",
    "\n",
    "    y_train_pred = model.predict(X_train)\n",
    "    train_smape = smape(y_train_pred, y_train)\n",
    "\n",
    "    y_test_pred = model.predict(X_test)\n",
    "    test_smape = smape(y_test_pred, y_test)\n",
    "\n",
    "    y_train_pred = model.predict(X_train)\n",
    "    train_rmse = np.sqrt(mean_squared_error(y_train_pred, y_train))\n",
    "\n",
    "    y_test_pred = model.predict(X_test)\n",
    "    test_rmse = np.sqrt(mean_squared_error(y_test_pred, y_test))\n",
    "    \n",
    "    columns = [\"pct_bb_2021\",\"median_hh_inc_2021\",\"pct_college_2021\", \"pct_foreign_born_2021\",\"pct_it_workers_2021\"]\n",
    "    X_forecast = census_data[census_data[\"cfips\"] == cfip][columns]\n",
    "    columns = [ \"pct_bb\", \"median_hh_inc\", \"pct_college\", \"pct_foreign_born\", \"pct_it_workers\"]\n",
    "    X_forecast.columns = columns \n",
    "    X_forecast.median_hh_inc = sc.fit_transform(X_forecast.median_hh_inc.values.reshape(-1,1)).reshape(-1)\n",
    "    X_forecast = X_forecast.values.reshape(-1)\n",
    "    X_forecast = np.stack([X_forecast]*3,axis=0)\n",
    "    time_step = list(range(len(y_train)+len(y_test),len(y_train)+len(y_test)+3))\n",
    "    X_forecast = np.insert(X_forecast, 0,time_step,axis=1)\n",
    "    X_forecast = pd.DataFrame(X_forecast, columns=[\"time_step\"] + columns)\n",
    "    y_forecast = model.predict(X_forecast)\n",
    "    \n",
    "    return np.concatenate([y_train,y_test]), np.concatenate([y_train_pred,y_test_pred, y_forecast])\n"
   ]
  },
  {
   "cell_type": "code",
   "execution_count": 18,
   "id": "1103ea5c",
   "metadata": {},
   "outputs": [],
   "source": [
    "dates = pd.date_range(start='2019-08-01', end='2023-03-01', freq='MS')\n",
    "dates = [date.strftime('%Y-%m-%d') for date in dates]\n"
   ]
  },
  {
   "cell_type": "code",
   "execution_count": 19,
   "id": "addb626b",
   "metadata": {},
   "outputs": [],
   "source": [
    "cfip,clipped = best_performing_counties[6]\n"
   ]
  },
  {
   "cell_type": "code",
   "execution_count": null,
   "id": "967a41b4",
   "metadata": {},
   "outputs": [],
   "source": []
  },
  {
   "cell_type": "code",
   "execution_count": null,
   "id": "d365af0f",
   "metadata": {},
   "outputs": [],
   "source": []
  },
  {
   "cell_type": "code",
   "execution_count": 22,
   "id": "7a2978dd",
   "metadata": {},
   "outputs": [
    {
     "data": {
      "text/plain": [
       "2238"
      ]
     },
     "execution_count": 22,
     "metadata": {},
     "output_type": "execute_result"
    }
   ],
   "source": [
    "len(best_performing_counties)"
   ]
  },
  {
   "cell_type": "code",
   "execution_count": null,
   "id": "b657009d",
   "metadata": {},
   "outputs": [],
   "source": []
  },
  {
   "cell_type": "code",
   "execution_count": null,
   "id": "83dbfc63",
   "metadata": {},
   "outputs": [],
   "source": []
  },
  {
   "cell_type": "code",
   "execution_count": null,
   "id": "5718600b",
   "metadata": {},
   "outputs": [],
   "source": []
  },
  {
   "cell_type": "code",
   "execution_count": 23,
   "id": "aa6a7792",
   "metadata": {},
   "outputs": [],
   "source": [
    "best_performing_counties2 = [x[0] for x in best_performing_counties]"
   ]
  },
  {
   "cell_type": "code",
   "execution_count": 46,
   "id": "1d7d296d",
   "metadata": {},
   "outputs": [],
   "source": [
    "best_smape_error = 0 "
   ]
  },
  {
   "cell_type": "code",
   "execution_count": 47,
   "id": "38f31e84",
   "metadata": {},
   "outputs": [],
   "source": [
    "\n",
    "good_counter = 0 \n",
    "poor_counter = 0 \n",
    "for key in clusters: \n",
    "    for cfip in clusters[key]:\n",
    "        if cfip in best_performing_counties2:\n",
    "            idx = best_performing_counties2.index(cfip)\n",
    "            cfip, clipped = best_performing_counties[idx]\n",
    "        else:\n",
    "            cfip, clipped = cfip, False\n",
    "        \n",
    "        y_true,y_pred = train_lr_model(cfip,clipped)\n",
    "        \n",
    "        x = list(range(len(y_pred)))\n",
    "        location = mbd_data[mbd_data.cfips == cfip].county.iloc[0] + \", \" +mbd_data[mbd_data.cfips == cfip].state.iloc[0]\n",
    "        plt.figure(figsize=(10,6))\n",
    "        plt.plot(x[:len(y_true)],y_pred[:len(y_true)], label=\"Prediction\")\n",
    "        plt.plot(x[:len(y_true)],y_true, label=\"True\")\n",
    "        plt.plot(x[len(y_true):],y_pred[len(y_true):], label=\"Forecast\")\n",
    "\n",
    "        # Set the axis labels and title\n",
    "        plt.xlabel('Date')\n",
    "        plt.ylabel('Microbusiness Density')\n",
    "        plt.title(f'{location} ( CFIP {cfip} ) ')\n",
    "        plt.xticks(x[::4], dates[-len(x)::4], rotation=45)\n",
    "        plt.legend()\n",
    "        if cfip in best_performing_counties2:\n",
    "#             plt.savefig(f\"images/lr_results/good_fit/fig_{good_counter}\")\n",
    "            good_counter += 1\n",
    "            best_smape_error += smape(y_true[-1:],y_pred[:len(y_true)][-1:])\n",
    "        else: \n",
    "#             plt.savefig(f\"images/lr_results/poor_fit/fig_{poor_counter}\")\n",
    "            poor_counter += 1\n",
    "#         plt.show()\n",
    "        plt.close()\n"
   ]
  },
  {
   "cell_type": "code",
   "execution_count": null,
   "id": "151dbfda",
   "metadata": {},
   "outputs": [],
   "source": []
  },
  {
   "cell_type": "code",
   "execution_count": 48,
   "id": "c1324e17",
   "metadata": {},
   "outputs": [],
   "source": [
    "best_smape_error2 = best_smape_error/good_counter"
   ]
  },
  {
   "cell_type": "code",
   "execution_count": 50,
   "id": "26b38501",
   "metadata": {},
   "outputs": [
    {
     "data": {
      "text/plain": [
       "(0.012455874213510909, 27.876246489837413, 2238)"
      ]
     },
     "execution_count": 50,
     "metadata": {},
     "output_type": "execute_result"
    }
   ],
   "source": [
    "best_smape_error2 , best_smape_error, good_counter"
   ]
  },
  {
   "cell_type": "code",
   "execution_count": 229,
   "id": "0b8a1e4a",
   "metadata": {},
   "outputs": [
    {
     "data": {
      "text/plain": [
       "<matplotlib.legend.Legend at 0x1ce659a2d30>"
      ]
     },
     "execution_count": 229,
     "metadata": {},
     "output_type": "execute_result"
    },
    {
     "data": {
      "image/png": "[encoded data removed]",
      "text/plain": [
       "<Figure size 720x432 with 1 Axes>"
      ]
     },
     "metadata": {
      "needs_background": "light"
     },
     "output_type": "display_data"
    }
   ],
   "source": [
    "# cfip = best_performing_counties[3][0]\n",
    "# y_true,y_pred = train_lr_model(cfip,clipped)\n",
    "# x = list(range(len(y_pred)))\n",
    "# location = mbd_data[mbd_data.cfips == cfip].county.iloc[0] + \", \" +mbd_data[mbd_data.cfips == cfip].state.iloc[0]\n",
    "# plt.figure(figsize=(10,6))\n",
    "# plt.plot(x[:len(y_true)],y_pred[:len(y_true)], label=\"Prediction\")\n",
    "# plt.plot(x[:len(y_true)],y_true, label=\"True\")\n",
    "# plt.plot(x[len(y_true):],y_pred[len(y_true):], label=\"Forecast\")\n",
    "\n",
    "# # Set the axis labels and title\n",
    "# plt.xlabel('Date')\n",
    "# plt.ylabel('Microbusiness Density')\n",
    "# plt.title(f'{location} ( CFIP {cfip} ) ')\n",
    "# plt.xticks(x[::4], dates[::4], rotation=45)\n",
    "# plt.legend()\n"
   ]
  },
  {
   "cell_type": "code",
   "execution_count": 231,
   "id": "51818811",
   "metadata": {},
   "outputs": [
    {
     "data": {
      "text/plain": [
       "True"
      ]
     },
     "execution_count": 231,
     "metadata": {},
     "output_type": "execute_result"
    }
   ],
   "source": [
    "1011 in best_performing_counties2"
   ]
  },
  {
   "cell_type": "code",
   "execution_count": null,
   "id": "f9d08f9e",
   "metadata": {},
   "outputs": [],
   "source": [
    "good_counter, poor_counter"
   ]
  },
  {
   "cell_type": "code",
   "execution_count": 87,
   "id": "d2acf8e2",
   "metadata": {},
   "outputs": [
    {
     "data": {
      "text/html": [
       "<div>\n",
       "<style scoped>\n",
       "    .dataframe tbody tr th:only-of-type {\n",
       "        vertical-align: middle;\n",
       "    }\n",
       "\n",
       "    .dataframe tbody tr th {\n",
       "        vertical-align: top;\n",
       "    }\n",
       "\n",
       "    .dataframe thead th {\n",
       "        text-align: right;\n",
       "    }\n",
       "</style>\n",
       "<table border=\"1\" class=\"dataframe\">\n",
       "  <thead>\n",
       "    <tr style=\"text-align: right;\">\n",
       "      <th></th>\n",
       "      <th>pct_bb_2017</th>\n",
       "      <th>pct_bb_2018</th>\n",
       "      <th>pct_bb_2019</th>\n",
       "      <th>pct_bb_2020</th>\n",
       "      <th>pct_bb_2021</th>\n",
       "      <th>cfips</th>\n",
       "      <th>pct_college_2017</th>\n",
       "      <th>pct_college_2018</th>\n",
       "      <th>pct_college_2019</th>\n",
       "      <th>pct_college_2020</th>\n",
       "      <th>...</th>\n",
       "      <th>pct_it_workers_2017</th>\n",
       "      <th>pct_it_workers_2018</th>\n",
       "      <th>pct_it_workers_2019</th>\n",
       "      <th>pct_it_workers_2020</th>\n",
       "      <th>pct_it_workers_2021</th>\n",
       "      <th>median_hh_inc_2017</th>\n",
       "      <th>median_hh_inc_2018</th>\n",
       "      <th>median_hh_inc_2019</th>\n",
       "      <th>median_hh_inc_2020</th>\n",
       "      <th>median_hh_inc_2021</th>\n",
       "    </tr>\n",
       "  </thead>\n",
       "  <tbody>\n",
       "    <tr>\n",
       "      <th>0</th>\n",
       "      <td>76.6</td>\n",
       "      <td>78.9</td>\n",
       "      <td>80.6</td>\n",
       "      <td>82.7</td>\n",
       "      <td>85.5</td>\n",
       "      <td>1001</td>\n",
       "      <td>14.5</td>\n",
       "      <td>15.9</td>\n",
       "      <td>16.1</td>\n",
       "      <td>16.7</td>\n",
       "      <td>...</td>\n",
       "      <td>1.3</td>\n",
       "      <td>1.1</td>\n",
       "      <td>0.7</td>\n",
       "      <td>0.6</td>\n",
       "      <td>1.1</td>\n",
       "      <td>55317</td>\n",
       "      <td>58786.0</td>\n",
       "      <td>58731</td>\n",
       "      <td>57982.0</td>\n",
       "      <td>62660.0</td>\n",
       "    </tr>\n",
       "    <tr>\n",
       "      <th>1</th>\n",
       "      <td>74.5</td>\n",
       "      <td>78.1</td>\n",
       "      <td>81.8</td>\n",
       "      <td>85.1</td>\n",
       "      <td>87.9</td>\n",
       "      <td>1003</td>\n",
       "      <td>20.4</td>\n",
       "      <td>20.7</td>\n",
       "      <td>21.0</td>\n",
       "      <td>20.2</td>\n",
       "      <td>...</td>\n",
       "      <td>1.4</td>\n",
       "      <td>1.3</td>\n",
       "      <td>1.4</td>\n",
       "      <td>1.0</td>\n",
       "      <td>1.3</td>\n",
       "      <td>52562</td>\n",
       "      <td>55962.0</td>\n",
       "      <td>58320</td>\n",
       "      <td>61756.0</td>\n",
       "      <td>64346.0</td>\n",
       "    </tr>\n",
       "    <tr>\n",
       "      <th>2</th>\n",
       "      <td>57.2</td>\n",
       "      <td>60.4</td>\n",
       "      <td>60.5</td>\n",
       "      <td>64.6</td>\n",
       "      <td>64.6</td>\n",
       "      <td>1005</td>\n",
       "      <td>7.6</td>\n",
       "      <td>7.8</td>\n",
       "      <td>7.6</td>\n",
       "      <td>7.3</td>\n",
       "      <td>...</td>\n",
       "      <td>0.5</td>\n",
       "      <td>0.3</td>\n",
       "      <td>0.8</td>\n",
       "      <td>1.1</td>\n",
       "      <td>0.8</td>\n",
       "      <td>33368</td>\n",
       "      <td>34186.0</td>\n",
       "      <td>32525</td>\n",
       "      <td>34990.0</td>\n",
       "      <td>36422.0</td>\n",
       "    </tr>\n",
       "    <tr>\n",
       "      <th>3</th>\n",
       "      <td>62.0</td>\n",
       "      <td>66.1</td>\n",
       "      <td>69.2</td>\n",
       "      <td>76.1</td>\n",
       "      <td>74.6</td>\n",
       "      <td>1007</td>\n",
       "      <td>8.1</td>\n",
       "      <td>7.6</td>\n",
       "      <td>6.5</td>\n",
       "      <td>7.4</td>\n",
       "      <td>...</td>\n",
       "      <td>1.2</td>\n",
       "      <td>1.4</td>\n",
       "      <td>1.6</td>\n",
       "      <td>1.7</td>\n",
       "      <td>2.1</td>\n",
       "      <td>43404</td>\n",
       "      <td>45340.0</td>\n",
       "      <td>47542</td>\n",
       "      <td>51721.0</td>\n",
       "      <td>54277.0</td>\n",
       "    </tr>\n",
       "    <tr>\n",
       "      <th>4</th>\n",
       "      <td>65.8</td>\n",
       "      <td>68.5</td>\n",
       "      <td>73.0</td>\n",
       "      <td>79.6</td>\n",
       "      <td>81.0</td>\n",
       "      <td>1009</td>\n",
       "      <td>8.7</td>\n",
       "      <td>8.1</td>\n",
       "      <td>8.6</td>\n",
       "      <td>8.9</td>\n",
       "      <td>...</td>\n",
       "      <td>1.3</td>\n",
       "      <td>1.4</td>\n",
       "      <td>0.9</td>\n",
       "      <td>1.1</td>\n",
       "      <td>0.9</td>\n",
       "      <td>47412</td>\n",
       "      <td>48695.0</td>\n",
       "      <td>49358</td>\n",
       "      <td>48922.0</td>\n",
       "      <td>52830.0</td>\n",
       "    </tr>\n",
       "  </tbody>\n",
       "</table>\n",
       "<p>5 rows × 26 columns</p>\n",
       "</div>"
      ],
      "text/plain": [
       "   pct_bb_2017  pct_bb_2018  pct_bb_2019  pct_bb_2020  pct_bb_2021  cfips  \\\n",
       "0         76.6         78.9         80.6         82.7         85.5   1001   \n",
       "1         74.5         78.1         81.8         85.1         87.9   1003   \n",
       "2         57.2         60.4         60.5         64.6         64.6   1005   \n",
       "3         62.0         66.1         69.2         76.1         74.6   1007   \n",
       "4         65.8         68.5         73.0         79.6         81.0   1009   \n",
       "\n",
       "   pct_college_2017  pct_college_2018  pct_college_2019  pct_college_2020  \\\n",
       "0              14.5              15.9              16.1              16.7   \n",
       "1              20.4              20.7              21.0              20.2   \n",
       "2               7.6               7.8               7.6               7.3   \n",
       "3               8.1               7.6               6.5               7.4   \n",
       "4               8.7               8.1               8.6               8.9   \n",
       "\n",
       "   ...  pct_it_workers_2017  pct_it_workers_2018  pct_it_workers_2019  \\\n",
       "0  ...                  1.3                  1.1                  0.7   \n",
       "1  ...                  1.4                  1.3                  1.4   \n",
       "2  ...                  0.5                  0.3                  0.8   \n",
       "3  ...                  1.2                  1.4                  1.6   \n",
       "4  ...                  1.3                  1.4                  0.9   \n",
       "\n",
       "   pct_it_workers_2020  pct_it_workers_2021  median_hh_inc_2017  \\\n",
       "0                  0.6                  1.1               55317   \n",
       "1                  1.0                  1.3               52562   \n",
       "2                  1.1                  0.8               33368   \n",
       "3                  1.7                  2.1               43404   \n",
       "4                  1.1                  0.9               47412   \n",
       "\n",
       "   median_hh_inc_2018  median_hh_inc_2019  median_hh_inc_2020  \\\n",
       "0             58786.0               58731             57982.0   \n",
       "1             55962.0               58320             61756.0   \n",
       "2             34186.0               32525             34990.0   \n",
       "3             45340.0               47542             51721.0   \n",
       "4             48695.0               49358             48922.0   \n",
       "\n",
       "   median_hh_inc_2021  \n",
       "0             62660.0  \n",
       "1             64346.0  \n",
       "2             36422.0  \n",
       "3             54277.0  \n",
       "4             52830.0  \n",
       "\n",
       "[5 rows x 26 columns]"
      ]
     },
     "execution_count": 87,
     "metadata": {},
     "output_type": "execute_result"
    }
   ],
   "source": [
    "census_data = pd.read_csv('./inputs/census_starter.csv')\n",
    "census_data.head()"
   ]
  },
  {
   "cell_type": "code",
   "execution_count": 95,
   "id": "46a7951a",
   "metadata": {},
   "outputs": [
    {
     "data": {
      "text/html": [
       "<div>\n",
       "<style scoped>\n",
       "    .dataframe tbody tr th:only-of-type {\n",
       "        vertical-align: middle;\n",
       "    }\n",
       "\n",
       "    .dataframe tbody tr th {\n",
       "        vertical-align: top;\n",
       "    }\n",
       "\n",
       "    .dataframe thead th {\n",
       "        text-align: right;\n",
       "    }\n",
       "</style>\n",
       "<table border=\"1\" class=\"dataframe\">\n",
       "  <thead>\n",
       "    <tr style=\"text-align: right;\">\n",
       "      <th></th>\n",
       "      <th>pct_bb_2017</th>\n",
       "      <th>pct_bb_2018</th>\n",
       "      <th>pct_bb_2019</th>\n",
       "      <th>pct_bb_2020</th>\n",
       "      <th>pct_bb_2021</th>\n",
       "      <th>cfips</th>\n",
       "      <th>pct_college_2017</th>\n",
       "      <th>pct_college_2018</th>\n",
       "      <th>pct_college_2019</th>\n",
       "      <th>pct_college_2020</th>\n",
       "      <th>...</th>\n",
       "      <th>pct_it_workers_2017</th>\n",
       "      <th>pct_it_workers_2018</th>\n",
       "      <th>pct_it_workers_2019</th>\n",
       "      <th>pct_it_workers_2020</th>\n",
       "      <th>pct_it_workers_2021</th>\n",
       "      <th>median_hh_inc_2017</th>\n",
       "      <th>median_hh_inc_2018</th>\n",
       "      <th>median_hh_inc_2019</th>\n",
       "      <th>median_hh_inc_2020</th>\n",
       "      <th>median_hh_inc_2021</th>\n",
       "    </tr>\n",
       "  </thead>\n",
       "  <tbody>\n",
       "    <tr>\n",
       "      <th>0</th>\n",
       "      <td>76.6</td>\n",
       "      <td>78.9</td>\n",
       "      <td>80.6</td>\n",
       "      <td>82.7</td>\n",
       "      <td>85.5</td>\n",
       "      <td>1001</td>\n",
       "      <td>14.5</td>\n",
       "      <td>15.9</td>\n",
       "      <td>16.1</td>\n",
       "      <td>16.7</td>\n",
       "      <td>...</td>\n",
       "      <td>1.3</td>\n",
       "      <td>1.1</td>\n",
       "      <td>0.7</td>\n",
       "      <td>0.6</td>\n",
       "      <td>1.1</td>\n",
       "      <td>55317</td>\n",
       "      <td>58786.0</td>\n",
       "      <td>58731</td>\n",
       "      <td>57982.0</td>\n",
       "      <td>62660.0</td>\n",
       "    </tr>\n",
       "    <tr>\n",
       "      <th>1</th>\n",
       "      <td>74.5</td>\n",
       "      <td>78.1</td>\n",
       "      <td>81.8</td>\n",
       "      <td>85.1</td>\n",
       "      <td>87.9</td>\n",
       "      <td>1003</td>\n",
       "      <td>20.4</td>\n",
       "      <td>20.7</td>\n",
       "      <td>21.0</td>\n",
       "      <td>20.2</td>\n",
       "      <td>...</td>\n",
       "      <td>1.4</td>\n",
       "      <td>1.3</td>\n",
       "      <td>1.4</td>\n",
       "      <td>1.0</td>\n",
       "      <td>1.3</td>\n",
       "      <td>52562</td>\n",
       "      <td>55962.0</td>\n",
       "      <td>58320</td>\n",
       "      <td>61756.0</td>\n",
       "      <td>64346.0</td>\n",
       "    </tr>\n",
       "    <tr>\n",
       "      <th>2</th>\n",
       "      <td>57.2</td>\n",
       "      <td>60.4</td>\n",
       "      <td>60.5</td>\n",
       "      <td>64.6</td>\n",
       "      <td>64.6</td>\n",
       "      <td>1005</td>\n",
       "      <td>7.6</td>\n",
       "      <td>7.8</td>\n",
       "      <td>7.6</td>\n",
       "      <td>7.3</td>\n",
       "      <td>...</td>\n",
       "      <td>0.5</td>\n",
       "      <td>0.3</td>\n",
       "      <td>0.8</td>\n",
       "      <td>1.1</td>\n",
       "      <td>0.8</td>\n",
       "      <td>33368</td>\n",
       "      <td>34186.0</td>\n",
       "      <td>32525</td>\n",
       "      <td>34990.0</td>\n",
       "      <td>36422.0</td>\n",
       "    </tr>\n",
       "    <tr>\n",
       "      <th>3</th>\n",
       "      <td>62.0</td>\n",
       "      <td>66.1</td>\n",
       "      <td>69.2</td>\n",
       "      <td>76.1</td>\n",
       "      <td>74.6</td>\n",
       "      <td>1007</td>\n",
       "      <td>8.1</td>\n",
       "      <td>7.6</td>\n",
       "      <td>6.5</td>\n",
       "      <td>7.4</td>\n",
       "      <td>...</td>\n",
       "      <td>1.2</td>\n",
       "      <td>1.4</td>\n",
       "      <td>1.6</td>\n",
       "      <td>1.7</td>\n",
       "      <td>2.1</td>\n",
       "      <td>43404</td>\n",
       "      <td>45340.0</td>\n",
       "      <td>47542</td>\n",
       "      <td>51721.0</td>\n",
       "      <td>54277.0</td>\n",
       "    </tr>\n",
       "    <tr>\n",
       "      <th>4</th>\n",
       "      <td>65.8</td>\n",
       "      <td>68.5</td>\n",
       "      <td>73.0</td>\n",
       "      <td>79.6</td>\n",
       "      <td>81.0</td>\n",
       "      <td>1009</td>\n",
       "      <td>8.7</td>\n",
       "      <td>8.1</td>\n",
       "      <td>8.6</td>\n",
       "      <td>8.9</td>\n",
       "      <td>...</td>\n",
       "      <td>1.3</td>\n",
       "      <td>1.4</td>\n",
       "      <td>0.9</td>\n",
       "      <td>1.1</td>\n",
       "      <td>0.9</td>\n",
       "      <td>47412</td>\n",
       "      <td>48695.0</td>\n",
       "      <td>49358</td>\n",
       "      <td>48922.0</td>\n",
       "      <td>52830.0</td>\n",
       "    </tr>\n",
       "    <tr>\n",
       "      <th>...</th>\n",
       "      <td>...</td>\n",
       "      <td>...</td>\n",
       "      <td>...</td>\n",
       "      <td>...</td>\n",
       "      <td>...</td>\n",
       "      <td>...</td>\n",
       "      <td>...</td>\n",
       "      <td>...</td>\n",
       "      <td>...</td>\n",
       "      <td>...</td>\n",
       "      <td>...</td>\n",
       "      <td>...</td>\n",
       "      <td>...</td>\n",
       "      <td>...</td>\n",
       "      <td>...</td>\n",
       "      <td>...</td>\n",
       "      <td>...</td>\n",
       "      <td>...</td>\n",
       "      <td>...</td>\n",
       "      <td>...</td>\n",
       "      <td>...</td>\n",
       "    </tr>\n",
       "    <tr>\n",
       "      <th>3137</th>\n",
       "      <td>82.2</td>\n",
       "      <td>82.4</td>\n",
       "      <td>84.0</td>\n",
       "      <td>86.7</td>\n",
       "      <td>88.4</td>\n",
       "      <td>56037</td>\n",
       "      <td>15.3</td>\n",
       "      <td>15.2</td>\n",
       "      <td>14.8</td>\n",
       "      <td>13.7</td>\n",
       "      <td>...</td>\n",
       "      <td>0.6</td>\n",
       "      <td>0.6</td>\n",
       "      <td>1.0</td>\n",
       "      <td>0.9</td>\n",
       "      <td>1.0</td>\n",
       "      <td>71083</td>\n",
       "      <td>73008.0</td>\n",
       "      <td>74843</td>\n",
       "      <td>73384.0</td>\n",
       "      <td>76668.0</td>\n",
       "    </tr>\n",
       "    <tr>\n",
       "      <th>3138</th>\n",
       "      <td>83.5</td>\n",
       "      <td>85.9</td>\n",
       "      <td>87.1</td>\n",
       "      <td>89.1</td>\n",
       "      <td>90.5</td>\n",
       "      <td>56039</td>\n",
       "      <td>37.7</td>\n",
       "      <td>37.8</td>\n",
       "      <td>38.9</td>\n",
       "      <td>37.2</td>\n",
       "      <td>...</td>\n",
       "      <td>0.7</td>\n",
       "      <td>1.2</td>\n",
       "      <td>1.4</td>\n",
       "      <td>1.5</td>\n",
       "      <td>2.0</td>\n",
       "      <td>80049</td>\n",
       "      <td>83831.0</td>\n",
       "      <td>84678</td>\n",
       "      <td>87053.0</td>\n",
       "      <td>94498.0</td>\n",
       "    </tr>\n",
       "    <tr>\n",
       "      <th>3139</th>\n",
       "      <td>83.8</td>\n",
       "      <td>88.2</td>\n",
       "      <td>89.5</td>\n",
       "      <td>91.4</td>\n",
       "      <td>90.6</td>\n",
       "      <td>56041</td>\n",
       "      <td>11.9</td>\n",
       "      <td>10.5</td>\n",
       "      <td>11.1</td>\n",
       "      <td>12.6</td>\n",
       "      <td>...</td>\n",
       "      <td>1.2</td>\n",
       "      <td>1.2</td>\n",
       "      <td>1.4</td>\n",
       "      <td>1.7</td>\n",
       "      <td>0.9</td>\n",
       "      <td>54672</td>\n",
       "      <td>58235.0</td>\n",
       "      <td>63403</td>\n",
       "      <td>72458.0</td>\n",
       "      <td>75106.0</td>\n",
       "    </tr>\n",
       "    <tr>\n",
       "      <th>3140</th>\n",
       "      <td>76.4</td>\n",
       "      <td>78.3</td>\n",
       "      <td>78.2</td>\n",
       "      <td>82.8</td>\n",
       "      <td>85.4</td>\n",
       "      <td>56043</td>\n",
       "      <td>15.4</td>\n",
       "      <td>15.0</td>\n",
       "      <td>15.4</td>\n",
       "      <td>15.0</td>\n",
       "      <td>...</td>\n",
       "      <td>1.3</td>\n",
       "      <td>1.0</td>\n",
       "      <td>0.9</td>\n",
       "      <td>0.9</td>\n",
       "      <td>1.1</td>\n",
       "      <td>51362</td>\n",
       "      <td>53426.0</td>\n",
       "      <td>54158</td>\n",
       "      <td>57306.0</td>\n",
       "      <td>62271.0</td>\n",
       "    </tr>\n",
       "    <tr>\n",
       "      <th>3141</th>\n",
       "      <td>71.1</td>\n",
       "      <td>73.3</td>\n",
       "      <td>76.8</td>\n",
       "      <td>79.7</td>\n",
       "      <td>81.3</td>\n",
       "      <td>56045</td>\n",
       "      <td>14.1</td>\n",
       "      <td>13.5</td>\n",
       "      <td>13.4</td>\n",
       "      <td>12.7</td>\n",
       "      <td>...</td>\n",
       "      <td>0.6</td>\n",
       "      <td>0.6</td>\n",
       "      <td>0.0</td>\n",
       "      <td>0.0</td>\n",
       "      <td>0.0</td>\n",
       "      <td>59605</td>\n",
       "      <td>52867.0</td>\n",
       "      <td>57031</td>\n",
       "      <td>53333.0</td>\n",
       "      <td>65566.0</td>\n",
       "    </tr>\n",
       "  </tbody>\n",
       "</table>\n",
       "<p>3142 rows × 26 columns</p>\n",
       "</div>"
      ],
      "text/plain": [
       "      pct_bb_2017  pct_bb_2018  pct_bb_2019  pct_bb_2020  pct_bb_2021  cfips  \\\n",
       "0            76.6         78.9         80.6         82.7         85.5   1001   \n",
       "1            74.5         78.1         81.8         85.1         87.9   1003   \n",
       "2            57.2         60.4         60.5         64.6         64.6   1005   \n",
       "3            62.0         66.1         69.2         76.1         74.6   1007   \n",
       "4            65.8         68.5         73.0         79.6         81.0   1009   \n",
       "...           ...          ...          ...          ...          ...    ...   \n",
       "3137         82.2         82.4         84.0         86.7         88.4  56037   \n",
       "3138         83.5         85.9         87.1         89.1         90.5  56039   \n",
       "3139         83.8         88.2         89.5         91.4         90.6  56041   \n",
       "3140         76.4         78.3         78.2         82.8         85.4  56043   \n",
       "3141         71.1         73.3         76.8         79.7         81.3  56045   \n",
       "\n",
       "      pct_college_2017  pct_college_2018  pct_college_2019  pct_college_2020  \\\n",
       "0                 14.5              15.9              16.1              16.7   \n",
       "1                 20.4              20.7              21.0              20.2   \n",
       "2                  7.6               7.8               7.6               7.3   \n",
       "3                  8.1               7.6               6.5               7.4   \n",
       "4                  8.7               8.1               8.6               8.9   \n",
       "...                ...               ...               ...               ...   \n",
       "3137              15.3              15.2              14.8              13.7   \n",
       "3138              37.7              37.8              38.9              37.2   \n",
       "3139              11.9              10.5              11.1              12.6   \n",
       "3140              15.4              15.0              15.4              15.0   \n",
       "3141              14.1              13.5              13.4              12.7   \n",
       "\n",
       "      ...  pct_it_workers_2017  pct_it_workers_2018  pct_it_workers_2019  \\\n",
       "0     ...                  1.3                  1.1                  0.7   \n",
       "1     ...                  1.4                  1.3                  1.4   \n",
       "2     ...                  0.5                  0.3                  0.8   \n",
       "3     ...                  1.2                  1.4                  1.6   \n",
       "4     ...                  1.3                  1.4                  0.9   \n",
       "...   ...                  ...                  ...                  ...   \n",
       "3137  ...                  0.6                  0.6                  1.0   \n",
       "3138  ...                  0.7                  1.2                  1.4   \n",
       "3139  ...                  1.2                  1.2                  1.4   \n",
       "3140  ...                  1.3                  1.0                  0.9   \n",
       "3141  ...                  0.6                  0.6                  0.0   \n",
       "\n",
       "      pct_it_workers_2020  pct_it_workers_2021  median_hh_inc_2017  \\\n",
       "0                     0.6                  1.1               55317   \n",
       "1                     1.0                  1.3               52562   \n",
       "2                     1.1                  0.8               33368   \n",
       "3                     1.7                  2.1               43404   \n",
       "4                     1.1                  0.9               47412   \n",
       "...                   ...                  ...                 ...   \n",
       "3137                  0.9                  1.0               71083   \n",
       "3138                  1.5                  2.0               80049   \n",
       "3139                  1.7                  0.9               54672   \n",
       "3140                  0.9                  1.1               51362   \n",
       "3141                  0.0                  0.0               59605   \n",
       "\n",
       "      median_hh_inc_2018  median_hh_inc_2019  median_hh_inc_2020  \\\n",
       "0                58786.0               58731             57982.0   \n",
       "1                55962.0               58320             61756.0   \n",
       "2                34186.0               32525             34990.0   \n",
       "3                45340.0               47542             51721.0   \n",
       "4                48695.0               49358             48922.0   \n",
       "...                  ...                 ...                 ...   \n",
       "3137             73008.0               74843             73384.0   \n",
       "3138             83831.0               84678             87053.0   \n",
       "3139             58235.0               63403             72458.0   \n",
       "3140             53426.0               54158             57306.0   \n",
       "3141             52867.0               57031             53333.0   \n",
       "\n",
       "      median_hh_inc_2021  \n",
       "0                62660.0  \n",
       "1                64346.0  \n",
       "2                36422.0  \n",
       "3                54277.0  \n",
       "4                52830.0  \n",
       "...                  ...  \n",
       "3137             76668.0  \n",
       "3138             94498.0  \n",
       "3139             75106.0  \n",
       "3140             62271.0  \n",
       "3141             65566.0  \n",
       "\n",
       "[3142 rows x 26 columns]"
      ]
     },
     "execution_count": 95,
     "metadata": {},
     "output_type": "execute_result"
    }
   ],
   "source": [
    "census_data"
   ]
  },
  {
   "cell_type": "code",
   "execution_count": 134,
   "id": "4ecf1d80",
   "metadata": {},
   "outputs": [
    {
     "name": "stdout",
     "output_type": "stream",
     "text": [
      "current column : pct_bb\n",
      "current column : median_hh_inc\n",
      "current column : pct_college\n",
      "current column : pct_foreign_born\n",
      "current column : pct_it_workers\n"
     ]
    }
   ],
   "source": [
    "for column in [ \"pct_bb\", \"median_hh_inc\", \"pct_college\", \"pct_foreign_born\", \"pct_it_workers\"]:\n",
    "    print(\"current column :\", column)\n",
    "    df = census_data[[\"cfips\",column + \"_2017\", column + \"_2018\", column + \"_2019\", column + \"_2020\", column + \"_2021\"]]\n",
    "    df = df.set_index(df.cfips)\n",
    "    \n",
    "#     df2 = pd.DataFrame(columns = [\"cfips\", \"year\", column ])\n",
    "#     for cfip in tqdm(cfips): \n",
    "#         for year in [\"2017\",\"2018\",\"2019\",\"2020\",\"2021\"] : \n",
    "#             df2.loc[len(df2.index)] = [cfip, str(int(year)+2), df.loc[cfip, column +\"_\"+ year]]\n",
    "# #     df2.head()\n",
    "#     mbd_data = mbd_data.merge(df2, left_on=[\"cfips\",\"year\"], right_on=[\"cfips\",\"year\"], how=\"left\")"
   ]
  },
  {
   "cell_type": "code",
   "execution_count": 143,
   "id": "f4d67c59",
   "metadata": {},
   "outputs": [
    {
     "data": {
      "text/html": [
       "<div>\n",
       "<style scoped>\n",
       "    .dataframe tbody tr th:only-of-type {\n",
       "        vertical-align: middle;\n",
       "    }\n",
       "\n",
       "    .dataframe tbody tr th {\n",
       "        vertical-align: top;\n",
       "    }\n",
       "\n",
       "    .dataframe thead th {\n",
       "        text-align: right;\n",
       "    }\n",
       "</style>\n",
       "<table border=\"1\" class=\"dataframe\">\n",
       "  <thead>\n",
       "    <tr style=\"text-align: right;\">\n",
       "      <th></th>\n",
       "      <th>pct_bb_2017</th>\n",
       "      <th>pct_bb_2018</th>\n",
       "      <th>pct_bb_2019</th>\n",
       "      <th>pct_bb_2020</th>\n",
       "      <th>pct_bb_2021</th>\n",
       "      <th>cfips</th>\n",
       "      <th>pct_college_2017</th>\n",
       "      <th>pct_college_2018</th>\n",
       "      <th>pct_college_2019</th>\n",
       "      <th>pct_college_2020</th>\n",
       "      <th>...</th>\n",
       "      <th>pct_it_workers_2017</th>\n",
       "      <th>pct_it_workers_2018</th>\n",
       "      <th>pct_it_workers_2019</th>\n",
       "      <th>pct_it_workers_2020</th>\n",
       "      <th>pct_it_workers_2021</th>\n",
       "      <th>median_hh_inc_2017</th>\n",
       "      <th>median_hh_inc_2018</th>\n",
       "      <th>median_hh_inc_2019</th>\n",
       "      <th>median_hh_inc_2020</th>\n",
       "      <th>median_hh_inc_2021</th>\n",
       "    </tr>\n",
       "  </thead>\n",
       "  <tbody>\n",
       "    <tr>\n",
       "      <th>1369</th>\n",
       "      <td>70.3</td>\n",
       "      <td>73.3</td>\n",
       "      <td>74.9</td>\n",
       "      <td>79.2</td>\n",
       "      <td>82.2</td>\n",
       "      <td>27111</td>\n",
       "      <td>17.3</td>\n",
       "      <td>17.7</td>\n",
       "      <td>17.4</td>\n",
       "      <td>18.0</td>\n",
       "      <td>...</td>\n",
       "      <td>2.2</td>\n",
       "      <td>1.9</td>\n",
       "      <td>1.9</td>\n",
       "      <td>2.2</td>\n",
       "      <td>2.1</td>\n",
       "      <td>55181</td>\n",
       "      <td>57131.0</td>\n",
       "      <td>58682</td>\n",
       "      <td>59456.0</td>\n",
       "      <td>63587.0</td>\n",
       "    </tr>\n",
       "  </tbody>\n",
       "</table>\n",
       "<p>1 rows × 26 columns</p>\n",
       "</div>"
      ],
      "text/plain": [
       "      pct_bb_2017  pct_bb_2018  pct_bb_2019  pct_bb_2020  pct_bb_2021  cfips  \\\n",
       "1369         70.3         73.3         74.9         79.2         82.2  27111   \n",
       "\n",
       "      pct_college_2017  pct_college_2018  pct_college_2019  pct_college_2020  \\\n",
       "1369              17.3              17.7              17.4              18.0   \n",
       "\n",
       "      ...  pct_it_workers_2017  pct_it_workers_2018  pct_it_workers_2019  \\\n",
       "1369  ...                  2.2                  1.9                  1.9   \n",
       "\n",
       "      pct_it_workers_2020  pct_it_workers_2021  median_hh_inc_2017  \\\n",
       "1369                  2.2                  2.1               55181   \n",
       "\n",
       "      median_hh_inc_2018  median_hh_inc_2019  median_hh_inc_2020  \\\n",
       "1369             57131.0               58682             59456.0   \n",
       "\n",
       "      median_hh_inc_2021  \n",
       "1369             63587.0  \n",
       "\n",
       "[1 rows x 26 columns]"
      ]
     },
     "execution_count": 143,
     "metadata": {},
     "output_type": "execute_result"
    }
   ],
   "source": []
  },
  {
   "cell_type": "code",
   "execution_count": 172,
   "id": "83b3725c",
   "metadata": {},
   "outputs": [],
   "source": [
    "columns = [\"pct_bb\",\"median_hh_inc\",\"pct_college\", \"pct_foreign_born\",\"pct_it_workers\"]\n",
    "\n",
    "# np.insert(0,,X_forecast,axis=1)"
   ]
  },
  {
   "cell_type": "code",
   "execution_count": null,
   "id": "e3861940",
   "metadata": {},
   "outputs": [],
   "source": []
  },
  {
   "cell_type": "code",
   "execution_count": 169,
   "id": "26145688",
   "metadata": {},
   "outputs": [
    {
     "data": {
      "text/plain": [
       "[41, 42, 43]"
      ]
     },
     "execution_count": 169,
     "metadata": {},
     "output_type": "execute_result"
    }
   ],
   "source": [
    "\n",
    "time_step"
   ]
  },
  {
   "cell_type": "code",
   "execution_count": 171,
   "id": "a05a8d07",
   "metadata": {},
   "outputs": [
    {
     "data": {
      "text/plain": [
       "array([[4.1000e+01, 8.2200e+01, 6.3587e+04, 1.8600e+01, 2.9000e+00,\n",
       "        2.1000e+00],\n",
       "       [4.2000e+01, 8.2200e+01, 6.3587e+04, 1.8600e+01, 2.9000e+00,\n",
       "        2.1000e+00],\n",
       "       [4.3000e+01, 8.2200e+01, 6.3587e+04, 1.8600e+01, 2.9000e+00,\n",
       "        2.1000e+00]])"
      ]
     },
     "execution_count": 171,
     "metadata": {},
     "output_type": "execute_result"
    }
   ],
   "source": []
  },
  {
   "cell_type": "code",
   "execution_count": null,
   "id": "11467faf",
   "metadata": {},
   "outputs": [],
   "source": []
  }
 ],
 "metadata": {
  "kernelspec": {
   "display_name": "Python 3 (ipykernel)",
   "language": "python",
   "name": "python3"
  },
  "language_info": {
   "codemirror_mode": {
    "name": "ipython",
    "version": 3
   },
   "file_extension": ".py",
   "mimetype": "text/x-python",
   "name": "python",
   "nbconvert_exporter": "python",
   "pygments_lexer": "ipython3",
   "version": "3.9.7"
  }
 },
 "nbformat": 4,
 "nbformat_minor": 5
}
