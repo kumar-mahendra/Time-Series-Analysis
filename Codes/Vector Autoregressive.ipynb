{
 "cells": [
  {
   "cell_type": "code",
   "execution_count": 1,
   "id": "ea82098e",
   "metadata": {},
   "outputs": [],
   "source": [
    "import pandas as pd \n",
    "import numpy as np \n",
    "import json\n",
    "import matplotlib.pyplot as plt\n",
    "from sklearn.preprocessing import MinMaxScaler\n",
    "from sklearn.linear_model import LinearRegression\n",
    "from statsmodels.tsa.statespace.sarimax import SARIMAX\n",
    "from statsmodels.graphics.tsaplots import plot_acf\n",
    "from statsmodels.tsa.seasonal import seasonal_decompose\n",
    "from statsmodels.tsa.stattools import adfuller\n",
    "from sklearn.model_selection import train_test_split\n",
    "import statsmodels.api as sm\n",
    "from tqdm import tqdm \n",
    "from sklearn.metrics import mean_squared_error\n",
    "import warnings\n",
    "warnings.filterwarnings(\"ignore\")\n",
    "import multiprocessing\n",
    "import time "
   ]
  },
  {
   "cell_type": "code",
   "execution_count": 7,
   "id": "bc0de6c9",
   "metadata": {},
   "outputs": [],
   "source": [
    "# load data \n",
    "mbd_data = pd.read_csv('./outputs/mbd_data.csv')\n",
    "clusters = json.loads(open('./outputs/clusters_arima.json',\"r\").read())  # change here clusters_sarima\n",
    "cluster_keys = [\"0\",\"1\",\"2\",\"3\",\"4\",\"5\",\"6\",\"-1\"]\n",
    "mbd_data = mbd_data.sort_values(by=[\"cfips\",\"first_day_of_month\"]).reset_index(drop=True)\n",
    "mbd_data.median_hh_inc.ffill(inplace=True)\n",
    "mbd_data.pct_it_workers.ffill(inplace=True)\n",
    "\n",
    "sc = MinMaxScaler()\n",
    "mbd_data.median_hh_inc = sc.fit_transform( mbd_data.median_hh_inc.values.reshape(-1,1) ).reshape(-1)\n",
    "\n",
    "cfips = mbd_data.cfips.unique()"
   ]
  },
  {
   "cell_type": "code",
   "execution_count": 3,
   "id": "0ef2541e",
   "metadata": {},
   "outputs": [],
   "source": [
    "def smape(y_true, y_pred):\n",
    "    numerator = np.abs(y_pred - y_true)\n",
    "    denominator = (np.abs(y_pred) + np.abs(y_true)) / 2\n",
    "    smape_val = np.mean(numerator / denominator)\n",
    "    return smape_val"
   ]
  },
  {
   "cell_type": "code",
   "execution_count": 4,
   "id": "f360a36f",
   "metadata": {},
   "outputs": [],
   "source": [
    "# Plot a county \n",
    "\n",
    "def plot_county(cfip):\n",
    "#     cfip = clusters[\"-1\"][0]\n",
    "    location = mbd_data[mbd_data.cfips == cfip].county.iloc[0] + \", \" +mbd_data[mbd_data.cfips == cfip].state.iloc[0]\n",
    "    # Create a figure and axis object\n",
    "    fig, ax = plt.subplots(figsize=(10, 6))\n",
    "    dates = pd.date_range(start='2019-08-01', end='2022-12-01', freq='MS')\n",
    "    values = mbd_data[mbd_data.cfips == cfip][\"microbusiness_density\"].values\n",
    "\n",
    "    # Plot the line\n",
    "    ax.plot(dates, values)\n",
    "\n",
    "    # Set the axis labels and title\n",
    "    ax.set_xlabel('Date')\n",
    "    ax.set_ylabel('Microbusiness Density')\n",
    "    ax.set_title(f'{location} ( CFIP {cfip} )  ')\n",
    "\n",
    "    # Rotate the x-axis tick labels\n",
    "    plt.setp(ax.get_xticklabels(), rotation=45, ha='right')\n",
    "\n",
    "    # Show the plot\n",
    "    plt.show()"
   ]
  },
  {
   "cell_type": "code",
   "execution_count": 5,
   "id": "4b56d753",
   "metadata": {},
   "outputs": [
    {
     "data": {
      "text/plain": [
       "(13, 86)"
      ]
     },
     "execution_count": 5,
     "metadata": {},
     "output_type": "execute_result"
    }
   ],
   "source": [
    "# Adfuller Test : Check if for any county, microbusiness density is stationary \n",
    "\n",
    "# cfip = clusters[\"-1\"][1]\n",
    "stationary_count = 0 \n",
    "stationary_counties = []\n",
    "for cfip in clusters[\"-1\"]: \n",
    "    location = mbd_data[mbd_data.cfips == cfip].county.iloc[0] + \", \" +mbd_data[mbd_data.cfips == cfip].state.iloc[0]\n",
    "    values = mbd_data[mbd_data.cfips == cfip][\"microbusiness_density\"].values\n",
    "\n",
    "    p_value = adfuller(values)[1]\n",
    "    if p_value < 0.01 : \n",
    "        # reject null hypothesis . So time series is stationary \n",
    "        stationary_count += 1 \n",
    "        stationary_counties.append(cfip)\n",
    "stationary_count, len(clusters[\"-1\"])"
   ]
  },
  {
   "cell_type": "code",
   "execution_count": 232,
   "id": "0bbc65da",
   "metadata": {},
   "outputs": [
    {
     "data": {
      "text/plain": [
       "1035"
      ]
     },
     "execution_count": 232,
     "metadata": {},
     "output_type": "execute_result"
    }
   ],
   "source": [
    "# VAR model fit \n",
    "cfip = clusters[\"-1\"][0]\n",
    "cfip"
   ]
  },
  {
   "cell_type": "code",
   "execution_count": 233,
   "id": "e3c60ec4",
   "metadata": {},
   "outputs": [
    {
     "data": {
      "image/png": "[encoded data removed]",
      "text/plain": [
       "<Figure size 720x432 with 1 Axes>"
      ]
     },
     "metadata": {
      "needs_background": "light"
     },
     "output_type": "display_data"
    }
   ],
   "source": [
    "plot_county(cfip)"
   ]
  },
  {
   "cell_type": "code",
   "execution_count": 234,
   "id": "ba0ad536",
   "metadata": {},
   "outputs": [],
   "source": [
    "# mbd_data.head()"
   ]
  },
  {
   "cell_type": "code",
   "execution_count": 255,
   "id": "4d735afe",
   "metadata": {},
   "outputs": [],
   "source": [
    "columns = [\"microbusiness_density\",\"pct_bb\",\"median_hh_inc\",\"pct_college\",\"pct_foreign_born\", \"pct_it_workers\"]\n",
    "data = mbd_data[mbd_data.cfips == cfip][columns].values\n",
    "size = 38\n",
    "train, test = data[:size],data[size:]\n",
    "model = sm.tsa.VAR(train)\n",
    "nlags = 1\n",
    "results = model.fit(maxlags=nlags)\n",
    "# data"
   ]
  },
  {
   "cell_type": "code",
   "execution_count": null,
   "id": "63c0f26c",
   "metadata": {},
   "outputs": [],
   "source": []
  },
  {
   "cell_type": "code",
   "execution_count": 256,
   "id": "c2dbc3ae",
   "metadata": {},
   "outputs": [
    {
     "data": {
      "text/plain": [
       "(41, 41)"
      ]
     },
     "execution_count": 256,
     "metadata": {},
     "output_type": "execute_result"
    }
   ],
   "source": [
    "# preds = list(data[:nlags,0])\n",
    "# for i in range(0,len(test)-nlags):\n",
    "#     preds.append(results.forecast(data[i:i+nlags], 1)[:,0][0])\n",
    "true = data[:,0]\n",
    "\n",
    "preds = list(data[:nlags,0])\n",
    "for i in range(0,len(train)-nlags):\n",
    "    preds.append(results.forecast(data[i:i+nlags], 1)[:,0][0])\n",
    "\n",
    "for i in range(len(train) - nlags, len(data)-nlags):\n",
    "    last_nlags_predictions = np.array(preds[-nlags:]).reshape(-1,1)\n",
    "    new_data = np.append( last_nlags_predictions, data[i:i+nlags,1:],axis=1)\n",
    "    preds.append(results.forecast(new_data, 1)[:,0][0])\n",
    "    \n",
    "    \n",
    "len(preds),len(data)"
   ]
  },
  {
   "cell_type": "code",
   "execution_count": 257,
   "id": "c94f01b9",
   "metadata": {},
   "outputs": [
    {
     "data": {
      "image/png": "[encoded data removed]",
      "text/plain": [
       "<Figure size 720x432 with 1 Axes>"
      ]
     },
     "metadata": {
      "needs_background": "light"
     },
     "output_type": "display_data"
    }
   ],
   "source": [
    "plt.figure(figsize=(10,6))\n",
    "plt.plot(preds,label=\"Prediction\")\n",
    "plt.plot(true,label=\"True\")\n",
    "plt.legend()\n",
    "plt.show()"
   ]
  },
  {
   "cell_type": "code",
   "execution_count": 258,
   "id": "cb6c3cc8",
   "metadata": {},
   "outputs": [
    {
     "data": {
      "text/plain": [
       "0.06535204258261558"
      ]
     },
     "execution_count": 258,
     "metadata": {},
     "output_type": "execute_result"
    }
   ],
   "source": [
    "smape(true[size:],preds[size:])"
   ]
  },
  {
   "cell_type": "code",
   "execution_count": null,
   "id": "942b7342",
   "metadata": {},
   "outputs": [],
   "source": []
  },
  {
   "cell_type": "code",
   "execution_count": null,
   "id": "4f8cb941",
   "metadata": {},
   "outputs": [],
   "source": []
  }
 ],
 "metadata": {
  "kernelspec": {
   "display_name": "Python 3 (ipykernel)",
   "language": "python",
   "name": "python3"
  },
  "language_info": {
   "codemirror_mode": {
    "name": "ipython",
    "version": 3
   },
   "file_extension": ".py",
   "mimetype": "text/x-python",
   "name": "python",
   "nbconvert_exporter": "python",
   "pygments_lexer": "ipython3",
   "version": "3.9.7"
  }
 },
 "nbformat": 4,
 "nbformat_minor": 5
}
