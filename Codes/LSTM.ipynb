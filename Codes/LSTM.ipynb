{
 "cells": [
  {
   "cell_type": "code",
   "execution_count": null,
   "id": "9fedf70a",
   "metadata": {},
   "outputs": [],
   "source": [
    "import pandas as pd \n",
    "import numpy as np \n",
    "import json\n",
    "import matplotlib.pyplot as plt\n",
    "from sklearn.preprocessing import MinMaxScaler\n",
    "from sklearn.model_selection import train_test_split\n",
    "from tqdm import tqdm \n",
    "from sklearn.metrics import mean_squared_error\n",
    "import tensorflow as tf\n",
    "import warnings\n",
    "warnings.filterwarnings(\"ignore\")\n",
    "import random\n",
    "import time "
   ]
  },
  {
   "cell_type": "code",
   "execution_count": null,
   "id": "d66f1bc3",
   "metadata": {},
   "outputs": [],
   "source": [
    "# load data \n",
    "mbd_data = pd.read_csv('./outputs/mbd_data.csv')\n",
    "clusters = json.loads(open('./outputs/clusters_xgboost.json',\"r\").read())\n",
    "cluster_keys = [\"0\",\"1\",\"2\",\"3\",\"4\",\"5\",\"6\",\"-1\"]\n",
    "mbd_data = mbd_data.sort_values(by=[\"cfips\",\"first_day_of_month\"]).reset_index(drop=True)\n",
    "mbd_data.median_hh_inc.ffill(inplace=True)\n",
    "mbd_data.pct_it_workers.ffill(inplace=True)\n",
    "\n",
    "sc = MinMaxScaler()\n",
    "mbd_data.median_hh_inc = sc.fit_transform( mbd_data.median_hh_inc.values.reshape(-1,1) ).reshape(-1)\n",
    "\n",
    "cfips = mbd_data.cfips.unique()"
   ]
  },
  {
   "cell_type": "code",
   "execution_count": null,
   "id": "eab9b944",
   "metadata": {},
   "outputs": [],
   "source": [
    "def smape(y_true, y_pred):\n",
    "    numerator = np.abs(y_pred - y_true)\n",
    "    denominator = (np.abs(y_pred) + np.abs(y_true)) / 2\n",
    "    smape_val = np.mean(numerator / denominator)\n",
    "    return smape_val"
   ]
  },
  {
   "cell_type": "code",
   "execution_count": null,
   "id": "8e2e49e3",
   "metadata": {},
   "outputs": [],
   "source": [
    "# Plot a county \n",
    "\n",
    "def plot_county(cfip):\n",
    "#     cfip = clusters[\"-1\"][0]\n",
    "    location = mbd_data[mbd_data.cfips == cfip].county.iloc[0] + \", \" +mbd_data[mbd_data.cfips == cfip].state.iloc[0]\n",
    "    # Create a figure and axis object\n",
    "    fig, ax = plt.subplots(figsize=(10, 6))\n",
    "    dates = pd.date_range(start='2019-08-01', end='2022-12-01', freq='MS')\n",
    "    values = mbd_data[mbd_data.cfips == cfip][\"microbusiness_density\"].values\n",
    "\n",
    "    # Plot the line\n",
    "    ax.plot(dates, values)\n",
    "\n",
    "    # Set the axis labels and title\n",
    "    ax.set_xlabel('Date')\n",
    "    ax.set_ylabel('Microbusiness Density')\n",
    "    ax.set_title(f'{location} ( CFIP {cfip} )  ')\n",
    "\n",
    "    # Rotate the x-axis tick labels\n",
    "    plt.setp(ax.get_xticklabels(), rotation=45, ha='right')\n",
    "\n",
    "    # Show the plot\n",
    "    plt.show()"
   ]
  },
  {
   "cell_type": "code",
   "execution_count": null,
   "id": "968e4d57",
   "metadata": {},
   "outputs": [],
   "source": [
    "def time_series_split(arr, k):\n",
    "    n = len(arr)\n",
    "    if k > n:\n",
    "        return []\n",
    "    window = [list(arr[i:i+k]) for i in range(n-k+1)]\n",
    "    return np.array(window)"
   ]
  },
  {
   "cell_type": "code",
   "execution_count": null,
   "id": "23a8859c",
   "metadata": {},
   "outputs": [],
   "source": [
    "k = 4\n",
    "cfip = clusters[\"0\"][9]\n",
    "data = mbd_data[mbd_data.cfips == int(cfip)][\"microbusiness_density\"].values\n",
    "data = time_series_split(data,k)\n",
    "# time_col = np.arange(0,len(data))\n",
    "# data  = np.insert(data,0,time_col,axis=1)\n",
    "train_size = int(0.9*len(data))\n",
    "X_train, X_test, y_train, y_test = data[:train_size,:-1],data[train_size:,:-1] , data[:train_size,-1:], data[train_size:,-1:]\n",
    "X_train, X_test = X_train[:,np.newaxis, :], X_test[:,np.newaxis, :]\n",
    "plot_county(int(cfip))"
   ]
  },
  {
   "cell_type": "code",
   "execution_count": null,
   "id": "88c0f82f",
   "metadata": {},
   "outputs": [],
   "source": []
  },
  {
   "cell_type": "code",
   "execution_count": null,
   "id": "0b6e0c1d",
   "metadata": {},
   "outputs": [],
   "source": [
    "# Define the model\n",
    "# Set the random seed for reproducibility\n",
    "random.seed(123)\n",
    "np.random.seed(123)\n",
    "tf.random.set_seed(123)\n",
    "\n",
    "model = tf.keras.Sequential([\n",
    "    tf.keras.layers.LSTM(32,input_shape=(1,k-1)),\n",
    "    tf.keras.layers.Dense(1)\n",
    "])\n",
    "\n",
    "# Compile the model\n",
    "model.compile(optimizer='adam', loss='mse')\n"
   ]
  },
  {
   "cell_type": "code",
   "execution_count": null,
   "id": "eac1275b",
   "metadata": {},
   "outputs": [],
   "source": [
    "model.fit(X_train,y_train,epochs=150,verbose=0)"
   ]
  },
  {
   "cell_type": "code",
   "execution_count": null,
   "id": "0820fe26",
   "metadata": {},
   "outputs": [],
   "source": [
    "y_pred = model.predict(X_train).reshape(-1)\n",
    "y_true = y_train.reshape(-1)\n",
    "\n",
    "y_pred = model.predict(X_test).reshape(-1)\n",
    "y_true = y_test.reshape(-1)"
   ]
  },
  {
   "cell_type": "code",
   "execution_count": null,
   "id": "a16fceeb",
   "metadata": {},
   "outputs": [],
   "source": [
    "y_true"
   ]
  },
  {
   "cell_type": "code",
   "execution_count": null,
   "id": "44495673",
   "metadata": {},
   "outputs": [],
   "source": [
    "y_pred"
   ]
  },
  {
   "cell_type": "code",
   "execution_count": null,
   "id": "ed10cb27",
   "metadata": {},
   "outputs": [],
   "source": [
    "smape(y_true,y_pred)"
   ]
  },
  {
   "cell_type": "code",
   "execution_count": null,
   "id": "6c1c61d9",
   "metadata": {},
   "outputs": [],
   "source": [
    "plt.plot(y_true-y_pred)"
   ]
  },
  {
   "cell_type": "code",
   "execution_count": null,
   "id": "4e7e6f0e",
   "metadata": {},
   "outputs": [],
   "source": [
    "plt.plot(y_true)\n",
    "plt.plot(y_pred)"
   ]
  },
  {
   "cell_type": "code",
   "execution_count": null,
   "id": "c4c1647a",
   "metadata": {},
   "outputs": [],
   "source": [
    "random.seed(123)\n",
    "np.random.seed(123)\n",
    "tf.random.set_seed(123)\n",
    "\n",
    "def get_model(k,units):\n",
    "    model = tf.keras.Sequential([\n",
    "        tf.keras.layers.LSTM(units,input_shape=(1,k-1)),\n",
    "        tf.keras.layers.Dense(1)\n",
    "    ])\n",
    "    \n",
    "    # Compile the model\n",
    "    model.compile(optimizer='adam', loss='mse')\n",
    "    return model \n",
    "\n",
    "    \n",
    "def get_data(k,cfip):\n",
    "    data = mbd_data[mbd_data.cfips == int(cfip)][\"microbusiness_density\"].values\n",
    "    data = time_series_split(data,k)\n",
    "    train_size = int(0.9*len(data))\n",
    "    X_train, X_test, y_train, y_test = data[:train_size,:-1],data[train_size:,:-1] , data[:train_size,-1:], data[train_size:,-1:]\n",
    "    X_train, X_test = X_train[:,np.newaxis, :], X_test[:,np.newaxis, :]\n",
    "    return X_train, X_test, y_train, y_test\n"
   ]
  },
  {
   "cell_type": "code",
   "execution_count": null,
   "id": "f59b606f",
   "metadata": {},
   "outputs": [],
   "source": [
    "pbar = tqdm(total=(13-3)*(6))\n",
    "for k in range(3,13):\n",
    "    for units in [4,8,12,16,32,64]:\n",
    "        model = get_model(k,units)\n",
    "        X_train, X_test, y_train, y_test = get_data(k,cfip)\n",
    "        model.fit(X_train,y_train,epochs=200,verbose=0)\n",
    "        y_pred = model.predict(X_train).reshape(-1)\n",
    "        y_true = y_train.reshape(-1)\n",
    "        train_smape = smape(y_true,y_pred)\n",
    "        \n",
    "        y_pred = model.predict(X_test).reshape(-1)\n",
    "        y_true = y_test.reshape(-1)\n",
    "        val_smape = smape(y_true,y_pred)\n",
    "        pbar.update(1)      "
   ]
  },
  {
   "cell_type": "code",
   "execution_count": null,
   "id": "728b7824",
   "metadata": {},
   "outputs": [],
   "source": []
  },
  {
   "cell_type": "code",
   "execution_count": null,
   "id": "6ffd009a",
   "metadata": {},
   "outputs": [],
   "source": []
  }
 ],
 "metadata": {
  "kernelspec": {
   "display_name": "Python 3 (ipykernel)",
   "language": "python",
   "name": "python3"
  },
  "language_info": {
   "codemirror_mode": {
    "name": "ipython",
    "version": 3
   },
   "file_extension": ".py",
   "mimetype": "text/x-python",
   "name": "python",
   "nbconvert_exporter": "python",
   "pygments_lexer": "ipython3",
   "version": "3.9.7"
  }
 },
 "nbformat": 4,
 "nbformat_minor": 5
}
