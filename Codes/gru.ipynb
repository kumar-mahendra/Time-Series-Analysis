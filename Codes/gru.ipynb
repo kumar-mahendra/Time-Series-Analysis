{
 "cells": [
  {
   "cell_type": "code",
   "execution_count": 1,
   "id": "e605f202",
   "metadata": {
    "_cell_guid": "b1076dfc-b9ad-4769-8c92-a6c4dae69d19",
    "_uuid": "8f2839f25d086af736a60e9eeb907d3b93b6e0e5",
    "execution": {
     "iopub.execute_input": "2023-02-15T09:33:00.547888Z",
     "iopub.status.busy": "2023-02-15T09:33:00.547330Z",
     "iopub.status.idle": "2023-02-15T09:33:00.557734Z",
     "shell.execute_reply": "2023-02-15T09:33:00.556864Z"
    },
    "papermill": {
     "duration": 0.023357,
     "end_time": "2023-02-15T09:33:00.560145",
     "exception": false,
     "start_time": "2023-02-15T09:33:00.536788",
     "status": "completed"
    },
    "tags": []
   },
   "outputs": [],
   "source": [
    "import numpy as np # linear algebra\n",
    "import pandas as pd # data processing, CSV file I/O (e.g. pd.read_csv)\n",
    "import itertools"
   ]
  },
  {
   "cell_type": "code",
   "execution_count": 2,
   "id": "e9175001",
   "metadata": {
    "execution": {
     "iopub.execute_input": "2023-02-15T09:33:00.577006Z",
     "iopub.status.busy": "2023-02-15T09:33:00.576139Z",
     "iopub.status.idle": "2023-02-15T09:33:00.909714Z",
     "shell.execute_reply": "2023-02-15T09:33:00.908799Z"
    },
    "papermill": {
     "duration": 0.344274,
     "end_time": "2023-02-15T09:33:00.912144",
     "exception": false,
     "start_time": "2023-02-15T09:33:00.567870",
     "status": "completed"
    },
    "tags": []
   },
   "outputs": [],
   "source": [
    "train_dataset = pd.read_csv('train.csv')\n",
    "census_dataset = pd.read_csv('census_starter.csv')"
   ]
  },
  {
   "cell_type": "code",
   "execution_count": 3,
   "id": "57998e61",
   "metadata": {
    "execution": {
     "iopub.execute_input": "2023-02-15T09:33:00.928522Z",
     "iopub.status.busy": "2023-02-15T09:33:00.928237Z",
     "iopub.status.idle": "2023-02-15T09:33:00.998813Z",
     "shell.execute_reply": "2023-02-15T09:33:00.997877Z"
    },
    "papermill": {
     "duration": 0.081371,
     "end_time": "2023-02-15T09:33:01.001256",
     "exception": false,
     "start_time": "2023-02-15T09:33:00.919885",
     "status": "completed"
    },
    "tags": []
   },
   "outputs": [],
   "source": [
    "train_dataset['cfips'] = train_dataset['cfips'].astype(\"string\")"
   ]
  },
  {
   "cell_type": "code",
   "execution_count": 4,
   "id": "e5789b60",
   "metadata": {
    "execution": {
     "iopub.execute_input": "2023-02-15T09:33:01.017455Z",
     "iopub.status.busy": "2023-02-15T09:33:01.017138Z",
     "iopub.status.idle": "2023-02-15T09:33:01.051316Z",
     "shell.execute_reply": "2023-02-15T09:33:01.050261Z"
    },
    "papermill": {
     "duration": 0.04562,
     "end_time": "2023-02-15T09:33:01.054477",
     "exception": false,
     "start_time": "2023-02-15T09:33:01.008857",
     "status": "completed"
    },
    "tags": []
   },
   "outputs": [
    {
     "data": {
      "text/html": [
       "<div>\n",
       "<style scoped>\n",
       "    .dataframe tbody tr th:only-of-type {\n",
       "        vertical-align: middle;\n",
       "    }\n",
       "\n",
       "    .dataframe tbody tr th {\n",
       "        vertical-align: top;\n",
       "    }\n",
       "\n",
       "    .dataframe thead th {\n",
       "        text-align: right;\n",
       "    }\n",
       "</style>\n",
       "<table border=\"1\" class=\"dataframe\">\n",
       "  <thead>\n",
       "    <tr style=\"text-align: right;\">\n",
       "      <th></th>\n",
       "      <th>microbusiness_density</th>\n",
       "      <th>active</th>\n",
       "    </tr>\n",
       "  </thead>\n",
       "  <tbody>\n",
       "    <tr>\n",
       "      <th>count</th>\n",
       "      <td>122265.000000</td>\n",
       "      <td>1.222650e+05</td>\n",
       "    </tr>\n",
       "    <tr>\n",
       "      <th>mean</th>\n",
       "      <td>3.817671</td>\n",
       "      <td>6.442858e+03</td>\n",
       "    </tr>\n",
       "    <tr>\n",
       "      <th>std</th>\n",
       "      <td>4.991087</td>\n",
       "      <td>3.304001e+04</td>\n",
       "    </tr>\n",
       "    <tr>\n",
       "      <th>min</th>\n",
       "      <td>0.000000</td>\n",
       "      <td>0.000000e+00</td>\n",
       "    </tr>\n",
       "    <tr>\n",
       "      <th>25%</th>\n",
       "      <td>1.639344</td>\n",
       "      <td>1.450000e+02</td>\n",
       "    </tr>\n",
       "    <tr>\n",
       "      <th>50%</th>\n",
       "      <td>2.586543</td>\n",
       "      <td>4.880000e+02</td>\n",
       "    </tr>\n",
       "    <tr>\n",
       "      <th>75%</th>\n",
       "      <td>4.519231</td>\n",
       "      <td>2.124000e+03</td>\n",
       "    </tr>\n",
       "    <tr>\n",
       "      <th>max</th>\n",
       "      <td>284.340030</td>\n",
       "      <td>1.167744e+06</td>\n",
       "    </tr>\n",
       "  </tbody>\n",
       "</table>\n",
       "</div>"
      ],
      "text/plain": [
       "       microbusiness_density        active\n",
       "count          122265.000000  1.222650e+05\n",
       "mean                3.817671  6.442858e+03\n",
       "std                 4.991087  3.304001e+04\n",
       "min                 0.000000  0.000000e+00\n",
       "25%                 1.639344  1.450000e+02\n",
       "50%                 2.586543  4.880000e+02\n",
       "75%                 4.519231  2.124000e+03\n",
       "max               284.340030  1.167744e+06"
      ]
     },
     "execution_count": 4,
     "metadata": {},
     "output_type": "execute_result"
    }
   ],
   "source": [
    "train_dataset.describe()"
   ]
  },
  {
   "cell_type": "code",
   "execution_count": 5,
   "id": "ca31be7a",
   "metadata": {
    "execution": {
     "iopub.execute_input": "2023-02-15T09:33:01.070977Z",
     "iopub.status.busy": "2023-02-15T09:33:01.070664Z",
     "iopub.status.idle": "2023-02-15T09:33:01.107419Z",
     "shell.execute_reply": "2023-02-15T09:33:01.105531Z"
    },
    "papermill": {
     "duration": 0.047027,
     "end_time": "2023-02-15T09:33:01.109494",
     "exception": false,
     "start_time": "2023-02-15T09:33:01.062467",
     "status": "completed"
    },
    "tags": []
   },
   "outputs": [
    {
     "name": "stdout",
     "output_type": "stream",
     "text": [
      "<class 'pandas.core.frame.DataFrame'>\n",
      "RangeIndex: 122265 entries, 0 to 122264\n",
      "Data columns (total 7 columns):\n",
      " #   Column                 Non-Null Count   Dtype  \n",
      "---  ------                 --------------   -----  \n",
      " 0   row_id                 122265 non-null  object \n",
      " 1   cfips                  122265 non-null  string \n",
      " 2   county                 122265 non-null  object \n",
      " 3   state                  122265 non-null  object \n",
      " 4   first_day_of_month     122265 non-null  object \n",
      " 5   microbusiness_density  122265 non-null  float64\n",
      " 6   active                 122265 non-null  int64  \n",
      "dtypes: float64(1), int64(1), object(4), string(1)\n",
      "memory usage: 6.5+ MB\n"
     ]
    }
   ],
   "source": [
    "train_dataset.info()"
   ]
  },
  {
   "cell_type": "code",
   "execution_count": 6,
   "id": "b787adf9",
   "metadata": {
    "execution": {
     "iopub.execute_input": "2023-02-15T09:33:01.127919Z",
     "iopub.status.busy": "2023-02-15T09:33:01.127046Z",
     "iopub.status.idle": "2023-02-15T09:33:01.151454Z",
     "shell.execute_reply": "2023-02-15T09:33:01.150621Z"
    },
    "papermill": {
     "duration": 0.034961,
     "end_time": "2023-02-15T09:33:01.153483",
     "exception": false,
     "start_time": "2023-02-15T09:33:01.118522",
     "status": "completed"
    },
    "tags": []
   },
   "outputs": [],
   "source": [
    "train_dataset['first_day_of_month'] = pd.to_datetime(train_dataset.first_day_of_month, format='%Y-%m-%d')"
   ]
  },
  {
   "cell_type": "code",
   "execution_count": 7,
   "id": "a9dd6798",
   "metadata": {
    "execution": {
     "iopub.execute_input": "2023-02-15T09:33:01.170214Z",
     "iopub.status.busy": "2023-02-15T09:33:01.169931Z",
     "iopub.status.idle": "2023-02-15T09:33:01.184661Z",
     "shell.execute_reply": "2023-02-15T09:33:01.183803Z"
    },
    "papermill": {
     "duration": 0.025063,
     "end_time": "2023-02-15T09:33:01.186672",
     "exception": false,
     "start_time": "2023-02-15T09:33:01.161609",
     "status": "completed"
    },
    "tags": []
   },
   "outputs": [],
   "source": [
    "train_dataset['year']= train_dataset['first_day_of_month'].dt.year"
   ]
  },
  {
   "cell_type": "code",
   "execution_count": 8,
   "id": "9abc2e3d",
   "metadata": {
    "execution": {
     "iopub.execute_input": "2023-02-15T09:33:01.202858Z",
     "iopub.status.busy": "2023-02-15T09:33:01.202554Z",
     "iopub.status.idle": "2023-02-15T09:33:01.215993Z",
     "shell.execute_reply": "2023-02-15T09:33:01.214977Z"
    },
    "papermill": {
     "duration": 0.02407,
     "end_time": "2023-02-15T09:33:01.218279",
     "exception": false,
     "start_time": "2023-02-15T09:33:01.194209",
     "status": "completed"
    },
    "tags": []
   },
   "outputs": [
    {
     "data": {
      "text/html": [
       "<div>\n",
       "<style scoped>\n",
       "    .dataframe tbody tr th:only-of-type {\n",
       "        vertical-align: middle;\n",
       "    }\n",
       "\n",
       "    .dataframe tbody tr th {\n",
       "        vertical-align: top;\n",
       "    }\n",
       "\n",
       "    .dataframe thead th {\n",
       "        text-align: right;\n",
       "    }\n",
       "</style>\n",
       "<table border=\"1\" class=\"dataframe\">\n",
       "  <thead>\n",
       "    <tr style=\"text-align: right;\">\n",
       "      <th></th>\n",
       "      <th>row_id</th>\n",
       "      <th>cfips</th>\n",
       "      <th>county</th>\n",
       "      <th>state</th>\n",
       "      <th>first_day_of_month</th>\n",
       "      <th>microbusiness_density</th>\n",
       "      <th>active</th>\n",
       "      <th>year</th>\n",
       "    </tr>\n",
       "  </thead>\n",
       "  <tbody>\n",
       "    <tr>\n",
       "      <th>0</th>\n",
       "      <td>1001_2019-08-01</td>\n",
       "      <td>1001</td>\n",
       "      <td>Autauga County</td>\n",
       "      <td>Alabama</td>\n",
       "      <td>2019-08-01</td>\n",
       "      <td>3.007682</td>\n",
       "      <td>1249</td>\n",
       "      <td>2019</td>\n",
       "    </tr>\n",
       "    <tr>\n",
       "      <th>1</th>\n",
       "      <td>1001_2019-09-01</td>\n",
       "      <td>1001</td>\n",
       "      <td>Autauga County</td>\n",
       "      <td>Alabama</td>\n",
       "      <td>2019-09-01</td>\n",
       "      <td>2.884870</td>\n",
       "      <td>1198</td>\n",
       "      <td>2019</td>\n",
       "    </tr>\n",
       "    <tr>\n",
       "      <th>2</th>\n",
       "      <td>1001_2019-10-01</td>\n",
       "      <td>1001</td>\n",
       "      <td>Autauga County</td>\n",
       "      <td>Alabama</td>\n",
       "      <td>2019-10-01</td>\n",
       "      <td>3.055843</td>\n",
       "      <td>1269</td>\n",
       "      <td>2019</td>\n",
       "    </tr>\n",
       "    <tr>\n",
       "      <th>3</th>\n",
       "      <td>1001_2019-11-01</td>\n",
       "      <td>1001</td>\n",
       "      <td>Autauga County</td>\n",
       "      <td>Alabama</td>\n",
       "      <td>2019-11-01</td>\n",
       "      <td>2.993233</td>\n",
       "      <td>1243</td>\n",
       "      <td>2019</td>\n",
       "    </tr>\n",
       "    <tr>\n",
       "      <th>4</th>\n",
       "      <td>1001_2019-12-01</td>\n",
       "      <td>1001</td>\n",
       "      <td>Autauga County</td>\n",
       "      <td>Alabama</td>\n",
       "      <td>2019-12-01</td>\n",
       "      <td>2.993233</td>\n",
       "      <td>1243</td>\n",
       "      <td>2019</td>\n",
       "    </tr>\n",
       "  </tbody>\n",
       "</table>\n",
       "</div>"
      ],
      "text/plain": [
       "            row_id cfips          county    state first_day_of_month  \\\n",
       "0  1001_2019-08-01  1001  Autauga County  Alabama         2019-08-01   \n",
       "1  1001_2019-09-01  1001  Autauga County  Alabama         2019-09-01   \n",
       "2  1001_2019-10-01  1001  Autauga County  Alabama         2019-10-01   \n",
       "3  1001_2019-11-01  1001  Autauga County  Alabama         2019-11-01   \n",
       "4  1001_2019-12-01  1001  Autauga County  Alabama         2019-12-01   \n",
       "\n",
       "   microbusiness_density  active  year  \n",
       "0               3.007682    1249  2019  \n",
       "1               2.884870    1198  2019  \n",
       "2               3.055843    1269  2019  \n",
       "3               2.993233    1243  2019  \n",
       "4               2.993233    1243  2019  "
      ]
     },
     "execution_count": 8,
     "metadata": {},
     "output_type": "execute_result"
    }
   ],
   "source": [
    "train_dataset.head()"
   ]
  },
  {
   "cell_type": "code",
   "execution_count": 9,
   "id": "db485b31",
   "metadata": {
    "execution": {
     "iopub.execute_input": "2023-02-15T09:33:01.236391Z",
     "iopub.status.busy": "2023-02-15T09:33:01.234985Z",
     "iopub.status.idle": "2023-02-15T09:33:01.242414Z",
     "shell.execute_reply": "2023-02-15T09:33:01.241416Z"
    },
    "papermill": {
     "duration": 0.017685,
     "end_time": "2023-02-15T09:33:01.244379",
     "exception": false,
     "start_time": "2023-02-15T09:33:01.226694",
     "status": "completed"
    },
    "tags": []
   },
   "outputs": [],
   "source": [
    "census_dataset['cfips'] = census_dataset['cfips'].astype(\"string\")"
   ]
  },
  {
   "cell_type": "code",
   "execution_count": 10,
   "id": "854e59ee",
   "metadata": {
    "execution": {
     "iopub.execute_input": "2023-02-15T09:33:01.260544Z",
     "iopub.status.busy": "2023-02-15T09:33:01.260288Z",
     "iopub.status.idle": "2023-02-15T09:33:01.337497Z",
     "shell.execute_reply": "2023-02-15T09:33:01.336349Z"
    },
    "papermill": {
     "duration": 0.088789,
     "end_time": "2023-02-15T09:33:01.340598",
     "exception": false,
     "start_time": "2023-02-15T09:33:01.251809",
     "status": "completed"
    },
    "tags": []
   },
   "outputs": [
    {
     "data": {
      "text/html": [
       "<div>\n",
       "<style scoped>\n",
       "    .dataframe tbody tr th:only-of-type {\n",
       "        vertical-align: middle;\n",
       "    }\n",
       "\n",
       "    .dataframe tbody tr th {\n",
       "        vertical-align: top;\n",
       "    }\n",
       "\n",
       "    .dataframe thead th {\n",
       "        text-align: right;\n",
       "    }\n",
       "</style>\n",
       "<table border=\"1\" class=\"dataframe\">\n",
       "  <thead>\n",
       "    <tr style=\"text-align: right;\">\n",
       "      <th></th>\n",
       "      <th>pct_bb_2017</th>\n",
       "      <th>pct_bb_2018</th>\n",
       "      <th>pct_bb_2019</th>\n",
       "      <th>pct_bb_2020</th>\n",
       "      <th>pct_bb_2021</th>\n",
       "      <th>pct_college_2017</th>\n",
       "      <th>pct_college_2018</th>\n",
       "      <th>pct_college_2019</th>\n",
       "      <th>pct_college_2020</th>\n",
       "      <th>pct_college_2021</th>\n",
       "      <th>...</th>\n",
       "      <th>pct_it_workers_2017</th>\n",
       "      <th>pct_it_workers_2018</th>\n",
       "      <th>pct_it_workers_2019</th>\n",
       "      <th>pct_it_workers_2020</th>\n",
       "      <th>pct_it_workers_2021</th>\n",
       "      <th>median_hh_inc_2017</th>\n",
       "      <th>median_hh_inc_2018</th>\n",
       "      <th>median_hh_inc_2019</th>\n",
       "      <th>median_hh_inc_2020</th>\n",
       "      <th>median_hh_inc_2021</th>\n",
       "    </tr>\n",
       "  </thead>\n",
       "  <tbody>\n",
       "    <tr>\n",
       "      <th>count</th>\n",
       "      <td>3142.000000</td>\n",
       "      <td>3142.000000</td>\n",
       "      <td>3142.000000</td>\n",
       "      <td>3141.000000</td>\n",
       "      <td>3141.000000</td>\n",
       "      <td>3142.000000</td>\n",
       "      <td>3142.000000</td>\n",
       "      <td>3142.000000</td>\n",
       "      <td>3141.000000</td>\n",
       "      <td>3141.000000</td>\n",
       "      <td>...</td>\n",
       "      <td>3142.000000</td>\n",
       "      <td>3141.000000</td>\n",
       "      <td>3142.000000</td>\n",
       "      <td>3141.000000</td>\n",
       "      <td>3141.000000</td>\n",
       "      <td>3142.000000</td>\n",
       "      <td>3141.000000</td>\n",
       "      <td>3142.000000</td>\n",
       "      <td>3140.000000</td>\n",
       "      <td>3140.000000</td>\n",
       "    </tr>\n",
       "    <tr>\n",
       "      <th>mean</th>\n",
       "      <td>69.920401</td>\n",
       "      <td>72.690866</td>\n",
       "      <td>75.398600</td>\n",
       "      <td>78.543298</td>\n",
       "      <td>80.539096</td>\n",
       "      <td>13.813399</td>\n",
       "      <td>14.005379</td>\n",
       "      <td>14.240452</td>\n",
       "      <td>14.631328</td>\n",
       "      <td>14.851226</td>\n",
       "      <td>...</td>\n",
       "      <td>1.427148</td>\n",
       "      <td>1.382171</td>\n",
       "      <td>1.338956</td>\n",
       "      <td>1.309265</td>\n",
       "      <td>1.272684</td>\n",
       "      <td>49754.163908</td>\n",
       "      <td>51583.175422</td>\n",
       "      <td>53475.909612</td>\n",
       "      <td>55012.443312</td>\n",
       "      <td>58223.339490</td>\n",
       "    </tr>\n",
       "    <tr>\n",
       "      <th>std</th>\n",
       "      <td>9.702052</td>\n",
       "      <td>9.255863</td>\n",
       "      <td>8.846665</td>\n",
       "      <td>8.250864</td>\n",
       "      <td>7.889931</td>\n",
       "      <td>5.586649</td>\n",
       "      <td>5.630199</td>\n",
       "      <td>5.689780</td>\n",
       "      <td>5.776940</td>\n",
       "      <td>5.832285</td>\n",
       "      <td>...</td>\n",
       "      <td>0.986985</td>\n",
       "      <td>0.942777</td>\n",
       "      <td>0.940891</td>\n",
       "      <td>0.990342</td>\n",
       "      <td>0.968579</td>\n",
       "      <td>13154.424871</td>\n",
       "      <td>13703.502202</td>\n",
       "      <td>14192.529173</td>\n",
       "      <td>14649.568591</td>\n",
       "      <td>15541.038914</td>\n",
       "    </tr>\n",
       "    <tr>\n",
       "      <th>min</th>\n",
       "      <td>24.500000</td>\n",
       "      <td>25.700000</td>\n",
       "      <td>34.800000</td>\n",
       "      <td>33.300000</td>\n",
       "      <td>37.000000</td>\n",
       "      <td>2.400000</td>\n",
       "      <td>0.000000</td>\n",
       "      <td>0.000000</td>\n",
       "      <td>0.000000</td>\n",
       "      <td>0.000000</td>\n",
       "      <td>...</td>\n",
       "      <td>0.000000</td>\n",
       "      <td>0.000000</td>\n",
       "      <td>0.000000</td>\n",
       "      <td>0.000000</td>\n",
       "      <td>0.000000</td>\n",
       "      <td>19264.000000</td>\n",
       "      <td>20188.000000</td>\n",
       "      <td>21504.000000</td>\n",
       "      <td>22292.000000</td>\n",
       "      <td>17109.000000</td>\n",
       "    </tr>\n",
       "    <tr>\n",
       "      <th>25%</th>\n",
       "      <td>64.200000</td>\n",
       "      <td>67.425000</td>\n",
       "      <td>70.500000</td>\n",
       "      <td>74.100000</td>\n",
       "      <td>76.400000</td>\n",
       "      <td>9.700000</td>\n",
       "      <td>9.900000</td>\n",
       "      <td>10.100000</td>\n",
       "      <td>10.500000</td>\n",
       "      <td>10.600000</td>\n",
       "      <td>...</td>\n",
       "      <td>0.800000</td>\n",
       "      <td>0.800000</td>\n",
       "      <td>0.700000</td>\n",
       "      <td>0.700000</td>\n",
       "      <td>0.600000</td>\n",
       "      <td>41123.000000</td>\n",
       "      <td>42480.000000</td>\n",
       "      <td>44155.000000</td>\n",
       "      <td>45653.000000</td>\n",
       "      <td>48179.500000</td>\n",
       "    </tr>\n",
       "    <tr>\n",
       "      <th>50%</th>\n",
       "      <td>70.700000</td>\n",
       "      <td>73.600000</td>\n",
       "      <td>76.450000</td>\n",
       "      <td>79.600000</td>\n",
       "      <td>81.700000</td>\n",
       "      <td>12.800000</td>\n",
       "      <td>13.000000</td>\n",
       "      <td>13.250000</td>\n",
       "      <td>13.600000</td>\n",
       "      <td>13.800000</td>\n",
       "      <td>...</td>\n",
       "      <td>1.300000</td>\n",
       "      <td>1.300000</td>\n",
       "      <td>1.200000</td>\n",
       "      <td>1.200000</td>\n",
       "      <td>1.100000</td>\n",
       "      <td>48065.500000</td>\n",
       "      <td>49888.000000</td>\n",
       "      <td>51757.500000</td>\n",
       "      <td>52842.000000</td>\n",
       "      <td>55907.000000</td>\n",
       "    </tr>\n",
       "    <tr>\n",
       "      <th>75%</th>\n",
       "      <td>76.400000</td>\n",
       "      <td>78.800000</td>\n",
       "      <td>81.400000</td>\n",
       "      <td>84.100000</td>\n",
       "      <td>85.900000</td>\n",
       "      <td>16.800000</td>\n",
       "      <td>17.100000</td>\n",
       "      <td>17.300000</td>\n",
       "      <td>17.900000</td>\n",
       "      <td>18.000000</td>\n",
       "      <td>...</td>\n",
       "      <td>1.900000</td>\n",
       "      <td>1.800000</td>\n",
       "      <td>1.800000</td>\n",
       "      <td>1.800000</td>\n",
       "      <td>1.700000</td>\n",
       "      <td>55763.500000</td>\n",
       "      <td>57611.000000</td>\n",
       "      <td>59867.250000</td>\n",
       "      <td>61500.750000</td>\n",
       "      <td>64930.000000</td>\n",
       "    </tr>\n",
       "    <tr>\n",
       "      <th>max</th>\n",
       "      <td>94.600000</td>\n",
       "      <td>95.500000</td>\n",
       "      <td>96.000000</td>\n",
       "      <td>97.100000</td>\n",
       "      <td>97.600000</td>\n",
       "      <td>43.700000</td>\n",
       "      <td>48.000000</td>\n",
       "      <td>45.400000</td>\n",
       "      <td>43.000000</td>\n",
       "      <td>43.700000</td>\n",
       "      <td>...</td>\n",
       "      <td>17.400000</td>\n",
       "      <td>11.700000</td>\n",
       "      <td>10.500000</td>\n",
       "      <td>15.200000</td>\n",
       "      <td>15.200000</td>\n",
       "      <td>129588.000000</td>\n",
       "      <td>136268.000000</td>\n",
       "      <td>142299.000000</td>\n",
       "      <td>147111.000000</td>\n",
       "      <td>156821.000000</td>\n",
       "    </tr>\n",
       "  </tbody>\n",
       "</table>\n",
       "<p>8 rows × 25 columns</p>\n",
       "</div>"
      ],
      "text/plain": [
       "       pct_bb_2017  pct_bb_2018  pct_bb_2019  pct_bb_2020  pct_bb_2021  \\\n",
       "count  3142.000000  3142.000000  3142.000000  3141.000000  3141.000000   \n",
       "mean     69.920401    72.690866    75.398600    78.543298    80.539096   \n",
       "std       9.702052     9.255863     8.846665     8.250864     7.889931   \n",
       "min      24.500000    25.700000    34.800000    33.300000    37.000000   \n",
       "25%      64.200000    67.425000    70.500000    74.100000    76.400000   \n",
       "50%      70.700000    73.600000    76.450000    79.600000    81.700000   \n",
       "75%      76.400000    78.800000    81.400000    84.100000    85.900000   \n",
       "max      94.600000    95.500000    96.000000    97.100000    97.600000   \n",
       "\n",
       "       pct_college_2017  pct_college_2018  pct_college_2019  pct_college_2020  \\\n",
       "count       3142.000000       3142.000000       3142.000000       3141.000000   \n",
       "mean          13.813399         14.005379         14.240452         14.631328   \n",
       "std            5.586649          5.630199          5.689780          5.776940   \n",
       "min            2.400000          0.000000          0.000000          0.000000   \n",
       "25%            9.700000          9.900000         10.100000         10.500000   \n",
       "50%           12.800000         13.000000         13.250000         13.600000   \n",
       "75%           16.800000         17.100000         17.300000         17.900000   \n",
       "max           43.700000         48.000000         45.400000         43.000000   \n",
       "\n",
       "       pct_college_2021  ...  pct_it_workers_2017  pct_it_workers_2018  \\\n",
       "count       3141.000000  ...          3142.000000          3141.000000   \n",
       "mean          14.851226  ...             1.427148             1.382171   \n",
       "std            5.832285  ...             0.986985             0.942777   \n",
       "min            0.000000  ...             0.000000             0.000000   \n",
       "25%           10.600000  ...             0.800000             0.800000   \n",
       "50%           13.800000  ...             1.300000             1.300000   \n",
       "75%           18.000000  ...             1.900000             1.800000   \n",
       "max           43.700000  ...            17.400000            11.700000   \n",
       "\n",
       "       pct_it_workers_2019  pct_it_workers_2020  pct_it_workers_2021  \\\n",
       "count          3142.000000          3141.000000          3141.000000   \n",
       "mean              1.338956             1.309265             1.272684   \n",
       "std               0.940891             0.990342             0.968579   \n",
       "min               0.000000             0.000000             0.000000   \n",
       "25%               0.700000             0.700000             0.600000   \n",
       "50%               1.200000             1.200000             1.100000   \n",
       "75%               1.800000             1.800000             1.700000   \n",
       "max              10.500000            15.200000            15.200000   \n",
       "\n",
       "       median_hh_inc_2017  median_hh_inc_2018  median_hh_inc_2019  \\\n",
       "count         3142.000000         3141.000000         3142.000000   \n",
       "mean         49754.163908        51583.175422        53475.909612   \n",
       "std          13154.424871        13703.502202        14192.529173   \n",
       "min          19264.000000        20188.000000        21504.000000   \n",
       "25%          41123.000000        42480.000000        44155.000000   \n",
       "50%          48065.500000        49888.000000        51757.500000   \n",
       "75%          55763.500000        57611.000000        59867.250000   \n",
       "max         129588.000000       136268.000000       142299.000000   \n",
       "\n",
       "       median_hh_inc_2020  median_hh_inc_2021  \n",
       "count         3140.000000         3140.000000  \n",
       "mean         55012.443312        58223.339490  \n",
       "std          14649.568591        15541.038914  \n",
       "min          22292.000000        17109.000000  \n",
       "25%          45653.000000        48179.500000  \n",
       "50%          52842.000000        55907.000000  \n",
       "75%          61500.750000        64930.000000  \n",
       "max         147111.000000       156821.000000  \n",
       "\n",
       "[8 rows x 25 columns]"
      ]
     },
     "execution_count": 10,
     "metadata": {},
     "output_type": "execute_result"
    }
   ],
   "source": [
    "census_dataset.describe()"
   ]
  },
  {
   "cell_type": "code",
   "execution_count": 11,
   "id": "ab355bda",
   "metadata": {
    "execution": {
     "iopub.execute_input": "2023-02-15T09:33:01.359454Z",
     "iopub.status.busy": "2023-02-15T09:33:01.359157Z",
     "iopub.status.idle": "2023-02-15T09:33:01.372653Z",
     "shell.execute_reply": "2023-02-15T09:33:01.371503Z"
    },
    "papermill": {
     "duration": 0.024883,
     "end_time": "2023-02-15T09:33:01.374867",
     "exception": false,
     "start_time": "2023-02-15T09:33:01.349984",
     "status": "completed"
    },
    "tags": []
   },
   "outputs": [
    {
     "name": "stdout",
     "output_type": "stream",
     "text": [
      "<class 'pandas.core.frame.DataFrame'>\n",
      "RangeIndex: 3142 entries, 0 to 3141\n",
      "Data columns (total 26 columns):\n",
      " #   Column                 Non-Null Count  Dtype  \n",
      "---  ------                 --------------  -----  \n",
      " 0   pct_bb_2017            3142 non-null   float64\n",
      " 1   pct_bb_2018            3142 non-null   float64\n",
      " 2   pct_bb_2019            3142 non-null   float64\n",
      " 3   pct_bb_2020            3141 non-null   float64\n",
      " 4   pct_bb_2021            3141 non-null   float64\n",
      " 5   cfips                  3142 non-null   string \n",
      " 6   pct_college_2017       3142 non-null   float64\n",
      " 7   pct_college_2018       3142 non-null   float64\n",
      " 8   pct_college_2019       3142 non-null   float64\n",
      " 9   pct_college_2020       3141 non-null   float64\n",
      " 10  pct_college_2021       3141 non-null   float64\n",
      " 11  pct_foreign_born_2017  3142 non-null   float64\n",
      " 12  pct_foreign_born_2018  3142 non-null   float64\n",
      " 13  pct_foreign_born_2019  3142 non-null   float64\n",
      " 14  pct_foreign_born_2020  3141 non-null   float64\n",
      " 15  pct_foreign_born_2021  3141 non-null   float64\n",
      " 16  pct_it_workers_2017    3142 non-null   float64\n",
      " 17  pct_it_workers_2018    3141 non-null   float64\n",
      " 18  pct_it_workers_2019    3142 non-null   float64\n",
      " 19  pct_it_workers_2020    3141 non-null   float64\n",
      " 20  pct_it_workers_2021    3141 non-null   float64\n",
      " 21  median_hh_inc_2017     3142 non-null   int64  \n",
      " 22  median_hh_inc_2018     3141 non-null   float64\n",
      " 23  median_hh_inc_2019     3142 non-null   int64  \n",
      " 24  median_hh_inc_2020     3140 non-null   float64\n",
      " 25  median_hh_inc_2021     3140 non-null   float64\n",
      "dtypes: float64(23), int64(2), string(1)\n",
      "memory usage: 638.3 KB\n"
     ]
    }
   ],
   "source": [
    "census_dataset.info()"
   ]
  },
  {
   "cell_type": "code",
   "execution_count": 12,
   "id": "21819e05",
   "metadata": {
    "execution": {
     "iopub.execute_input": "2023-02-15T09:33:01.396981Z",
     "iopub.status.busy": "2023-02-15T09:33:01.396662Z",
     "iopub.status.idle": "2023-02-15T09:33:01.427285Z",
     "shell.execute_reply": "2023-02-15T09:33:01.426048Z"
    },
    "papermill": {
     "duration": 0.042551,
     "end_time": "2023-02-15T09:33:01.429880",
     "exception": false,
     "start_time": "2023-02-15T09:33:01.387329",
     "status": "completed"
    },
    "tags": []
   },
   "outputs": [
    {
     "data": {
      "text/html": [
       "<div>\n",
       "<style scoped>\n",
       "    .dataframe tbody tr th:only-of-type {\n",
       "        vertical-align: middle;\n",
       "    }\n",
       "\n",
       "    .dataframe tbody tr th {\n",
       "        vertical-align: top;\n",
       "    }\n",
       "\n",
       "    .dataframe thead th {\n",
       "        text-align: right;\n",
       "    }\n",
       "</style>\n",
       "<table border=\"1\" class=\"dataframe\">\n",
       "  <thead>\n",
       "    <tr style=\"text-align: right;\">\n",
       "      <th></th>\n",
       "      <th>pct_bb_2017</th>\n",
       "      <th>pct_bb_2018</th>\n",
       "      <th>pct_bb_2019</th>\n",
       "      <th>pct_bb_2020</th>\n",
       "      <th>pct_bb_2021</th>\n",
       "      <th>cfips</th>\n",
       "      <th>pct_college_2017</th>\n",
       "      <th>pct_college_2018</th>\n",
       "      <th>pct_college_2019</th>\n",
       "      <th>pct_college_2020</th>\n",
       "      <th>...</th>\n",
       "      <th>pct_it_workers_2017</th>\n",
       "      <th>pct_it_workers_2018</th>\n",
       "      <th>pct_it_workers_2019</th>\n",
       "      <th>pct_it_workers_2020</th>\n",
       "      <th>pct_it_workers_2021</th>\n",
       "      <th>median_hh_inc_2017</th>\n",
       "      <th>median_hh_inc_2018</th>\n",
       "      <th>median_hh_inc_2019</th>\n",
       "      <th>median_hh_inc_2020</th>\n",
       "      <th>median_hh_inc_2021</th>\n",
       "    </tr>\n",
       "  </thead>\n",
       "  <tbody>\n",
       "    <tr>\n",
       "      <th>0</th>\n",
       "      <td>76.6</td>\n",
       "      <td>78.9</td>\n",
       "      <td>80.6</td>\n",
       "      <td>82.7</td>\n",
       "      <td>85.5</td>\n",
       "      <td>1001</td>\n",
       "      <td>14.5</td>\n",
       "      <td>15.9</td>\n",
       "      <td>16.1</td>\n",
       "      <td>16.7</td>\n",
       "      <td>...</td>\n",
       "      <td>1.3</td>\n",
       "      <td>1.1</td>\n",
       "      <td>0.7</td>\n",
       "      <td>0.6</td>\n",
       "      <td>1.1</td>\n",
       "      <td>55317</td>\n",
       "      <td>58786.0</td>\n",
       "      <td>58731</td>\n",
       "      <td>57982.0</td>\n",
       "      <td>62660.0</td>\n",
       "    </tr>\n",
       "    <tr>\n",
       "      <th>1</th>\n",
       "      <td>74.5</td>\n",
       "      <td>78.1</td>\n",
       "      <td>81.8</td>\n",
       "      <td>85.1</td>\n",
       "      <td>87.9</td>\n",
       "      <td>1003</td>\n",
       "      <td>20.4</td>\n",
       "      <td>20.7</td>\n",
       "      <td>21.0</td>\n",
       "      <td>20.2</td>\n",
       "      <td>...</td>\n",
       "      <td>1.4</td>\n",
       "      <td>1.3</td>\n",
       "      <td>1.4</td>\n",
       "      <td>1.0</td>\n",
       "      <td>1.3</td>\n",
       "      <td>52562</td>\n",
       "      <td>55962.0</td>\n",
       "      <td>58320</td>\n",
       "      <td>61756.0</td>\n",
       "      <td>64346.0</td>\n",
       "    </tr>\n",
       "    <tr>\n",
       "      <th>2</th>\n",
       "      <td>57.2</td>\n",
       "      <td>60.4</td>\n",
       "      <td>60.5</td>\n",
       "      <td>64.6</td>\n",
       "      <td>64.6</td>\n",
       "      <td>1005</td>\n",
       "      <td>7.6</td>\n",
       "      <td>7.8</td>\n",
       "      <td>7.6</td>\n",
       "      <td>7.3</td>\n",
       "      <td>...</td>\n",
       "      <td>0.5</td>\n",
       "      <td>0.3</td>\n",
       "      <td>0.8</td>\n",
       "      <td>1.1</td>\n",
       "      <td>0.8</td>\n",
       "      <td>33368</td>\n",
       "      <td>34186.0</td>\n",
       "      <td>32525</td>\n",
       "      <td>34990.0</td>\n",
       "      <td>36422.0</td>\n",
       "    </tr>\n",
       "    <tr>\n",
       "      <th>3</th>\n",
       "      <td>62.0</td>\n",
       "      <td>66.1</td>\n",
       "      <td>69.2</td>\n",
       "      <td>76.1</td>\n",
       "      <td>74.6</td>\n",
       "      <td>1007</td>\n",
       "      <td>8.1</td>\n",
       "      <td>7.6</td>\n",
       "      <td>6.5</td>\n",
       "      <td>7.4</td>\n",
       "      <td>...</td>\n",
       "      <td>1.2</td>\n",
       "      <td>1.4</td>\n",
       "      <td>1.6</td>\n",
       "      <td>1.7</td>\n",
       "      <td>2.1</td>\n",
       "      <td>43404</td>\n",
       "      <td>45340.0</td>\n",
       "      <td>47542</td>\n",
       "      <td>51721.0</td>\n",
       "      <td>54277.0</td>\n",
       "    </tr>\n",
       "    <tr>\n",
       "      <th>4</th>\n",
       "      <td>65.8</td>\n",
       "      <td>68.5</td>\n",
       "      <td>73.0</td>\n",
       "      <td>79.6</td>\n",
       "      <td>81.0</td>\n",
       "      <td>1009</td>\n",
       "      <td>8.7</td>\n",
       "      <td>8.1</td>\n",
       "      <td>8.6</td>\n",
       "      <td>8.9</td>\n",
       "      <td>...</td>\n",
       "      <td>1.3</td>\n",
       "      <td>1.4</td>\n",
       "      <td>0.9</td>\n",
       "      <td>1.1</td>\n",
       "      <td>0.9</td>\n",
       "      <td>47412</td>\n",
       "      <td>48695.0</td>\n",
       "      <td>49358</td>\n",
       "      <td>48922.0</td>\n",
       "      <td>52830.0</td>\n",
       "    </tr>\n",
       "  </tbody>\n",
       "</table>\n",
       "<p>5 rows × 26 columns</p>\n",
       "</div>"
      ],
      "text/plain": [
       "   pct_bb_2017  pct_bb_2018  pct_bb_2019  pct_bb_2020  pct_bb_2021 cfips  \\\n",
       "0         76.6         78.9         80.6         82.7         85.5  1001   \n",
       "1         74.5         78.1         81.8         85.1         87.9  1003   \n",
       "2         57.2         60.4         60.5         64.6         64.6  1005   \n",
       "3         62.0         66.1         69.2         76.1         74.6  1007   \n",
       "4         65.8         68.5         73.0         79.6         81.0  1009   \n",
       "\n",
       "   pct_college_2017  pct_college_2018  pct_college_2019  pct_college_2020  \\\n",
       "0              14.5              15.9              16.1              16.7   \n",
       "1              20.4              20.7              21.0              20.2   \n",
       "2               7.6               7.8               7.6               7.3   \n",
       "3               8.1               7.6               6.5               7.4   \n",
       "4               8.7               8.1               8.6               8.9   \n",
       "\n",
       "   ...  pct_it_workers_2017  pct_it_workers_2018  pct_it_workers_2019  \\\n",
       "0  ...                  1.3                  1.1                  0.7   \n",
       "1  ...                  1.4                  1.3                  1.4   \n",
       "2  ...                  0.5                  0.3                  0.8   \n",
       "3  ...                  1.2                  1.4                  1.6   \n",
       "4  ...                  1.3                  1.4                  0.9   \n",
       "\n",
       "   pct_it_workers_2020  pct_it_workers_2021  median_hh_inc_2017  \\\n",
       "0                  0.6                  1.1               55317   \n",
       "1                  1.0                  1.3               52562   \n",
       "2                  1.1                  0.8               33368   \n",
       "3                  1.7                  2.1               43404   \n",
       "4                  1.1                  0.9               47412   \n",
       "\n",
       "   median_hh_inc_2018  median_hh_inc_2019  median_hh_inc_2020  \\\n",
       "0             58786.0               58731             57982.0   \n",
       "1             55962.0               58320             61756.0   \n",
       "2             34186.0               32525             34990.0   \n",
       "3             45340.0               47542             51721.0   \n",
       "4             48695.0               49358             48922.0   \n",
       "\n",
       "   median_hh_inc_2021  \n",
       "0             62660.0  \n",
       "1             64346.0  \n",
       "2             36422.0  \n",
       "3             54277.0  \n",
       "4             52830.0  \n",
       "\n",
       "[5 rows x 26 columns]"
      ]
     },
     "execution_count": 12,
     "metadata": {},
     "output_type": "execute_result"
    }
   ],
   "source": [
    "census_dataset.head()"
   ]
  },
  {
   "cell_type": "code",
   "execution_count": 13,
   "id": "a4f9cb82",
   "metadata": {
    "execution": {
     "iopub.execute_input": "2023-02-15T09:33:01.448753Z",
     "iopub.status.busy": "2023-02-15T09:33:01.448460Z",
     "iopub.status.idle": "2023-02-15T09:33:01.471291Z",
     "shell.execute_reply": "2023-02-15T09:33:01.470254Z"
    },
    "papermill": {
     "duration": 0.034766,
     "end_time": "2023-02-15T09:33:01.473716",
     "exception": false,
     "start_time": "2023-02-15T09:33:01.438950",
     "status": "completed"
    },
    "tags": []
   },
   "outputs": [
    {
     "data": {
      "text/html": [
       "<div>\n",
       "<style scoped>\n",
       "    .dataframe tbody tr th:only-of-type {\n",
       "        vertical-align: middle;\n",
       "    }\n",
       "\n",
       "    .dataframe tbody tr th {\n",
       "        vertical-align: top;\n",
       "    }\n",
       "\n",
       "    .dataframe thead th {\n",
       "        text-align: right;\n",
       "    }\n",
       "</style>\n",
       "<table border=\"1\" class=\"dataframe\">\n",
       "  <thead>\n",
       "    <tr style=\"text-align: right;\">\n",
       "      <th></th>\n",
       "      <th>pct_bb_2017</th>\n",
       "      <th>pct_bb_2018</th>\n",
       "      <th>pct_bb_2019</th>\n",
       "      <th>pct_bb_2020</th>\n",
       "      <th>pct_bb_2021</th>\n",
       "      <th>cfips</th>\n",
       "      <th>pct_college_2017</th>\n",
       "      <th>pct_college_2018</th>\n",
       "      <th>pct_college_2019</th>\n",
       "      <th>pct_college_2020</th>\n",
       "      <th>...</th>\n",
       "      <th>pct_it_workers_2017</th>\n",
       "      <th>pct_it_workers_2018</th>\n",
       "      <th>pct_it_workers_2019</th>\n",
       "      <th>pct_it_workers_2020</th>\n",
       "      <th>pct_it_workers_2021</th>\n",
       "      <th>median_hh_inc_2017</th>\n",
       "      <th>median_hh_inc_2018</th>\n",
       "      <th>median_hh_inc_2019</th>\n",
       "      <th>median_hh_inc_2020</th>\n",
       "      <th>median_hh_inc_2021</th>\n",
       "    </tr>\n",
       "  </thead>\n",
       "  <tbody>\n",
       "    <tr>\n",
       "      <th>92</th>\n",
       "      <td>80.5</td>\n",
       "      <td>79.1</td>\n",
       "      <td>80.4</td>\n",
       "      <td>NaN</td>\n",
       "      <td>NaN</td>\n",
       "      <td>2261</td>\n",
       "      <td>23.1</td>\n",
       "      <td>19.0</td>\n",
       "      <td>16.5</td>\n",
       "      <td>NaN</td>\n",
       "      <td>...</td>\n",
       "      <td>3.3</td>\n",
       "      <td>3.9</td>\n",
       "      <td>5.3</td>\n",
       "      <td>NaN</td>\n",
       "      <td>NaN</td>\n",
       "      <td>86019</td>\n",
       "      <td>82306.0</td>\n",
       "      <td>79867</td>\n",
       "      <td>NaN</td>\n",
       "      <td>NaN</td>\n",
       "    </tr>\n",
       "  </tbody>\n",
       "</table>\n",
       "<p>1 rows × 26 columns</p>\n",
       "</div>"
      ],
      "text/plain": [
       "    pct_bb_2017  pct_bb_2018  pct_bb_2019  pct_bb_2020  pct_bb_2021 cfips  \\\n",
       "92         80.5         79.1         80.4          NaN          NaN  2261   \n",
       "\n",
       "    pct_college_2017  pct_college_2018  pct_college_2019  pct_college_2020  \\\n",
       "92              23.1              19.0              16.5               NaN   \n",
       "\n",
       "    ...  pct_it_workers_2017  pct_it_workers_2018  pct_it_workers_2019  \\\n",
       "92  ...                  3.3                  3.9                  5.3   \n",
       "\n",
       "    pct_it_workers_2020  pct_it_workers_2021  median_hh_inc_2017  \\\n",
       "92                  NaN                  NaN               86019   \n",
       "\n",
       "    median_hh_inc_2018  median_hh_inc_2019  median_hh_inc_2020  \\\n",
       "92             82306.0               79867                 NaN   \n",
       "\n",
       "    median_hh_inc_2021  \n",
       "92                 NaN  \n",
       "\n",
       "[1 rows x 26 columns]"
      ]
     },
     "execution_count": 13,
     "metadata": {},
     "output_type": "execute_result"
    }
   ],
   "source": [
    "census_dataset[pd.isnull(census_dataset[\"pct_bb_2021\"])]"
   ]
  },
  {
   "cell_type": "code",
   "execution_count": 14,
   "id": "f8252321",
   "metadata": {
    "execution": {
     "iopub.execute_input": "2023-02-15T09:33:01.492604Z",
     "iopub.status.busy": "2023-02-15T09:33:01.492330Z",
     "iopub.status.idle": "2023-02-15T09:33:01.499535Z",
     "shell.execute_reply": "2023-02-15T09:33:01.498649Z"
    },
    "papermill": {
     "duration": 0.018705,
     "end_time": "2023-02-15T09:33:01.501658",
     "exception": false,
     "start_time": "2023-02-15T09:33:01.482953",
     "status": "completed"
    },
    "tags": []
   },
   "outputs": [
    {
     "name": "stdout",
     "output_type": "stream",
     "text": [
      "[92, 1816, 2644, 2673]\n"
     ]
    }
   ],
   "source": [
    "nan_df = census_dataset[census_dataset.isnull().any(axis=1)]\n",
    "nan_ls = list(nan_df.index)\n",
    "print(nan_ls)"
   ]
  },
  {
   "cell_type": "code",
   "execution_count": 15,
   "id": "27a4e484",
   "metadata": {
    "execution": {
     "iopub.execute_input": "2023-02-15T09:33:01.520145Z",
     "iopub.status.busy": "2023-02-15T09:33:01.519388Z",
     "iopub.status.idle": "2023-02-15T09:33:01.525900Z",
     "shell.execute_reply": "2023-02-15T09:33:01.525043Z"
    },
    "papermill": {
     "duration": 0.017937,
     "end_time": "2023-02-15T09:33:01.528102",
     "exception": false,
     "start_time": "2023-02-15T09:33:01.510165",
     "status": "completed"
    },
    "tags": []
   },
   "outputs": [],
   "source": [
    "cleaned_census_dataset = census_dataset.drop(index=nan_ls,inplace = False)\n",
    "cleaned_census_dataset.reset_index(inplace=True)"
   ]
  },
  {
   "cell_type": "code",
   "execution_count": 16,
   "id": "641bb59d",
   "metadata": {
    "execution": {
     "iopub.execute_input": "2023-02-15T09:33:01.546840Z",
     "iopub.status.busy": "2023-02-15T09:33:01.546053Z",
     "iopub.status.idle": "2023-02-15T09:33:01.559081Z",
     "shell.execute_reply": "2023-02-15T09:33:01.557572Z"
    },
    "papermill": {
     "duration": 0.024804,
     "end_time": "2023-02-15T09:33:01.561364",
     "exception": false,
     "start_time": "2023-02-15T09:33:01.536560",
     "status": "completed"
    },
    "tags": []
   },
   "outputs": [
    {
     "name": "stdout",
     "output_type": "stream",
     "text": [
      "<class 'pandas.core.frame.DataFrame'>\n",
      "RangeIndex: 3138 entries, 0 to 3137\n",
      "Data columns (total 27 columns):\n",
      " #   Column                 Non-Null Count  Dtype  \n",
      "---  ------                 --------------  -----  \n",
      " 0   index                  3138 non-null   int64  \n",
      " 1   pct_bb_2017            3138 non-null   float64\n",
      " 2   pct_bb_2018            3138 non-null   float64\n",
      " 3   pct_bb_2019            3138 non-null   float64\n",
      " 4   pct_bb_2020            3138 non-null   float64\n",
      " 5   pct_bb_2021            3138 non-null   float64\n",
      " 6   cfips                  3138 non-null   string \n",
      " 7   pct_college_2017       3138 non-null   float64\n",
      " 8   pct_college_2018       3138 non-null   float64\n",
      " 9   pct_college_2019       3138 non-null   float64\n",
      " 10  pct_college_2020       3138 non-null   float64\n",
      " 11  pct_college_2021       3138 non-null   float64\n",
      " 12  pct_foreign_born_2017  3138 non-null   float64\n",
      " 13  pct_foreign_born_2018  3138 non-null   float64\n",
      " 14  pct_foreign_born_2019  3138 non-null   float64\n",
      " 15  pct_foreign_born_2020  3138 non-null   float64\n",
      " 16  pct_foreign_born_2021  3138 non-null   float64\n",
      " 17  pct_it_workers_2017    3138 non-null   float64\n",
      " 18  pct_it_workers_2018    3138 non-null   float64\n",
      " 19  pct_it_workers_2019    3138 non-null   float64\n",
      " 20  pct_it_workers_2020    3138 non-null   float64\n",
      " 21  pct_it_workers_2021    3138 non-null   float64\n",
      " 22  median_hh_inc_2017     3138 non-null   int64  \n",
      " 23  median_hh_inc_2018     3138 non-null   float64\n",
      " 24  median_hh_inc_2019     3138 non-null   int64  \n",
      " 25  median_hh_inc_2020     3138 non-null   float64\n",
      " 26  median_hh_inc_2021     3138 non-null   float64\n",
      "dtypes: float64(23), int64(3), string(1)\n",
      "memory usage: 662.0 KB\n"
     ]
    }
   ],
   "source": [
    "cleaned_census_dataset.info()"
   ]
  },
  {
   "cell_type": "code",
   "execution_count": 17,
   "id": "21494664",
   "metadata": {
    "execution": {
     "iopub.execute_input": "2023-02-15T09:33:01.582408Z",
     "iopub.status.busy": "2023-02-15T09:33:01.580554Z",
     "iopub.status.idle": "2023-02-15T09:33:01.587769Z",
     "shell.execute_reply": "2023-02-15T09:33:01.586892Z"
    },
    "papermill": {
     "duration": 0.019225,
     "end_time": "2023-02-15T09:33:01.589807",
     "exception": false,
     "start_time": "2023-02-15T09:33:01.570582",
     "status": "completed"
    },
    "tags": []
   },
   "outputs": [],
   "source": [
    "transaction_col = ['cfips','year','pct_bb','pct_college','pct_foreign_born','pct_it_workers','median_hh_inc']\n",
    "transaction_df = pd.DataFrame(columns=transaction_col)"
   ]
  },
  {
   "cell_type": "code",
   "execution_count": 18,
   "id": "a172be10",
   "metadata": {},
   "outputs": [],
   "source": [
    "import warnings\n",
    "warnings.filterwarnings('ignore')"
   ]
  },
  {
   "cell_type": "code",
   "execution_count": 19,
   "id": "cff21aa4",
   "metadata": {},
   "outputs": [],
   "source": [
    "# import tqdm\n",
    "from tqdm import tqdm"
   ]
  },
  {
   "cell_type": "code",
   "execution_count": 20,
   "id": "02a768c3",
   "metadata": {
    "execution": {
     "iopub.execute_input": "2023-02-15T09:33:01.609715Z",
     "iopub.status.busy": "2023-02-15T09:33:01.608358Z",
     "iopub.status.idle": "2023-02-15T09:33:47.388835Z",
     "shell.execute_reply": "2023-02-15T09:33:47.387650Z"
    },
    "papermill": {
     "duration": 45.793244,
     "end_time": "2023-02-15T09:33:47.391908",
     "exception": false,
     "start_time": "2023-02-15T09:33:01.598664",
     "status": "completed"
    },
    "tags": []
   },
   "outputs": [
    {
     "name": "stderr",
     "output_type": "stream",
     "text": [
      "100%|███████████████████████████████████████████████████████████████████████████████████████████████████| 3138/3138 [00:20<00:00, 152.79it/s]\n"
     ]
    }
   ],
   "source": [
    "cleaned_census_dict = cleaned_census_dataset.to_dict(orient='index')\n",
    "\n",
    "for index in tqdm(np.arange(len(cleaned_census_dataset))):\n",
    "    current_row = cleaned_census_dict[index]\n",
    "    for year in [2017,2018,2019,2020,2021]:\n",
    "        row_dict = dict.fromkeys(transaction_col)\n",
    "        row_dict['cfips']=current_row['cfips']\n",
    "        row_dict['year']=year\n",
    "        row_dict['pct_bb']=current_row['pct_bb_' + (str)(year)]\n",
    "        row_dict['pct_college']=current_row['pct_college_' + (str)(year)]\n",
    "        row_dict['pct_foreign_born']=current_row['pct_foreign_born_' + (str)(year)]\n",
    "        row_dict['pct_it_workers']=current_row['pct_it_workers_' + (str)(year)]\n",
    "        row_dict['median_hh_inc']=current_row['median_hh_inc_' + (str)(year)]\n",
    "        transaction_df = transaction_df.append(row_dict, ignore_index=True)"
   ]
  },
  {
   "cell_type": "code",
   "execution_count": 21,
   "id": "f2024e1b",
   "metadata": {},
   "outputs": [
    {
     "data": {
      "image/png": "[encoded data removed]",
      "text/plain": [
       "<Figure size 2160x360 with 1 Axes>"
      ]
     },
     "metadata": {
      "needs_background": "light"
     },
     "output_type": "display_data"
    },
    {
     "data": {
      "image/png": "[encoded data removed]",
      "text/plain": [
       "<Figure size 2160x360 with 1 Axes>"
      ]
     },
     "metadata": {
      "needs_background": "light"
     },
     "output_type": "display_data"
    },
    {
     "data": {
      "image/png": "[encoded data removed]",
      "text/plain": [
       "<Figure size 2160x360 with 1 Axes>"
      ]
     },
     "metadata": {
      "needs_background": "light"
     },
     "output_type": "display_data"
    },
    {
     "data": {
      "image/png": "[encoded data removed]",
      "text/plain": [
       "<Figure size 2160x360 with 1 Axes>"
      ]
     },
     "metadata": {
      "needs_background": "light"
     },
     "output_type": "display_data"
    },
    {
     "data": {
      "image/png": "[encoded data removed]",
      "text/plain": [
       "<Figure size 2160x360 with 1 Axes>"
      ]
     },
     "metadata": {
      "needs_background": "light"
     },
     "output_type": "display_data"
    }
   ],
   "source": [
    "# plot the distribution for a 5 random columns\n",
    "import matplotlib.pyplot as plt\n",
    "import seaborn as sns\n",
    "import random\n",
    "\n",
    "cols = list(transaction_df.columns)\n",
    "cols.remove('cfips')\n",
    "cols.remove('year')\n",
    "random_cols = random.sample(cols, 5)\n",
    "\n",
    "# plot the cfips and and the distrinution of the 5 random columns\n",
    "for col in random_cols:\n",
    "    plt.figure(figsize=(30, 5))\n",
    "    plt.subplot(1, 2, 1)\n",
    "    sns.distplot(transaction_df[col])\n",
    "    plt.show()"
   ]
  },
  {
   "cell_type": "code",
   "execution_count": 22,
   "id": "980983ac",
   "metadata": {
    "execution": {
     "iopub.execute_input": "2023-02-15T09:33:47.422689Z",
     "iopub.status.busy": "2023-02-15T09:33:47.421829Z",
     "iopub.status.idle": "2023-02-15T09:33:47.441170Z",
     "shell.execute_reply": "2023-02-15T09:33:47.439827Z"
    },
    "papermill": {
     "duration": 0.0399,
     "end_time": "2023-02-15T09:33:47.445738",
     "exception": false,
     "start_time": "2023-02-15T09:33:47.405838",
     "status": "completed"
    },
    "tags": []
   },
   "outputs": [
    {
     "data": {
      "text/html": [
       "<div>\n",
       "<style scoped>\n",
       "    .dataframe tbody tr th:only-of-type {\n",
       "        vertical-align: middle;\n",
       "    }\n",
       "\n",
       "    .dataframe tbody tr th {\n",
       "        vertical-align: top;\n",
       "    }\n",
       "\n",
       "    .dataframe thead th {\n",
       "        text-align: right;\n",
       "    }\n",
       "</style>\n",
       "<table border=\"1\" class=\"dataframe\">\n",
       "  <thead>\n",
       "    <tr style=\"text-align: right;\">\n",
       "      <th></th>\n",
       "      <th>cfips</th>\n",
       "      <th>year</th>\n",
       "      <th>pct_bb</th>\n",
       "      <th>pct_college</th>\n",
       "      <th>pct_foreign_born</th>\n",
       "      <th>pct_it_workers</th>\n",
       "      <th>median_hh_inc</th>\n",
       "    </tr>\n",
       "  </thead>\n",
       "  <tbody>\n",
       "    <tr>\n",
       "      <th>0</th>\n",
       "      <td>1001</td>\n",
       "      <td>2017</td>\n",
       "      <td>76.6</td>\n",
       "      <td>14.5</td>\n",
       "      <td>2.1</td>\n",
       "      <td>1.3</td>\n",
       "      <td>55317</td>\n",
       "    </tr>\n",
       "    <tr>\n",
       "      <th>1</th>\n",
       "      <td>1001</td>\n",
       "      <td>2018</td>\n",
       "      <td>78.9</td>\n",
       "      <td>15.9</td>\n",
       "      <td>2.0</td>\n",
       "      <td>1.1</td>\n",
       "      <td>58786.0</td>\n",
       "    </tr>\n",
       "    <tr>\n",
       "      <th>2</th>\n",
       "      <td>1001</td>\n",
       "      <td>2019</td>\n",
       "      <td>80.6</td>\n",
       "      <td>16.1</td>\n",
       "      <td>2.3</td>\n",
       "      <td>0.7</td>\n",
       "      <td>58731</td>\n",
       "    </tr>\n",
       "    <tr>\n",
       "      <th>3</th>\n",
       "      <td>1001</td>\n",
       "      <td>2020</td>\n",
       "      <td>82.7</td>\n",
       "      <td>16.7</td>\n",
       "      <td>2.3</td>\n",
       "      <td>0.6</td>\n",
       "      <td>57982.0</td>\n",
       "    </tr>\n",
       "    <tr>\n",
       "      <th>4</th>\n",
       "      <td>1001</td>\n",
       "      <td>2021</td>\n",
       "      <td>85.5</td>\n",
       "      <td>16.4</td>\n",
       "      <td>2.1</td>\n",
       "      <td>1.1</td>\n",
       "      <td>62660.0</td>\n",
       "    </tr>\n",
       "  </tbody>\n",
       "</table>\n",
       "</div>"
      ],
      "text/plain": [
       "  cfips  year  pct_bb  pct_college  pct_foreign_born  pct_it_workers  \\\n",
       "0  1001  2017    76.6         14.5               2.1             1.3   \n",
       "1  1001  2018    78.9         15.9               2.0             1.1   \n",
       "2  1001  2019    80.6         16.1               2.3             0.7   \n",
       "3  1001  2020    82.7         16.7               2.3             0.6   \n",
       "4  1001  2021    85.5         16.4               2.1             1.1   \n",
       "\n",
       "  median_hh_inc  \n",
       "0         55317  \n",
       "1       58786.0  \n",
       "2         58731  \n",
       "3       57982.0  \n",
       "4       62660.0  "
      ]
     },
     "execution_count": 22,
     "metadata": {},
     "output_type": "execute_result"
    }
   ],
   "source": [
    "transaction_df.head()"
   ]
  },
  {
   "cell_type": "code",
   "execution_count": 23,
   "id": "f281e413",
   "metadata": {
    "execution": {
     "iopub.execute_input": "2023-02-15T09:33:47.469010Z",
     "iopub.status.busy": "2023-02-15T09:33:47.468691Z",
     "iopub.status.idle": "2023-02-15T09:33:47.552256Z",
     "shell.execute_reply": "2023-02-15T09:33:47.551215Z"
    },
    "papermill": {
     "duration": 0.097423,
     "end_time": "2023-02-15T09:33:47.554770",
     "exception": false,
     "start_time": "2023-02-15T09:33:47.457347",
     "status": "completed"
    },
    "tags": []
   },
   "outputs": [],
   "source": [
    "merge_df = pd.merge(transaction_df, train_dataset, on=['cfips','year'])"
   ]
  },
  {
   "cell_type": "code",
   "execution_count": 24,
   "id": "2ee10024",
   "metadata": {
    "execution": {
     "iopub.execute_input": "2023-02-15T09:33:47.574710Z",
     "iopub.status.busy": "2023-02-15T09:33:47.574405Z",
     "iopub.status.idle": "2023-02-15T09:33:47.606632Z",
     "shell.execute_reply": "2023-02-15T09:33:47.605202Z"
    },
    "papermill": {
     "duration": 0.044827,
     "end_time": "2023-02-15T09:33:47.608939",
     "exception": false,
     "start_time": "2023-02-15T09:33:47.564112",
     "status": "completed"
    },
    "tags": []
   },
   "outputs": [
    {
     "name": "stdout",
     "output_type": "stream",
     "text": [
      "<class 'pandas.core.frame.DataFrame'>\n",
      "Int64Index: 90828 entries, 0 to 90827\n",
      "Data columns (total 13 columns):\n",
      " #   Column                 Non-Null Count  Dtype         \n",
      "---  ------                 --------------  -----         \n",
      " 0   cfips                  90828 non-null  object        \n",
      " 1   year                   90828 non-null  object        \n",
      " 2   pct_bb                 90828 non-null  float64       \n",
      " 3   pct_college            90828 non-null  float64       \n",
      " 4   pct_foreign_born       90828 non-null  float64       \n",
      " 5   pct_it_workers         90828 non-null  float64       \n",
      " 6   median_hh_inc          90828 non-null  object        \n",
      " 7   row_id                 90828 non-null  object        \n",
      " 8   county                 90828 non-null  object        \n",
      " 9   state                  90828 non-null  object        \n",
      " 10  first_day_of_month     90828 non-null  datetime64[ns]\n",
      " 11  microbusiness_density  90828 non-null  float64       \n",
      " 12  active                 90828 non-null  int64         \n",
      "dtypes: datetime64[ns](1), float64(5), int64(1), object(6)\n",
      "memory usage: 9.7+ MB\n"
     ]
    }
   ],
   "source": [
    "merge_df.info()"
   ]
  },
  {
   "cell_type": "code",
   "execution_count": 25,
   "id": "ddadd013",
   "metadata": {
    "execution": {
     "iopub.execute_input": "2023-02-15T09:33:47.628792Z",
     "iopub.status.busy": "2023-02-15T09:33:47.628456Z",
     "iopub.status.idle": "2023-02-15T09:33:47.649342Z",
     "shell.execute_reply": "2023-02-15T09:33:47.648393Z"
    },
    "papermill": {
     "duration": 0.03339,
     "end_time": "2023-02-15T09:33:47.651391",
     "exception": false,
     "start_time": "2023-02-15T09:33:47.618001",
     "status": "completed"
    },
    "tags": []
   },
   "outputs": [
    {
     "data": {
      "text/html": [
       "<div>\n",
       "<style scoped>\n",
       "    .dataframe tbody tr th:only-of-type {\n",
       "        vertical-align: middle;\n",
       "    }\n",
       "\n",
       "    .dataframe tbody tr th {\n",
       "        vertical-align: top;\n",
       "    }\n",
       "\n",
       "    .dataframe thead th {\n",
       "        text-align: right;\n",
       "    }\n",
       "</style>\n",
       "<table border=\"1\" class=\"dataframe\">\n",
       "  <thead>\n",
       "    <tr style=\"text-align: right;\">\n",
       "      <th></th>\n",
       "      <th>cfips</th>\n",
       "      <th>year</th>\n",
       "      <th>pct_bb</th>\n",
       "      <th>pct_college</th>\n",
       "      <th>pct_foreign_born</th>\n",
       "      <th>pct_it_workers</th>\n",
       "      <th>median_hh_inc</th>\n",
       "      <th>row_id</th>\n",
       "      <th>county</th>\n",
       "      <th>state</th>\n",
       "      <th>first_day_of_month</th>\n",
       "      <th>microbusiness_density</th>\n",
       "      <th>active</th>\n",
       "    </tr>\n",
       "  </thead>\n",
       "  <tbody>\n",
       "    <tr>\n",
       "      <th>0</th>\n",
       "      <td>1001</td>\n",
       "      <td>2019</td>\n",
       "      <td>80.6</td>\n",
       "      <td>16.1</td>\n",
       "      <td>2.3</td>\n",
       "      <td>0.7</td>\n",
       "      <td>58731</td>\n",
       "      <td>1001_2019-08-01</td>\n",
       "      <td>Autauga County</td>\n",
       "      <td>Alabama</td>\n",
       "      <td>2019-08-01</td>\n",
       "      <td>3.007682</td>\n",
       "      <td>1249</td>\n",
       "    </tr>\n",
       "    <tr>\n",
       "      <th>1</th>\n",
       "      <td>1001</td>\n",
       "      <td>2019</td>\n",
       "      <td>80.6</td>\n",
       "      <td>16.1</td>\n",
       "      <td>2.3</td>\n",
       "      <td>0.7</td>\n",
       "      <td>58731</td>\n",
       "      <td>1001_2019-09-01</td>\n",
       "      <td>Autauga County</td>\n",
       "      <td>Alabama</td>\n",
       "      <td>2019-09-01</td>\n",
       "      <td>2.884870</td>\n",
       "      <td>1198</td>\n",
       "    </tr>\n",
       "    <tr>\n",
       "      <th>2</th>\n",
       "      <td>1001</td>\n",
       "      <td>2019</td>\n",
       "      <td>80.6</td>\n",
       "      <td>16.1</td>\n",
       "      <td>2.3</td>\n",
       "      <td>0.7</td>\n",
       "      <td>58731</td>\n",
       "      <td>1001_2019-10-01</td>\n",
       "      <td>Autauga County</td>\n",
       "      <td>Alabama</td>\n",
       "      <td>2019-10-01</td>\n",
       "      <td>3.055843</td>\n",
       "      <td>1269</td>\n",
       "    </tr>\n",
       "    <tr>\n",
       "      <th>3</th>\n",
       "      <td>1001</td>\n",
       "      <td>2019</td>\n",
       "      <td>80.6</td>\n",
       "      <td>16.1</td>\n",
       "      <td>2.3</td>\n",
       "      <td>0.7</td>\n",
       "      <td>58731</td>\n",
       "      <td>1001_2019-11-01</td>\n",
       "      <td>Autauga County</td>\n",
       "      <td>Alabama</td>\n",
       "      <td>2019-11-01</td>\n",
       "      <td>2.993233</td>\n",
       "      <td>1243</td>\n",
       "    </tr>\n",
       "    <tr>\n",
       "      <th>4</th>\n",
       "      <td>1001</td>\n",
       "      <td>2019</td>\n",
       "      <td>80.6</td>\n",
       "      <td>16.1</td>\n",
       "      <td>2.3</td>\n",
       "      <td>0.7</td>\n",
       "      <td>58731</td>\n",
       "      <td>1001_2019-12-01</td>\n",
       "      <td>Autauga County</td>\n",
       "      <td>Alabama</td>\n",
       "      <td>2019-12-01</td>\n",
       "      <td>2.993233</td>\n",
       "      <td>1243</td>\n",
       "    </tr>\n",
       "  </tbody>\n",
       "</table>\n",
       "</div>"
      ],
      "text/plain": [
       "  cfips  year  pct_bb  pct_college  pct_foreign_born  pct_it_workers  \\\n",
       "0  1001  2019    80.6         16.1               2.3             0.7   \n",
       "1  1001  2019    80.6         16.1               2.3             0.7   \n",
       "2  1001  2019    80.6         16.1               2.3             0.7   \n",
       "3  1001  2019    80.6         16.1               2.3             0.7   \n",
       "4  1001  2019    80.6         16.1               2.3             0.7   \n",
       "\n",
       "  median_hh_inc           row_id          county    state first_day_of_month  \\\n",
       "0         58731  1001_2019-08-01  Autauga County  Alabama         2019-08-01   \n",
       "1         58731  1001_2019-09-01  Autauga County  Alabama         2019-09-01   \n",
       "2         58731  1001_2019-10-01  Autauga County  Alabama         2019-10-01   \n",
       "3         58731  1001_2019-11-01  Autauga County  Alabama         2019-11-01   \n",
       "4         58731  1001_2019-12-01  Autauga County  Alabama         2019-12-01   \n",
       "\n",
       "   microbusiness_density  active  \n",
       "0               3.007682    1249  \n",
       "1               2.884870    1198  \n",
       "2               3.055843    1269  \n",
       "3               2.993233    1243  \n",
       "4               2.993233    1243  "
      ]
     },
     "execution_count": 25,
     "metadata": {},
     "output_type": "execute_result"
    }
   ],
   "source": [
    "merge_df.head()"
   ]
  },
  {
   "cell_type": "code",
   "execution_count": 26,
   "id": "6c7ffd5d",
   "metadata": {
    "execution": {
     "iopub.execute_input": "2023-02-15T09:33:47.672973Z",
     "iopub.status.busy": "2023-02-15T09:33:47.672663Z",
     "iopub.status.idle": "2023-02-15T09:33:47.702023Z",
     "shell.execute_reply": "2023-02-15T09:33:47.701047Z"
    },
    "papermill": {
     "duration": 0.042794,
     "end_time": "2023-02-15T09:33:47.704532",
     "exception": false,
     "start_time": "2023-02-15T09:33:47.661738",
     "status": "completed"
    },
    "tags": []
   },
   "outputs": [],
   "source": [
    "preprocessed_X =merge_df[['pct_bb','pct_college','pct_foreign_born','pct_it_workers','median_hh_inc','county','state']]"
   ]
  },
  {
   "cell_type": "code",
   "execution_count": 27,
   "id": "20be1f61",
   "metadata": {
    "execution": {
     "iopub.execute_input": "2023-02-15T09:33:47.724379Z",
     "iopub.status.busy": "2023-02-15T09:33:47.724083Z",
     "iopub.status.idle": "2023-02-15T09:33:47.739661Z",
     "shell.execute_reply": "2023-02-15T09:33:47.738660Z"
    },
    "papermill": {
     "duration": 0.028051,
     "end_time": "2023-02-15T09:33:47.742046",
     "exception": false,
     "start_time": "2023-02-15T09:33:47.713995",
     "status": "completed"
    },
    "tags": []
   },
   "outputs": [
    {
     "data": {
      "text/html": [
       "<div>\n",
       "<style scoped>\n",
       "    .dataframe tbody tr th:only-of-type {\n",
       "        vertical-align: middle;\n",
       "    }\n",
       "\n",
       "    .dataframe tbody tr th {\n",
       "        vertical-align: top;\n",
       "    }\n",
       "\n",
       "    .dataframe thead th {\n",
       "        text-align: right;\n",
       "    }\n",
       "</style>\n",
       "<table border=\"1\" class=\"dataframe\">\n",
       "  <thead>\n",
       "    <tr style=\"text-align: right;\">\n",
       "      <th></th>\n",
       "      <th>pct_bb</th>\n",
       "      <th>pct_college</th>\n",
       "      <th>pct_foreign_born</th>\n",
       "      <th>pct_it_workers</th>\n",
       "      <th>median_hh_inc</th>\n",
       "      <th>county</th>\n",
       "      <th>state</th>\n",
       "    </tr>\n",
       "  </thead>\n",
       "  <tbody>\n",
       "    <tr>\n",
       "      <th>0</th>\n",
       "      <td>80.6</td>\n",
       "      <td>16.1</td>\n",
       "      <td>2.3</td>\n",
       "      <td>0.7</td>\n",
       "      <td>58731</td>\n",
       "      <td>Autauga County</td>\n",
       "      <td>Alabama</td>\n",
       "    </tr>\n",
       "    <tr>\n",
       "      <th>1</th>\n",
       "      <td>80.6</td>\n",
       "      <td>16.1</td>\n",
       "      <td>2.3</td>\n",
       "      <td>0.7</td>\n",
       "      <td>58731</td>\n",
       "      <td>Autauga County</td>\n",
       "      <td>Alabama</td>\n",
       "    </tr>\n",
       "    <tr>\n",
       "      <th>2</th>\n",
       "      <td>80.6</td>\n",
       "      <td>16.1</td>\n",
       "      <td>2.3</td>\n",
       "      <td>0.7</td>\n",
       "      <td>58731</td>\n",
       "      <td>Autauga County</td>\n",
       "      <td>Alabama</td>\n",
       "    </tr>\n",
       "    <tr>\n",
       "      <th>3</th>\n",
       "      <td>80.6</td>\n",
       "      <td>16.1</td>\n",
       "      <td>2.3</td>\n",
       "      <td>0.7</td>\n",
       "      <td>58731</td>\n",
       "      <td>Autauga County</td>\n",
       "      <td>Alabama</td>\n",
       "    </tr>\n",
       "    <tr>\n",
       "      <th>4</th>\n",
       "      <td>80.6</td>\n",
       "      <td>16.1</td>\n",
       "      <td>2.3</td>\n",
       "      <td>0.7</td>\n",
       "      <td>58731</td>\n",
       "      <td>Autauga County</td>\n",
       "      <td>Alabama</td>\n",
       "    </tr>\n",
       "  </tbody>\n",
       "</table>\n",
       "</div>"
      ],
      "text/plain": [
       "   pct_bb  pct_college  pct_foreign_born  pct_it_workers median_hh_inc  \\\n",
       "0    80.6         16.1               2.3             0.7         58731   \n",
       "1    80.6         16.1               2.3             0.7         58731   \n",
       "2    80.6         16.1               2.3             0.7         58731   \n",
       "3    80.6         16.1               2.3             0.7         58731   \n",
       "4    80.6         16.1               2.3             0.7         58731   \n",
       "\n",
       "           county    state  \n",
       "0  Autauga County  Alabama  \n",
       "1  Autauga County  Alabama  \n",
       "2  Autauga County  Alabama  \n",
       "3  Autauga County  Alabama  \n",
       "4  Autauga County  Alabama  "
      ]
     },
     "execution_count": 27,
     "metadata": {},
     "output_type": "execute_result"
    }
   ],
   "source": [
    "preprocessed_X.head()"
   ]
  },
  {
   "cell_type": "code",
   "execution_count": 90,
   "id": "86a355d3",
   "metadata": {
    "execution": {
     "iopub.execute_input": "2023-02-15T09:33:47.763672Z",
     "iopub.status.busy": "2023-02-15T09:33:47.762902Z",
     "iopub.status.idle": "2023-02-15T09:33:48.605362Z",
     "shell.execute_reply": "2023-02-15T09:33:48.604337Z"
    },
    "papermill": {
     "duration": 0.855412,
     "end_time": "2023-02-15T09:33:48.607836",
     "exception": false,
     "start_time": "2023-02-15T09:33:47.752424",
     "status": "completed"
    },
    "tags": []
   },
   "outputs": [],
   "source": [
    "X = pd.get_dummies(preprocessed_X, columns=['county','state'], drop_first=True)"
   ]
  },
  {
   "cell_type": "code",
   "execution_count": 91,
   "id": "1960c061",
   "metadata": {
    "execution": {
     "iopub.execute_input": "2023-02-15T09:33:48.671158Z",
     "iopub.status.busy": "2023-02-15T09:33:48.670878Z",
     "iopub.status.idle": "2023-02-15T09:33:50.365344Z",
     "shell.execute_reply": "2023-02-15T09:33:50.364274Z"
    },
    "papermill": {
     "duration": 1.707649,
     "end_time": "2023-02-15T09:33:50.367816",
     "exception": false,
     "start_time": "2023-02-15T09:33:48.660167",
     "status": "completed"
    },
    "tags": []
   },
   "outputs": [],
   "source": [
    "from sklearn.compose import ColumnTransformer\n",
    "from sklearn.preprocessing import StandardScaler\n",
    "\n",
    "ct_model = ColumnTransformer([\n",
    "        ('somename', StandardScaler(), ['pct_bb','pct_college','pct_foreign_born','pct_it_workers','median_hh_inc'])\n",
    "    ], remainder='passthrough')\n",
    "\n",
    "X=ct_model.fit_transform(X)"
   ]
  },
  {
   "cell_type": "code",
   "execution_count": 31,
   "id": "a14b4302",
   "metadata": {
    "execution": {
     "iopub.execute_input": "2023-02-15T09:33:50.397902Z",
     "iopub.status.busy": "2023-02-15T09:33:50.397343Z",
     "iopub.status.idle": "2023-02-15T09:33:50.678503Z",
     "shell.execute_reply": "2023-02-15T09:33:50.677457Z"
    },
    "papermill": {
     "duration": 0.303146,
     "end_time": "2023-02-15T09:33:50.681076",
     "exception": false,
     "start_time": "2023-02-15T09:33:50.377930",
     "status": "completed"
    },
    "tags": []
   },
   "outputs": [],
   "source": [
    "X = np.asarray(X).astype('float32')\n",
    "y = merge_df['microbusiness_density']"
   ]
  },
  {
   "cell_type": "code",
   "execution_count": 32,
   "id": "5f928da7",
   "metadata": {
    "execution": {
     "iopub.execute_input": "2023-02-15T09:33:50.721287Z",
     "iopub.status.busy": "2023-02-15T09:33:50.720947Z",
     "iopub.status.idle": "2023-02-15T09:33:58.978247Z",
     "shell.execute_reply": "2023-02-15T09:33:58.977248Z"
    },
    "papermill": {
     "duration": 8.270004,
     "end_time": "2023-02-15T09:33:58.980436",
     "exception": false,
     "start_time": "2023-02-15T09:33:50.710432",
     "status": "completed"
    },
    "tags": []
   },
   "outputs": [
    {
     "name": "stderr",
     "output_type": "stream",
     "text": [
      "2023-02-16 19:51:14.248106: I tensorflow/core/platform/cpu_feature_guard.cc:193] This TensorFlow binary is optimized with oneAPI Deep Neural Network Library (oneDNN) to use the following CPU instructions in performance-critical operations:  AVX2 AVX512F AVX512_VNNI FMA\n",
      "To enable them in other operations, rebuild TensorFlow with the appropriate compiler flags.\n",
      "2023-02-16 19:51:27.518283: I tensorflow/core/util/port.cc:104] oneDNN custom operations are on. You may see slightly different numerical results due to floating-point round-off errors from different computation orders. To turn them off, set the environment variable `TF_ENABLE_ONEDNN_OPTS=0`.\n",
      "2023-02-16 19:51:47.360712: W tensorflow/compiler/xla/stream_executor/platform/default/dso_loader.cc:64] Could not load dynamic library 'libnvinfer.so.7'; dlerror: libnvinfer.so.7: cannot open shared object file: No such file or directory; LD_LIBRARY_PATH: /iitgoafs/DDN_Benchmark/openmpi-4.0.5/exe/lib:/opt/ohpc/pub/mpi/ucx-ohpc/1.11.2/lib:/opt/ohpc/pub/mpi/mpich-ucx-gnu9-ohpc/3.4.2/lib:/opt/ohpc/pub/compiler/gcc/9.4.0/lib64:/iitgoafs/DDN_Benchmark/openmpi-4.0.5/exe/lib\n",
      "2023-02-16 19:51:47.361779: W tensorflow/compiler/xla/stream_executor/platform/default/dso_loader.cc:64] Could not load dynamic library 'libnvinfer_plugin.so.7'; dlerror: libnvinfer_plugin.so.7: cannot open shared object file: No such file or directory; LD_LIBRARY_PATH: /iitgoafs/DDN_Benchmark/openmpi-4.0.5/exe/lib:/opt/ohpc/pub/mpi/ucx-ohpc/1.11.2/lib:/opt/ohpc/pub/mpi/mpich-ucx-gnu9-ohpc/3.4.2/lib:/opt/ohpc/pub/compiler/gcc/9.4.0/lib64:/iitgoafs/DDN_Benchmark/openmpi-4.0.5/exe/lib\n",
      "2023-02-16 19:51:47.361815: W tensorflow/compiler/tf2tensorrt/utils/py_utils.cc:38] TF-TRT Warning: Cannot dlopen some TensorRT libraries. If you would like to use Nvidia GPU with TensorRT, please make sure the missing libraries mentioned above are installed properly.\n",
      "2023-02-16 19:52:05.647270: E tensorflow/compiler/xla/stream_executor/cuda/cuda_driver.cc:267] failed call to cuInit: UNKNOWN ERROR (34)\n",
      "2023-02-16 19:52:05.672311: I tensorflow/compiler/xla/stream_executor/cuda/cuda_diagnostics.cc:156] kernel driver does not appear to be running on this host (hpc-head1.iitgoa.ac.in): /proc/driver/nvidia/version does not exist\n",
      "2023-02-16 19:52:05.760659: I tensorflow/core/platform/cpu_feature_guard.cc:193] This TensorFlow binary is optimized with oneAPI Deep Neural Network Library (oneDNN) to use the following CPU instructions in performance-critical operations:  AVX2 AVX512F AVX512_VNNI FMA\n",
      "To enable them in other operations, rebuild TensorFlow with the appropriate compiler flags.\n"
     ]
    }
   ],
   "source": [
    "from tensorflow.keras.models import Sequential\n",
    "from tensorflow.keras.layers import Dense\n",
    "from tensorflow.keras.metrics import MeanSquaredError, MeanAbsoluteError\n",
    "\n",
    "from sklearn.model_selection import cross_val_score\n",
    "from sklearn.model_selection import KFold\n",
    "from sklearn.preprocessing import StandardScaler\n",
    "\n",
    "model = Sequential()\n",
    "model.add(Dense(20, input_shape=(1923,), kernel_initializer='normal', activation='relu'))\n",
    "model.add(Dense(1, kernel_initializer='normal'))\n",
    "model.compile(loss='mean_squared_error', optimizer='adam',metrics=[MeanSquaredError(), MeanAbsoluteError()])"
   ]
  },
  {
   "cell_type": "code",
   "execution_count": 33,
   "id": "b41f38b0",
   "metadata": {
    "execution": {
     "iopub.execute_input": "2023-02-15T09:33:59.001833Z",
     "iopub.status.busy": "2023-02-15T09:33:59.000966Z",
     "iopub.status.idle": "2023-02-15T09:33:59.278031Z",
     "shell.execute_reply": "2023-02-15T09:33:59.276489Z"
    },
    "papermill": {
     "duration": 0.289925,
     "end_time": "2023-02-15T09:33:59.280397",
     "exception": true,
     "start_time": "2023-02-15T09:33:58.990472",
     "status": "failed"
    },
    "tags": []
   },
   "outputs": [
    {
     "name": "stdout",
     "output_type": "stream",
     "text": [
      "Epoch 1/20\n",
      "9083/9083 [==============================] - 10s 968us/step - loss: 12.5800 - mean_squared_error: 12.5800 - mean_absolute_error: 1.0481\n",
      "Epoch 2/20\n",
      "9083/9083 [==============================] - 9s 1ms/step - loss: 9.1945 - mean_squared_error: 9.1945 - mean_absolute_error: 0.7594\n",
      "Epoch 3/20\n",
      "9083/9083 [==============================] - 9s 1ms/step - loss: 7.9984 - mean_squared_error: 7.9984 - mean_absolute_error: 0.7038\n",
      "Epoch 4/20\n",
      "9083/9083 [==============================] - 9s 1ms/step - loss: 7.2776 - mean_squared_error: 7.2776 - mean_absolute_error: 0.6625\n",
      "Epoch 5/20\n",
      "9083/9083 [==============================] - 9s 1ms/step - loss: 6.8131 - mean_squared_error: 6.8131 - mean_absolute_error: 0.6258\n",
      "Epoch 6/20\n",
      "9083/9083 [==============================] - 9s 1ms/step - loss: 6.5070 - mean_squared_error: 6.5070 - mean_absolute_error: 0.6088\n",
      "Epoch 7/20\n",
      "9083/9083 [==============================] - 9s 941us/step - loss: 6.2694 - mean_squared_error: 6.2694 - mean_absolute_error: 0.5938\n",
      "Epoch 8/20\n",
      "9083/9083 [==============================] - 9s 1ms/step - loss: 6.0931 - mean_squared_error: 6.0931 - mean_absolute_error: 0.5735\n",
      "Epoch 9/20\n",
      "9083/9083 [==============================] - 9s 1ms/step - loss: 5.9657 - mean_squared_error: 5.9657 - mean_absolute_error: 0.5598\n",
      "Epoch 10/20\n",
      "9083/9083 [==============================] - 10s 1ms/step - loss: 5.8343 - mean_squared_error: 5.8343 - mean_absolute_error: 0.5548\n",
      "Epoch 11/20\n",
      "9083/9083 [==============================] - 10s 1ms/step - loss: 5.7533 - mean_squared_error: 5.7533 - mean_absolute_error: 0.5432\n",
      "Epoch 12/20\n",
      "9083/9083 [==============================] - 10s 1ms/step - loss: 5.6996 - mean_squared_error: 5.6996 - mean_absolute_error: 0.5374\n",
      "Epoch 13/20\n",
      "9083/9083 [==============================] - 9s 970us/step - loss: 5.5673 - mean_squared_error: 5.5673 - mean_absolute_error: 0.5346\n",
      "Epoch 14/20\n",
      "9083/9083 [==============================] - 9s 974us/step - loss: 5.5658 - mean_squared_error: 5.5658 - mean_absolute_error: 0.5269\n",
      "Epoch 15/20\n",
      "9083/9083 [==============================] - 9s 978us/step - loss: 5.4678 - mean_squared_error: 5.4678 - mean_absolute_error: 0.5273\n",
      "Epoch 16/20\n",
      "9083/9083 [==============================] - 9s 981us/step - loss: 5.4822 - mean_squared_error: 5.4822 - mean_absolute_error: 0.5183\n",
      "Epoch 17/20\n",
      "9083/9083 [==============================] - 9s 971us/step - loss: 5.3850 - mean_squared_error: 5.3850 - mean_absolute_error: 0.5197\n",
      "Epoch 18/20\n",
      "9083/9083 [==============================] - 9s 973us/step - loss: 5.3973 - mean_squared_error: 5.3973 - mean_absolute_error: 0.5136\n",
      "Epoch 19/20\n",
      "9083/9083 [==============================] - 9s 971us/step - loss: 5.3976 - mean_squared_error: 5.3976 - mean_absolute_error: 0.5127\n",
      "Epoch 20/20\n",
      "9083/9083 [==============================] - 9s 992us/step - loss: 5.2989 - mean_squared_error: 5.2989 - mean_absolute_error: 0.5157\n"
     ]
    },
    {
     "data": {
      "text/plain": [
       "<keras.callbacks.History at 0x7fa9c06ecb80>"
      ]
     },
     "execution_count": 33,
     "metadata": {},
     "output_type": "execute_result"
    }
   ],
   "source": [
    "model.fit(X, y, epochs=20, batch_size=10)"
   ]
  },
  {
   "cell_type": "code",
   "execution_count": 34,
   "id": "8bba7273",
   "metadata": {
    "execution": {
     "iopub.execute_input": "2023-02-15T08:46:24.150990Z",
     "iopub.status.busy": "2023-02-15T08:46:24.150517Z",
     "iopub.status.idle": "2023-02-15T08:46:28.727300Z",
     "shell.execute_reply": "2023-02-15T08:46:28.726279Z",
     "shell.execute_reply.started": "2023-02-15T08:46:24.150952Z"
    },
    "papermill": {
     "duration": null,
     "end_time": null,
     "exception": null,
     "start_time": null,
     "status": "pending"
    },
    "tags": []
   },
   "outputs": [
    {
     "name": "stdout",
     "output_type": "stream",
     "text": [
      "2839/2839 [==============================] - 2s 636us/step\n"
     ]
    }
   ],
   "source": [
    "y_predicted= model.predict(X)\n",
    "y_predicted = list(itertools.chain(*y_predicted))"
   ]
  },
  {
   "cell_type": "code",
   "execution_count": 35,
   "id": "aa08b666",
   "metadata": {
    "execution": {
     "iopub.execute_input": "2023-02-15T08:46:28.730782Z",
     "iopub.status.busy": "2023-02-15T08:46:28.730415Z",
     "iopub.status.idle": "2023-02-15T08:46:28.748142Z",
     "shell.execute_reply": "2023-02-15T08:46:28.747032Z",
     "shell.execute_reply.started": "2023-02-15T08:46:28.730752Z"
    },
    "papermill": {
     "duration": null,
     "end_time": null,
     "exception": null,
     "start_time": null,
     "status": "pending"
    },
    "tags": []
   },
   "outputs": [
    {
     "name": "stdout",
     "output_type": "stream",
     "text": [
      "mean_absolute_error :  0.47206071357359375\n",
      "mean_squared_error :  5.228574155838851\n"
     ]
    }
   ],
   "source": [
    "from sklearn.metrics import mean_absolute_error,mean_squared_error\n",
    "print(\"mean_absolute_error : \",mean_absolute_error(y, y_predicted))\n",
    "print(\"mean_squared_error : \",mean_squared_error(y, y_predicted))"
   ]
  },
  {
   "cell_type": "code",
   "execution_count": 36,
   "id": "eea0c740",
   "metadata": {
    "execution": {
     "iopub.execute_input": "2023-02-15T08:46:28.750312Z",
     "iopub.status.busy": "2023-02-15T08:46:28.749929Z",
     "iopub.status.idle": "2023-02-15T08:46:28.815405Z",
     "shell.execute_reply": "2023-02-15T08:46:28.814495Z",
     "shell.execute_reply.started": "2023-02-15T08:46:28.750267Z"
    },
    "papermill": {
     "duration": null,
     "end_time": null,
     "exception": null,
     "start_time": null,
     "status": "pending"
    },
    "tags": []
   },
   "outputs": [],
   "source": [
    "predicted_result = pd.DataFrame(columns=['Expected','Actual'])\n",
    "predicted_result['Actual'] = list(y_predicted)\n",
    "predicted_result['Expected'] = list(y)"
   ]
  },
  {
   "cell_type": "code",
   "execution_count": 37,
   "id": "0b94baf9",
   "metadata": {
    "execution": {
     "iopub.execute_input": "2023-02-15T08:46:28.817090Z",
     "iopub.status.busy": "2023-02-15T08:46:28.816646Z",
     "iopub.status.idle": "2023-02-15T08:46:28.829244Z",
     "shell.execute_reply": "2023-02-15T08:46:28.828208Z",
     "shell.execute_reply.started": "2023-02-15T08:46:28.817051Z"
    },
    "papermill": {
     "duration": null,
     "end_time": null,
     "exception": null,
     "start_time": null,
     "status": "pending"
    },
    "tags": []
   },
   "outputs": [
    {
     "data": {
      "text/html": [
       "<div>\n",
       "<style scoped>\n",
       "    .dataframe tbody tr th:only-of-type {\n",
       "        vertical-align: middle;\n",
       "    }\n",
       "\n",
       "    .dataframe tbody tr th {\n",
       "        vertical-align: top;\n",
       "    }\n",
       "\n",
       "    .dataframe thead th {\n",
       "        text-align: right;\n",
       "    }\n",
       "</style>\n",
       "<table border=\"1\" class=\"dataframe\">\n",
       "  <thead>\n",
       "    <tr style=\"text-align: right;\">\n",
       "      <th></th>\n",
       "      <th>Expected</th>\n",
       "      <th>Actual</th>\n",
       "    </tr>\n",
       "  </thead>\n",
       "  <tbody>\n",
       "    <tr>\n",
       "      <th>0</th>\n",
       "      <td>3.007682</td>\n",
       "      <td>2.963553</td>\n",
       "    </tr>\n",
       "    <tr>\n",
       "      <th>1</th>\n",
       "      <td>2.884870</td>\n",
       "      <td>2.963553</td>\n",
       "    </tr>\n",
       "    <tr>\n",
       "      <th>2</th>\n",
       "      <td>3.055843</td>\n",
       "      <td>2.963553</td>\n",
       "    </tr>\n",
       "    <tr>\n",
       "      <th>3</th>\n",
       "      <td>2.993233</td>\n",
       "      <td>2.963553</td>\n",
       "    </tr>\n",
       "    <tr>\n",
       "      <th>4</th>\n",
       "      <td>2.993233</td>\n",
       "      <td>2.963553</td>\n",
       "    </tr>\n",
       "    <tr>\n",
       "      <th>...</th>\n",
       "      <td>...</td>\n",
       "      <td>...</td>\n",
       "    </tr>\n",
       "    <tr>\n",
       "      <th>90823</th>\n",
       "      <td>1.670559</td>\n",
       "      <td>2.791786</td>\n",
       "    </tr>\n",
       "    <tr>\n",
       "      <th>90824</th>\n",
       "      <td>1.688522</td>\n",
       "      <td>2.791786</td>\n",
       "    </tr>\n",
       "    <tr>\n",
       "      <th>90825</th>\n",
       "      <td>1.670559</td>\n",
       "      <td>2.791786</td>\n",
       "    </tr>\n",
       "    <tr>\n",
       "      <th>90826</th>\n",
       "      <td>1.760374</td>\n",
       "      <td>2.791786</td>\n",
       "    </tr>\n",
       "    <tr>\n",
       "      <th>90827</th>\n",
       "      <td>1.796300</td>\n",
       "      <td>2.791786</td>\n",
       "    </tr>\n",
       "  </tbody>\n",
       "</table>\n",
       "<p>90828 rows × 2 columns</p>\n",
       "</div>"
      ],
      "text/plain": [
       "       Expected    Actual\n",
       "0      3.007682  2.963553\n",
       "1      2.884870  2.963553\n",
       "2      3.055843  2.963553\n",
       "3      2.993233  2.963553\n",
       "4      2.993233  2.963553\n",
       "...         ...       ...\n",
       "90823  1.670559  2.791786\n",
       "90824  1.688522  2.791786\n",
       "90825  1.670559  2.791786\n",
       "90826  1.760374  2.791786\n",
       "90827  1.796300  2.791786\n",
       "\n",
       "[90828 rows x 2 columns]"
      ]
     },
     "execution_count": 37,
     "metadata": {},
     "output_type": "execute_result"
    }
   ],
   "source": [
    "predicted_result"
   ]
  },
  {
   "cell_type": "code",
   "execution_count": 38,
   "id": "5672da44",
   "metadata": {
    "execution": {
     "iopub.execute_input": "2023-02-15T09:22:58.832084Z",
     "iopub.status.busy": "2023-02-15T09:22:58.831685Z",
     "iopub.status.idle": "2023-02-15T09:30:05.120555Z",
     "shell.execute_reply": "2023-02-15T09:30:05.119351Z",
     "shell.execute_reply.started": "2023-02-15T09:22:58.832048Z"
    },
    "papermill": {
     "duration": null,
     "end_time": null,
     "exception": null,
     "start_time": null,
     "status": "pending"
    },
    "tags": []
   },
   "outputs": [
    {
     "name": "stdout",
     "output_type": "stream",
     "text": [
      "Epoch 1/50\n",
      "9083/9083 [==============================] - 18s 2ms/step - loss: 8.8743 - mean_squared_error: 8.8743 - mean_absolute_error: 0.8250\n",
      "Epoch 2/50\n",
      "9083/9083 [==============================] - 17s 2ms/step - loss: 6.0627 - mean_squared_error: 6.0627 - mean_absolute_error: 0.5418\n",
      "Epoch 3/50\n",
      "9083/9083 [==============================] - 17s 2ms/step - loss: 5.9099 - mean_squared_error: 5.9099 - mean_absolute_error: 0.4584\n",
      "Epoch 4/50\n",
      "9083/9083 [==============================] - 17s 2ms/step - loss: 5.4713 - mean_squared_error: 5.4713 - mean_absolute_error: 0.4272\n",
      "Epoch 5/50\n",
      "9083/9083 [==============================] - 17s 2ms/step - loss: 5.1833 - mean_squared_error: 5.1833 - mean_absolute_error: 0.3906\n",
      "Epoch 6/50\n",
      "9083/9083 [==============================] - 17s 2ms/step - loss: 5.1293 - mean_squared_error: 5.1293 - mean_absolute_error: 0.3750\n",
      "Epoch 7/50\n",
      "9083/9083 [==============================] - 17s 2ms/step - loss: 4.8120 - mean_squared_error: 4.8120 - mean_absolute_error: 0.3590\n",
      "Epoch 8/50\n",
      "9083/9083 [==============================] - 17s 2ms/step - loss: 4.4530 - mean_squared_error: 4.4530 - mean_absolute_error: 0.3450\n",
      "Epoch 9/50\n",
      "9083/9083 [==============================] - 17s 2ms/step - loss: 4.2659 - mean_squared_error: 4.2659 - mean_absolute_error: 0.3364\n",
      "Epoch 10/50\n",
      "9083/9083 [==============================] - 17s 2ms/step - loss: 4.3053 - mean_squared_error: 4.3053 - mean_absolute_error: 0.3280\n",
      "Epoch 11/50\n",
      "9083/9083 [==============================] - 17s 2ms/step - loss: 4.1827 - mean_squared_error: 4.1827 - mean_absolute_error: 0.3212\n",
      "Epoch 12/50\n",
      "9083/9083 [==============================] - 17s 2ms/step - loss: 4.1093 - mean_squared_error: 4.1093 - mean_absolute_error: 0.3150\n",
      "Epoch 13/50\n",
      "9083/9083 [==============================] - 18s 2ms/step - loss: 3.9599 - mean_squared_error: 3.9599 - mean_absolute_error: 0.3125\n",
      "Epoch 14/50\n",
      "9083/9083 [==============================] - 17s 2ms/step - loss: 3.8781 - mean_squared_error: 3.8781 - mean_absolute_error: 0.3044\n",
      "Epoch 15/50\n",
      "9083/9083 [==============================] - 17s 2ms/step - loss: 3.6528 - mean_squared_error: 3.6528 - mean_absolute_error: 0.3016\n",
      "Epoch 16/50\n",
      "9083/9083 [==============================] - 17s 2ms/step - loss: 3.1315 - mean_squared_error: 3.1315 - mean_absolute_error: 0.2934\n",
      "Epoch 17/50\n",
      "9083/9083 [==============================] - 17s 2ms/step - loss: 3.3881 - mean_squared_error: 3.3881 - mean_absolute_error: 0.2896\n",
      "Epoch 18/50\n",
      "9083/9083 [==============================] - 17s 2ms/step - loss: 3.3527 - mean_squared_error: 3.3527 - mean_absolute_error: 0.2852\n",
      "Epoch 19/50\n",
      "9083/9083 [==============================] - 17s 2ms/step - loss: 3.0278 - mean_squared_error: 3.0278 - mean_absolute_error: 0.2776\n",
      "Epoch 20/50\n",
      "9083/9083 [==============================] - 17s 2ms/step - loss: 3.1180 - mean_squared_error: 3.1180 - mean_absolute_error: 0.2736\n",
      "Epoch 21/50\n",
      "9083/9083 [==============================] - 17s 2ms/step - loss: 2.9315 - mean_squared_error: 2.9315 - mean_absolute_error: 0.2628\n",
      "Epoch 22/50\n",
      "9083/9083 [==============================] - 17s 2ms/step - loss: 3.0824 - mean_squared_error: 3.0824 - mean_absolute_error: 0.2587\n",
      "Epoch 23/50\n",
      "9083/9083 [==============================] - 17s 2ms/step - loss: 2.9233 - mean_squared_error: 2.9233 - mean_absolute_error: 0.2576\n",
      "Epoch 24/50\n",
      "9083/9083 [==============================] - 17s 2ms/step - loss: 2.9376 - mean_squared_error: 2.9376 - mean_absolute_error: 0.2555\n",
      "Epoch 25/50\n",
      "9083/9083 [==============================] - 17s 2ms/step - loss: 3.1181 - mean_squared_error: 3.1181 - mean_absolute_error: 0.2546\n",
      "Epoch 26/50\n",
      "9083/9083 [==============================] - 17s 2ms/step - loss: 2.8572 - mean_squared_error: 2.8572 - mean_absolute_error: 0.2514\n",
      "Epoch 27/50\n",
      "9083/9083 [==============================] - 17s 2ms/step - loss: 2.8907 - mean_squared_error: 2.8907 - mean_absolute_error: 0.2492\n",
      "Epoch 28/50\n",
      "9083/9083 [==============================] - 17s 2ms/step - loss: 2.8551 - mean_squared_error: 2.8551 - mean_absolute_error: 0.2423\n",
      "Epoch 29/50\n",
      "9083/9083 [==============================] - 17s 2ms/step - loss: 2.6561 - mean_squared_error: 2.6561 - mean_absolute_error: 0.2386\n",
      "Epoch 30/50\n",
      "9083/9083 [==============================] - 17s 2ms/step - loss: 2.7410 - mean_squared_error: 2.7410 - mean_absolute_error: 0.2402\n",
      "Epoch 31/50\n",
      "9083/9083 [==============================] - 17s 2ms/step - loss: 2.6266 - mean_squared_error: 2.6266 - mean_absolute_error: 0.2359\n",
      "Epoch 32/50\n",
      "9083/9083 [==============================] - 18s 2ms/step - loss: 2.6983 - mean_squared_error: 2.6983 - mean_absolute_error: 0.2342\n",
      "Epoch 33/50\n",
      "9083/9083 [==============================] - 17s 2ms/step - loss: 2.6067 - mean_squared_error: 2.6067 - mean_absolute_error: 0.2303\n",
      "Epoch 34/50\n",
      "9083/9083 [==============================] - 17s 2ms/step - loss: 2.6484 - mean_squared_error: 2.6484 - mean_absolute_error: 0.2280\n",
      "Epoch 35/50\n",
      "9083/9083 [==============================] - 17s 2ms/step - loss: 2.5041 - mean_squared_error: 2.5041 - mean_absolute_error: 0.2262\n",
      "Epoch 36/50\n",
      "9083/9083 [==============================] - 17s 2ms/step - loss: 2.6336 - mean_squared_error: 2.6336 - mean_absolute_error: 0.2308\n",
      "Epoch 37/50\n",
      "9083/9083 [==============================] - 17s 2ms/step - loss: 2.7159 - mean_squared_error: 2.7159 - mean_absolute_error: 0.2287\n",
      "Epoch 38/50\n",
      "9083/9083 [==============================] - 17s 2ms/step - loss: 2.9348 - mean_squared_error: 2.9348 - mean_absolute_error: 0.2294\n",
      "Epoch 39/50\n",
      "9083/9083 [==============================] - 17s 2ms/step - loss: 2.5700 - mean_squared_error: 2.5700 - mean_absolute_error: 0.2216\n",
      "Epoch 40/50\n",
      "9083/9083 [==============================] - 17s 2ms/step - loss: 2.5743 - mean_squared_error: 2.5743 - mean_absolute_error: 0.2223\n",
      "Epoch 41/50\n",
      "9083/9083 [==============================] - 17s 2ms/step - loss: 2.7346 - mean_squared_error: 2.7346 - mean_absolute_error: 0.2193\n",
      "Epoch 42/50\n",
      "9083/9083 [==============================] - 17s 2ms/step - loss: 2.6284 - mean_squared_error: 2.6284 - mean_absolute_error: 0.2154\n",
      "Epoch 43/50\n",
      "9083/9083 [==============================] - 17s 2ms/step - loss: 2.5187 - mean_squared_error: 2.5187 - mean_absolute_error: 0.2182\n",
      "Epoch 44/50\n",
      "9083/9083 [==============================] - 17s 2ms/step - loss: 2.6633 - mean_squared_error: 2.6633 - mean_absolute_error: 0.2107\n",
      "Epoch 45/50\n",
      "9083/9083 [==============================] - 17s 2ms/step - loss: 2.4627 - mean_squared_error: 2.4627 - mean_absolute_error: 0.2124\n",
      "Epoch 46/50\n",
      "9083/9083 [==============================] - 17s 2ms/step - loss: 2.7285 - mean_squared_error: 2.7285 - mean_absolute_error: 0.2176\n",
      "Epoch 47/50\n",
      "9083/9083 [==============================] - 17s 2ms/step - loss: 2.5100 - mean_squared_error: 2.5100 - mean_absolute_error: 0.2127\n",
      "Epoch 48/50\n",
      "9083/9083 [==============================] - 17s 2ms/step - loss: 2.6861 - mean_squared_error: 2.6861 - mean_absolute_error: 0.2151\n",
      "Epoch 49/50\n",
      "9083/9083 [==============================] - 17s 2ms/step - loss: 2.5205 - mean_squared_error: 2.5205 - mean_absolute_error: 0.2092\n",
      "Epoch 50/50\n",
      "9083/9083 [==============================] - 17s 2ms/step - loss: 2.6288 - mean_squared_error: 2.6288 - mean_absolute_error: 0.2136\n"
     ]
    },
    {
     "data": {
      "text/plain": [
       "<keras.callbacks.History at 0x7fa980666d30>"
      ]
     },
     "execution_count": 38,
     "metadata": {},
     "output_type": "execute_result"
    }
   ],
   "source": [
    "model = Sequential()\n",
    "model.add(Dense(100, input_shape=(1923,), kernel_initializer='normal', activation='relu'))\n",
    "model.add(Dense(100, kernel_initializer='normal', activation='relu'))\n",
    "model.add(Dense(1, activation='linear'))\n",
    "model.compile(loss='mean_squared_error', optimizer='adam',metrics=[MeanSquaredError(),MeanAbsoluteError()])\n",
    "\n",
    "model.fit(X, y, epochs=50, batch_size=10)"
   ]
  },
  {
   "cell_type": "code",
   "execution_count": 39,
   "id": "144b0f1c",
   "metadata": {
    "execution": {
     "iopub.execute_input": "2023-02-15T09:32:08.789944Z",
     "iopub.status.busy": "2023-02-15T09:32:08.789580Z",
     "iopub.status.idle": "2023-02-15T09:32:13.218465Z",
     "shell.execute_reply": "2023-02-15T09:32:13.217479Z",
     "shell.execute_reply.started": "2023-02-15T09:32:08.789912Z"
    },
    "papermill": {
     "duration": null,
     "end_time": null,
     "exception": null,
     "start_time": null,
     "status": "pending"
    },
    "tags": []
   },
   "outputs": [
    {
     "name": "stdout",
     "output_type": "stream",
     "text": [
      "2839/2839 [==============================] - 2s 859us/step\n"
     ]
    }
   ],
   "source": [
    "y_predicted= model.predict(X)\n",
    "y_predicted = list(itertools.chain(*y_predicted))"
   ]
  },
  {
   "cell_type": "code",
   "execution_count": 40,
   "id": "d346a156",
   "metadata": {
    "execution": {
     "iopub.execute_input": "2023-02-15T09:32:16.669068Z",
     "iopub.status.busy": "2023-02-15T09:32:16.668713Z",
     "iopub.status.idle": "2023-02-15T09:32:16.687927Z",
     "shell.execute_reply": "2023-02-15T09:32:16.686801Z",
     "shell.execute_reply.started": "2023-02-15T09:32:16.669036Z"
    },
    "papermill": {
     "duration": null,
     "end_time": null,
     "exception": null,
     "start_time": null,
     "status": "pending"
    },
    "tags": []
   },
   "outputs": [
    {
     "name": "stdout",
     "output_type": "stream",
     "text": [
      "mean_absolute_error :  0.2208225214580748\n",
      "mean_squared_error :  2.331540577352587\n"
     ]
    }
   ],
   "source": [
    "print(\"mean_absolute_error : \",mean_absolute_error(y, y_predicted))\n",
    "print(\"mean_squared_error : \",mean_squared_error(y, y_predicted))"
   ]
  },
  {
   "cell_type": "code",
   "execution_count": 76,
   "id": "6cf94078",
   "metadata": {},
   "outputs": [
    {
     "data": {
      "text/html": [
       "<div>\n",
       "<style scoped>\n",
       "    .dataframe tbody tr th:only-of-type {\n",
       "        vertical-align: middle;\n",
       "    }\n",
       "\n",
       "    .dataframe tbody tr th {\n",
       "        vertical-align: top;\n",
       "    }\n",
       "\n",
       "    .dataframe thead th {\n",
       "        text-align: right;\n",
       "    }\n",
       "</style>\n",
       "<table border=\"1\" class=\"dataframe\">\n",
       "  <thead>\n",
       "    <tr style=\"text-align: right;\">\n",
       "      <th></th>\n",
       "      <th>2022-11-01</th>\n",
       "      <th>2022-12-01</th>\n",
       "      <th>2023-01-01</th>\n",
       "      <th>2023-02-01</th>\n",
       "      <th>2023-03-01</th>\n",
       "      <th>2023-04-01</th>\n",
       "      <th>2023-05-01</th>\n",
       "      <th>2023-06-01</th>\n",
       "    </tr>\n",
       "    <tr>\n",
       "      <th>cfips</th>\n",
       "      <th></th>\n",
       "      <th></th>\n",
       "      <th></th>\n",
       "      <th></th>\n",
       "      <th></th>\n",
       "      <th></th>\n",
       "      <th></th>\n",
       "      <th></th>\n",
       "    </tr>\n",
       "  </thead>\n",
       "  <tbody>\n",
       "    <tr>\n",
       "      <th>1001</th>\n",
       "      <td>NaN</td>\n",
       "      <td>NaN</td>\n",
       "      <td>NaN</td>\n",
       "      <td>NaN</td>\n",
       "      <td>NaN</td>\n",
       "      <td>NaN</td>\n",
       "      <td>NaN</td>\n",
       "      <td>NaN</td>\n",
       "    </tr>\n",
       "    <tr>\n",
       "      <th>1001</th>\n",
       "      <td>NaN</td>\n",
       "      <td>NaN</td>\n",
       "      <td>NaN</td>\n",
       "      <td>NaN</td>\n",
       "      <td>NaN</td>\n",
       "      <td>NaN</td>\n",
       "      <td>NaN</td>\n",
       "      <td>NaN</td>\n",
       "    </tr>\n",
       "    <tr>\n",
       "      <th>1001</th>\n",
       "      <td>NaN</td>\n",
       "      <td>NaN</td>\n",
       "      <td>NaN</td>\n",
       "      <td>NaN</td>\n",
       "      <td>NaN</td>\n",
       "      <td>NaN</td>\n",
       "      <td>NaN</td>\n",
       "      <td>NaN</td>\n",
       "    </tr>\n",
       "    <tr>\n",
       "      <th>1001</th>\n",
       "      <td>NaN</td>\n",
       "      <td>NaN</td>\n",
       "      <td>NaN</td>\n",
       "      <td>NaN</td>\n",
       "      <td>NaN</td>\n",
       "      <td>NaN</td>\n",
       "      <td>NaN</td>\n",
       "      <td>NaN</td>\n",
       "    </tr>\n",
       "    <tr>\n",
       "      <th>1001</th>\n",
       "      <td>NaN</td>\n",
       "      <td>NaN</td>\n",
       "      <td>NaN</td>\n",
       "      <td>NaN</td>\n",
       "      <td>NaN</td>\n",
       "      <td>NaN</td>\n",
       "      <td>NaN</td>\n",
       "      <td>NaN</td>\n",
       "    </tr>\n",
       "  </tbody>\n",
       "</table>\n",
       "</div>"
      ],
      "text/plain": [
       "      2022-11-01 2022-12-01 2023-01-01 2023-02-01 2023-03-01 2023-04-01  \\\n",
       "cfips                                                                     \n",
       "1001         NaN        NaN        NaN        NaN        NaN        NaN   \n",
       "1001         NaN        NaN        NaN        NaN        NaN        NaN   \n",
       "1001         NaN        NaN        NaN        NaN        NaN        NaN   \n",
       "1001         NaN        NaN        NaN        NaN        NaN        NaN   \n",
       "1001         NaN        NaN        NaN        NaN        NaN        NaN   \n",
       "\n",
       "      2023-05-01 2023-06-01  \n",
       "cfips                        \n",
       "1001         NaN        NaN  \n",
       "1001         NaN        NaN  \n",
       "1001         NaN        NaN  \n",
       "1001         NaN        NaN  \n",
       "1001         NaN        NaN  "
      ]
     },
     "execution_count": 76,
     "metadata": {},
     "output_type": "execute_result"
    }
   ],
   "source": [
    "# predict for all cfips for the next 8 months starting from 2022-11-01 to 2023-06-01\n",
    "df_test = pd.DataFrame(index=train_dataset['cfips'], columns=pd.date_range(start='2022-11-01', periods=8, freq='MS'))\n",
    "df_test.head()"
   ]
  },
  {
   "cell_type": "markdown",
   "id": "291e47d8",
   "metadata": {},
   "source": [
    "# predict for the next 8 months and make a submission file"
   ]
  }
 ],
 "metadata": {
  "kernelspec": {
   "display_name": "Python 3 (ipykernel)",
   "language": "python",
   "name": "python3"
  },
  "language_info": {
   "codemirror_mode": {
    "name": "ipython",
    "version": 3
   },
   "file_extension": ".py",
   "mimetype": "text/x-python",
   "name": "python",
   "nbconvert_exporter": "python",
   "pygments_lexer": "ipython3",
   "version": "3.9.7"
  },
  "papermill": {
   "default_parameters": {},
   "duration": 69.297358,
   "end_time": "2023-02-15T09:34:02.189212",
   "environment_variables": {},
   "exception": true,
   "input_path": "__notebook__.ipynb",
   "output_path": "__notebook__.ipynb",
   "parameters": {},
   "start_time": "2023-02-15T09:32:52.891854",
   "version": "2.3.4"
  }
 },
 "nbformat": 4,
 "nbformat_minor": 5
}
