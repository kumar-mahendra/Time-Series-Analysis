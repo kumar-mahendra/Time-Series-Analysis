{
 "cells": [
  {
   "cell_type": "code",
   "execution_count": 1,
   "id": "396d059c",
   "metadata": {},
   "outputs": [],
   "source": [
    "import pandas as pd \n",
    "import numpy as np \n",
    "import json\n",
    "import matplotlib.pyplot as plt\n",
    "from sklearn.preprocessing import MinMaxScaler\n",
    "from sklearn.linear_model import LinearRegression\n",
    "from statsmodels.tsa.statespace.sarimax import SARIMAX\n",
    "from statsmodels.graphics.tsaplots import plot_acf\n",
    "from statsmodels.tsa.seasonal import seasonal_decompose\n",
    "from statsmodels.tsa.stattools import adfuller\n",
    "from sklearn.model_selection import train_test_split\n",
    "import statsmodels.api as sm\n",
    "from tqdm import tqdm \n",
    "from sklearn.metrics import mean_squared_error\n",
    "import warnings\n",
    "warnings.filterwarnings(\"ignore\")\n",
    "import multiprocessing\n",
    "import time "
   ]
  },
  {
   "cell_type": "code",
   "execution_count": 2,
   "id": "d6654740",
   "metadata": {},
   "outputs": [
    {
     "ename": "FileNotFoundError",
     "evalue": "[Errno 2] No such file or directory: './outputs/clusters_sarima.json'",
     "output_type": "error",
     "traceback": [
      "\u001b[1;31m---------------------------------------------------------------------------\u001b[0m",
      "\u001b[1;31mFileNotFoundError\u001b[0m                         Traceback (most recent call last)",
      "Cell \u001b[1;32mIn[2], line 3\u001b[0m\n\u001b[0;32m      1\u001b[0m \u001b[39m# load data \u001b[39;00m\n\u001b[0;32m      2\u001b[0m mbd_data \u001b[39m=\u001b[39m pd\u001b[39m.\u001b[39mread_csv(\u001b[39m'\u001b[39m\u001b[39m./outputs/mbd_data.csv\u001b[39m\u001b[39m'\u001b[39m)\n\u001b[1;32m----> 3\u001b[0m clusters \u001b[39m=\u001b[39m json\u001b[39m.\u001b[39mloads(\u001b[39mopen\u001b[39;49m(\u001b[39m'\u001b[39;49m\u001b[39m./outputs/clusters_sarima.json\u001b[39;49m\u001b[39m'\u001b[39;49m,\u001b[39m\"\u001b[39;49m\u001b[39mr\u001b[39;49m\u001b[39m\"\u001b[39;49m)\u001b[39m.\u001b[39mread())\n\u001b[0;32m      4\u001b[0m cluster_keys \u001b[39m=\u001b[39m [\u001b[39m\"\u001b[39m\u001b[39m0\u001b[39m\u001b[39m\"\u001b[39m,\u001b[39m\"\u001b[39m\u001b[39m1\u001b[39m\u001b[39m\"\u001b[39m,\u001b[39m\"\u001b[39m\u001b[39m2\u001b[39m\u001b[39m\"\u001b[39m,\u001b[39m\"\u001b[39m\u001b[39m3\u001b[39m\u001b[39m\"\u001b[39m,\u001b[39m\"\u001b[39m\u001b[39m4\u001b[39m\u001b[39m\"\u001b[39m,\u001b[39m\"\u001b[39m\u001b[39m5\u001b[39m\u001b[39m\"\u001b[39m,\u001b[39m\"\u001b[39m\u001b[39m6\u001b[39m\u001b[39m\"\u001b[39m,\u001b[39m\"\u001b[39m\u001b[39m-1\u001b[39m\u001b[39m\"\u001b[39m]\n\u001b[0;32m      5\u001b[0m mbd_data \u001b[39m=\u001b[39m mbd_data\u001b[39m.\u001b[39msort_values(by\u001b[39m=\u001b[39m[\u001b[39m\"\u001b[39m\u001b[39mcfips\u001b[39m\u001b[39m\"\u001b[39m,\u001b[39m\"\u001b[39m\u001b[39mfirst_day_of_month\u001b[39m\u001b[39m\"\u001b[39m])\u001b[39m.\u001b[39mreset_index(drop\u001b[39m=\u001b[39m\u001b[39mTrue\u001b[39;00m)\n",
      "File \u001b[1;32mc:\\Users\\Owner\\Desktop\\btp\\venv\\lib\\site-packages\\IPython\\core\\interactiveshell.py:282\u001b[0m, in \u001b[0;36m_modified_open\u001b[1;34m(file, *args, **kwargs)\u001b[0m\n\u001b[0;32m    275\u001b[0m \u001b[39mif\u001b[39;00m file \u001b[39min\u001b[39;00m {\u001b[39m0\u001b[39m, \u001b[39m1\u001b[39m, \u001b[39m2\u001b[39m}:\n\u001b[0;32m    276\u001b[0m     \u001b[39mraise\u001b[39;00m \u001b[39mValueError\u001b[39;00m(\n\u001b[0;32m    277\u001b[0m         \u001b[39mf\u001b[39m\u001b[39m\"\u001b[39m\u001b[39mIPython won\u001b[39m\u001b[39m'\u001b[39m\u001b[39mt let you open fd=\u001b[39m\u001b[39m{\u001b[39;00mfile\u001b[39m}\u001b[39;00m\u001b[39m by default \u001b[39m\u001b[39m\"\u001b[39m\n\u001b[0;32m    278\u001b[0m         \u001b[39m\"\u001b[39m\u001b[39mas it is likely to crash IPython. If you know what you are doing, \u001b[39m\u001b[39m\"\u001b[39m\n\u001b[0;32m    279\u001b[0m         \u001b[39m\"\u001b[39m\u001b[39myou can use builtins\u001b[39m\u001b[39m'\u001b[39m\u001b[39m open.\u001b[39m\u001b[39m\"\u001b[39m\n\u001b[0;32m    280\u001b[0m     )\n\u001b[1;32m--> 282\u001b[0m \u001b[39mreturn\u001b[39;00m io_open(file, \u001b[39m*\u001b[39;49margs, \u001b[39m*\u001b[39;49m\u001b[39m*\u001b[39;49mkwargs)\n",
      "\u001b[1;31mFileNotFoundError\u001b[0m: [Errno 2] No such file or directory: './outputs/clusters_sarima.json'"
     ]
    }
   ],
   "source": [
    "# load data \n",
    "mbd_data = pd.read_csv('./outputs/mbd_data.csv')\n",
    "clusters = json.loads(open('./outputs/clusters_arima.json',\"r\").read())\n",
    "cluster_keys = [\"0\",\"1\",\"2\",\"3\",\"4\",\"5\",\"6\",\"-1\"]\n",
    "mbd_data = mbd_data.sort_values(by=[\"cfips\",\"first_day_of_month\"]).reset_index(drop=True)\n",
    "mbd_data.median_hh_inc.ffill(inplace=True)\n",
    "mbd_data.pct_it_workers.ffill(inplace=True)\n",
    "\n",
    "sc = MinMaxScaler()\n",
    "mbd_data.median_hh_inc = sc.fit_transform( mbd_data.median_hh_inc.values.reshape(-1,1) ).reshape(-1)\n",
    "\n",
    "cfips = mbd_data.cfips.unique()"
   ]
  },
  {
   "cell_type": "code",
   "execution_count": 3,
   "id": "8cc9a495",
   "metadata": {},
   "outputs": [],
   "source": [
    "def smape(y_true, y_pred):\n",
    "    numerator = np.abs(y_pred - y_true)\n",
    "    denominator = (np.abs(y_pred) + np.abs(y_true)) / 2\n",
    "    smape_val = np.mean(numerator / denominator)\n",
    "    return smape_val"
   ]
  },
  {
   "cell_type": "code",
   "execution_count": 4,
   "id": "ab8edbb8",
   "metadata": {},
   "outputs": [],
   "source": [
    "# Plot a county \n",
    "\n",
    "def plot_county(cfip):\n",
    "#     cfip = clusters[\"-1\"][0]\n",
    "    location = mbd_data[mbd_data.cfips == cfip].county.iloc[0] + \", \" +mbd_data[mbd_data.cfips == cfip].state.iloc[0]\n",
    "    # Create a figure and axis object\n",
    "    fig, ax = plt.subplots(figsize=(10, 6))\n",
    "    dates = pd.date_range(start='2019-08-01', end='2022-12-01', freq='MS')\n",
    "    values = mbd_data[mbd_data.cfips == cfip][\"microbusiness_density\"].values\n",
    "\n",
    "    # Plot the line\n",
    "    ax.plot(dates, values)\n",
    "\n",
    "    # Set the axis labels and title\n",
    "    ax.set_xlabel('Date')\n",
    "    ax.set_ylabel('Microbusiness Density')\n",
    "    ax.set_title(f'{location} ( CFIP {cfip} )  ')\n",
    "\n",
    "    # Rotate the x-axis tick labels\n",
    "    plt.setp(ax.get_xticklabels(), rotation=45, ha='right')\n",
    "\n",
    "    # Show the plot\n",
    "    plt.show()"
   ]
  },
  {
   "cell_type": "code",
   "execution_count": 5,
   "id": "f09c762a",
   "metadata": {},
   "outputs": [
    {
     "data": {
      "text/plain": [
       "(13, 86)"
      ]
     },
     "execution_count": 5,
     "metadata": {},
     "output_type": "execute_result"
    }
   ],
   "source": [
    "# Adfuller Test : Check if for any county, microbusiness density is stationary \n",
    "\n",
    "# cfip = clusters[\"-1\"][1]\n",
    "stationary_count = 0 \n",
    "stationary_counties = []\n",
    "for cfip in clusters[\"-1\"]: \n",
    "    location = mbd_data[mbd_data.cfips == cfip].county.iloc[0] + \", \" +mbd_data[mbd_data.cfips == cfip].state.iloc[0]\n",
    "    values = mbd_data[mbd_data.cfips == cfip][\"microbusiness_density\"].values\n",
    "\n",
    "    p_value = adfuller(values)[1]\n",
    "    if p_value < 0.01 : \n",
    "        # reject null hypothesis . So time series is stationary \n",
    "        stationary_count += 1 \n",
    "        stationary_counties.append(cfip)\n",
    "stationary_count, len(clusters[\"-1\"])"
   ]
  },
  {
   "cell_type": "code",
   "execution_count": 6,
   "id": "86fa4af2",
   "metadata": {},
   "outputs": [
    {
     "data": {
      "text/plain": [
       "1099"
      ]
     },
     "execution_count": 6,
     "metadata": {},
     "output_type": "execute_result"
    }
   ],
   "source": [
    "# SARIMA model fit \n",
    "cfip = clusters[\"0\"][0]\n",
    "cfip"
   ]
  },
  {
   "cell_type": "code",
   "execution_count": 7,
   "id": "9eac6099",
   "metadata": {},
   "outputs": [],
   "source": [
    "data = mbd_data[mbd_data.cfips == cfip][\"microbusiness_density\"].values\n",
    "\n",
    "# Fit the seasonal ARIMA model\n",
    "p, d, q , P, D, Q, s = [3, 0, 0, 0, 0, 2, 12]\n",
    "model = sm.tsa.statespace.SARIMAX(data[:-2], order=(p, d, q), seasonal_order=(P, D, Q, s))\n",
    "results = model.fit()\n",
    "\n",
    "# Make predictions\n",
    "forecast = results.forecast(steps=2)\n",
    "\n",
    "# Print the summary of the model\n",
    "# print(results.summary())"
   ]
  },
  {
   "cell_type": "code",
   "execution_count": 8,
   "id": "84f368dd",
   "metadata": {},
   "outputs": [
    {
     "data": {
      "image/png": "[encoded data removed]",
      "text/plain": [
       "<Figure size 720x432 with 1 Axes>"
      ]
     },
     "metadata": {
      "needs_background": "light"
     },
     "output_type": "display_data"
    }
   ],
   "source": [
    "dates = pd.date_range(start='2019-08-01', end='2023-03-01', freq='MS')\n",
    "dates = [date.strftime('%Y-%m-%d') for date in dates]\n",
    "\n",
    "train_y_pred = results.predict()[1:]\n",
    "train_y = data[1:-2]\n",
    "test_y_pred = results.forecast(2)\n",
    "test_y = data[-2:]   \n",
    "\n",
    "y_pred = np.concatenate([train_y_pred, results.forecast(5)])\n",
    "x = list(range(len(y_pred)))\n",
    "location = mbd_data[mbd_data.cfips == cfip].county.iloc[0] + \", \" +mbd_data[mbd_data.cfips == cfip].state.iloc[0]\n",
    "plt.figure(figsize=(10,6))\n",
    "plt.plot(x[:len(data)],y_pred[:len(data)], label=\"Prediction\")\n",
    "plt.plot(x[:len(data)],data, label=\"True\")\n",
    "plt.plot(x[len(data):],y_pred[len(data):], label=\"Forecast\")\n",
    "\n",
    "# Set the axis labels and title\n",
    "plt.xlabel('Date')\n",
    "plt.ylabel('Microbusiness Density')\n",
    "plt.title(f'{location} ( CFIP {cfip} ) ')\n",
    "plt.xticks(x[::2], dates[::2], rotation=45)\n",
    "plt.legend()\n",
    "plt.show()"
   ]
  },
  {
   "cell_type": "code",
   "execution_count": 9,
   "id": "737cb51e",
   "metadata": {},
   "outputs": [
    {
     "data": {
      "text/plain": [
       "0.02357734065907622"
      ]
     },
     "execution_count": 9,
     "metadata": {},
     "output_type": "execute_result"
    }
   ],
   "source": [
    "smape(results.predict()[1:],data[1:-2])"
   ]
  },
  {
   "cell_type": "code",
   "execution_count": null,
   "id": "725a2430",
   "metadata": {},
   "outputs": [],
   "source": []
  },
  {
   "cell_type": "code",
   "execution_count": 10,
   "id": "185b9701",
   "metadata": {},
   "outputs": [
    {
     "data": {
      "text/plain": [
       "0.006730790701915674"
      ]
     },
     "execution_count": 10,
     "metadata": {},
     "output_type": "execute_result"
    }
   ],
   "source": [
    "smape(forecast, data[-2:])"
   ]
  },
  {
   "cell_type": "code",
   "execution_count": 12,
   "id": "bdb974a0",
   "metadata": {},
   "outputs": [],
   "source": [
    "def do_task(p,d,q,P,D,Q,s,values):\n",
    "    train, test = values[:-2], values[-2:]\n",
    "    try: \n",
    "        model = sm.tsa.statespace.SARIMAX(train, order=(p, d, q), seasonal_order=(P, D, Q, s))\n",
    "        results = model.fit()\n",
    "        \n",
    "        train_smape = smape(results.predict()[1:],train[1:])\n",
    "        test_smape = smape(results.forecast(2),test)\n",
    "        return train_smape, test_smape\n",
    "    except: \n",
    "        return np.inf, np.inf\n",
    "\n",
    "\n",
    "def do_major_task(p,d,q,P,D,Q,s,data, train_least_smape, test_least_smape,best_params):\n",
    "    train_smape, test_smape = do_task(p,d,q,P,D,Q,s,data)\n",
    "    if test_smape < test_least_smape: \n",
    "        train_least_smape = train_smape\n",
    "        test_least_smape = test_smape\n",
    "        best_params = [p,d,q,P,D,Q,s]\n",
    "    return train_least_smape, test_least_smape, best_params\n",
    "\n",
    "def get_best_params(data):\n",
    "    is_stationary = adfuller(data)[1] > 0.02\n",
    "    if is_stationary: \n",
    "        total = 3*7*3*3*3\n",
    "    else: \n",
    "        total = 3*7*3*2*3*3*2\n",
    "#     pbar = tqdm(total=total)\n",
    "    best_params = []\n",
    "    train_least_smape = np.inf\n",
    "    test_least_smape = np.inf\n",
    "    cntr = 0 \n",
    "    start = time.time()\n",
    "    for s in range(0,13,6):\n",
    "        for p in range(0,7): \n",
    "            for q in range(0,3): \n",
    "                if is_stationary: \n",
    "                    d = 0 \n",
    "                    D = 0 \n",
    "                    for P in range(0,3):\n",
    "                        for Q in range(0,3):\n",
    "                            train_least_smape, test_least_smape, best_params = do_major_task(p,d,q,P,D,Q,s,data, train_least_smape, test_least_smape,best_params)\n",
    "#                             pbar.update(1)\n",
    "                            cntr += 1\n",
    "                            if cntr % 100 == 0 : \n",
    "                                end = time.time()\n",
    "                                print(f\"{cntr}/{total}\",cfip,train_least_smape, test_least_smape, best_params, (end-start) ,\" seconds\")\n",
    "                else: \n",
    "                    for d in range(0,2):\n",
    "                        for P in range(0,3):\n",
    "                            for Q in range(0,3):\n",
    "                                for D in range(0,2): \n",
    "                                    train_least_smape, test_least_smape, best_params = do_major_task(p,d,q,P,D,Q,s,data, train_least_smape, test_least_smape,best_params)\n",
    "#                                     pbar.update(1)\n",
    "                                    cntr += 1\n",
    "                                    if cntr % 100 == 0 : \n",
    "                                        end = time.time()\n",
    "                                        print(f\"{cntr}/{total}\",cfip,train_least_smape, test_least_smape, best_params, (end-start) ,\" seconds\")\n",
    "    return best_params,train_least_smape, test_least_smape\n"
   ]
  },
  {
   "cell_type": "code",
   "execution_count": null,
   "id": "5a5316ad",
   "metadata": {},
   "outputs": [
    {
     "name": "stdout",
     "output_type": "stream",
     "text": [
      "100/567 1099 0.018289611190819875 0.031947488783744836 [3, 0, 0, 0, 0, 0, 0] 0.0  minutes passed\n",
      "200/567 1099 0.02077227596521458 0.026868570578053065 [6, 0, 0, 0, 0, 0, 0] 0.0  minutes passed\n"
     ]
    }
   ],
   "source": [
    "cfip = clusters[\"0\"][0]\n",
    "data = mbd_data[mbd_data.cfips == cfip][\"microbusiness_density\"].values\n",
    "best_params,train_least_smape, test_least_smape = get_best_params(data)"
   ]
  },
  {
   "cell_type": "code",
   "execution_count": null,
   "id": "b3b1c4cb",
   "metadata": {},
   "outputs": [],
   "source": [
    "best_params,train_least_smape, test_least_smape"
   ]
  },
  {
   "cell_type": "code",
   "execution_count": null,
   "id": "4718627e",
   "metadata": {},
   "outputs": [],
   "source": [
    "cfip = clusters[\"0\"][0]\n",
    "data = mbd_data[mbd_data.cfips == cfip][\"microbusiness_density\"].values\n",
    "best_params,train_least_smape, test_least_smape = get_best_params(data)"
   ]
  },
  {
   "cell_type": "code",
   "execution_count": null,
   "id": "e06b59d3",
   "metadata": {},
   "outputs": [],
   "source": [
    "cfips_selected = clusters[\"0\"][:2]\n",
    "with multiprocessing.Pool(processes=2) as pool: \n",
    "    pool.map(get_best_params, cfips_selected)"
   ]
  },
  {
   "cell_type": "code",
   "execution_count": null,
   "id": "d056b345",
   "metadata": {},
   "outputs": [],
   "source": []
  }
 ],
 "metadata": {
  "kernelspec": {
   "display_name": "Python 3 (ipykernel)",
   "language": "python",
   "name": "python3"
  },
  "language_info": {
   "codemirror_mode": {
    "name": "ipython",
    "version": 3
   },
   "file_extension": ".py",
   "mimetype": "text/x-python",
   "name": "python",
   "nbconvert_exporter": "python",
   "pygments_lexer": "ipython3",
   "version": "3.9.7"
  }
 },
 "nbformat": 4,
 "nbformat_minor": 5
}
