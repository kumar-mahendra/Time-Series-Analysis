{
 "cells": [
  {
   "cell_type": "code",
   "execution_count": 1,
   "id": "69c1cfb3",
   "metadata": {},
   "outputs": [],
   "source": [
    "import pandas as pd \n",
    "import numpy as np \n",
    "import json\n",
    "import matplotlib.pyplot as plt\n",
    "from sklearn.preprocessing import MinMaxScaler\n",
    "from sklearn.linear_model import LinearRegression\n",
    "from statsmodels.tsa.statespace.sarimax import SARIMAX\n",
    "from statsmodels.graphics.tsaplots import plot_acf\n",
    "from statsmodels.tsa.seasonal import seasonal_decompose\n",
    "from statsmodels.tsa.stattools import adfuller\n",
    "from sklearn.model_selection import train_test_split\n",
    "import statsmodels.api as sm\n",
    "from tqdm import tqdm \n",
    "from sklearn.metrics import mean_squared_error\n",
    "import warnings\n",
    "warnings.filterwarnings(\"ignore\")\n",
    "import time "
   ]
  },
  {
   "cell_type": "code",
   "execution_count": 2,
   "id": "0452b68b",
   "metadata": {},
   "outputs": [],
   "source": [
    "# load data \n",
    "mbd_data = pd.read_csv('./outputs/mbd_data.csv')\n",
    "clusters = json.loads(open('./outputs/clusters_sarima.json',\"r\").read())  # change here clusters_sarima\n",
    "cluster_keys = [\"0\",\"1\",\"2\",\"3\",\"4\",\"5\",\"6\",\"-1\"]\n",
    "mbd_data = mbd_data.sort_values(by=[\"cfips\",\"first_day_of_month\"]).reset_index(drop=True)\n",
    "mbd_data.median_hh_inc.ffill(inplace=True)\n",
    "mbd_data.pct_it_workers.ffill(inplace=True)\n",
    "\n",
    "sc = MinMaxScaler()\n",
    "mbd_data.median_hh_inc = sc.fit_transform( mbd_data.median_hh_inc.values.reshape(-1,1) ).reshape(-1)\n",
    "\n",
    "cfips = mbd_data.cfips.unique()"
   ]
  },
  {
   "cell_type": "code",
   "execution_count": 4,
   "id": "11c6d7c8",
   "metadata": {},
   "outputs": [],
   "source": [
    "def smape(y_true, y_pred):\n",
    "    numerator = np.abs(y_pred - y_true)\n",
    "    denominator = (np.abs(y_pred) + np.abs(y_true)) / 2\n",
    "    smape_val = np.mean(numerator / denominator)\n",
    "    return smape_val"
   ]
  },
  {
   "cell_type": "code",
   "execution_count": 5,
   "id": "6696e483",
   "metadata": {},
   "outputs": [],
   "source": [
    "# Plot a county \n",
    "\n",
    "def plot_county(cfip):\n",
    "#     cfip = clusters[\"-1\"][0]\n",
    "    location = mbd_data[mbd_data.cfips == cfip].county.iloc[0] + \", \" +mbd_data[mbd_data.cfips == cfip].state.iloc[0]\n",
    "    # Create a figure and axis object\n",
    "    fig, ax = plt.subplots(figsize=(10, 6))\n",
    "    dates = pd.date_range(start='2019-08-01', end='2022-12-01', freq='MS')\n",
    "    values = mbd_data[mbd_data.cfips == cfip][\"microbusiness_density\"].values\n",
    "\n",
    "    # Plot the line\n",
    "    ax.plot(dates, values)\n",
    "\n",
    "    # Set the axis labels and title\n",
    "    ax.set_xlabel('Date')\n",
    "    ax.set_ylabel('Microbusiness Density')\n",
    "    ax.set_title(f'{location} ( CFIP {cfip} )  ')\n",
    "\n",
    "    # Rotate the x-axis tick labels\n",
    "    plt.setp(ax.get_xticklabels(), rotation=45, ha='right')\n",
    "\n",
    "    # Show the plot\n",
    "    plt.show()"
   ]
  },
  {
   "cell_type": "code",
   "execution_count": 11,
   "id": "30f28379",
   "metadata": {},
   "outputs": [
    {
     "data": {
      "text/plain": [
       "(9, 26)"
      ]
     },
     "execution_count": 11,
     "metadata": {},
     "output_type": "execute_result"
    }
   ],
   "source": [
    "# Adfuller Test : Check if for any county, microbusiness density is stationary \n",
    "\n",
    "# cfip = clusters[\"-1\"][1]\n",
    "stationary_count = 0 \n",
    "stationary_counties = []\n",
    "for cfip in clusters[\"0\"]: \n",
    "    cfip = int(cfip)\n",
    "    location = mbd_data[mbd_data.cfips == cfip].county.iloc[0] + \", \" +mbd_data[mbd_data.cfips == cfip].state.iloc[0]\n",
    "    values = mbd_data[mbd_data.cfips == cfip][\"microbusiness_density\"].values\n",
    "\n",
    "    p_value = adfuller(values)[1]\n",
    "    if p_value < 0.01 : \n",
    "        # reject null hypothesis . So time series is stationary \n",
    "        stationary_count += 1 \n",
    "        stationary_counties.append(cfip)\n",
    "stationary_count, len(clusters[\"0\"])"
   ]
  },
  {
   "cell_type": "code",
   "execution_count": null,
   "id": "e19ef7f2",
   "metadata": {},
   "outputs": [],
   "source": []
  },
  {
   "cell_type": "code",
   "execution_count": null,
   "id": "b331df19",
   "metadata": {},
   "outputs": [],
   "source": []
  },
  {
   "cell_type": "code",
   "execution_count": null,
   "id": "e8d64b45",
   "metadata": {},
   "outputs": [],
   "source": []
  },
  {
   "cell_type": "code",
   "execution_count": null,
   "id": "d6e4d2fd",
   "metadata": {},
   "outputs": [],
   "source": []
  }
 ],
 "metadata": {
  "kernelspec": {
   "display_name": "Python 3 (ipykernel)",
   "language": "python",
   "name": "python3"
  },
  "language_info": {
   "codemirror_mode": {
    "name": "ipython",
    "version": 3
   },
   "file_extension": ".py",
   "mimetype": "text/x-python",
   "name": "python",
   "nbconvert_exporter": "python",
   "pygments_lexer": "ipython3",
   "version": "3.9.7"
  }
 },
 "nbformat": 4,
 "nbformat_minor": 5
}
